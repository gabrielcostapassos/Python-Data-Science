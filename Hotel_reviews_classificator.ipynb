{
  "nbformat": 4,
  "nbformat_minor": 0,
  "metadata": {
    "colab": {
      "name": "Hotel_reviews_classificator.ipynb",
      "provenance": [],
      "collapsed_sections": [],
      "toc_visible": true,
      "include_colab_link": true
    },
    "kernelspec": {
      "name": "python3",
      "display_name": "Python 3"
    }
  },
  "cells": [
    {
      "cell_type": "markdown",
      "metadata": {
        "id": "view-in-github",
        "colab_type": "text"
      },
      "source": [
        "<a href=\"https://colab.research.google.com/github/gabrielcostapassos/Python-Data-Science/blob/master/Hotel_reviews_classificator.ipynb\" target=\"_parent\"><img src=\"https://colab.research.google.com/assets/colab-badge.svg\" alt=\"Open In Colab\"/></a>"
      ]
    },
    {
      "cell_type": "code",
      "metadata": {
        "colab": {
          "base_uri": "https://localhost:8080/"
        },
        "id": "gQYd6QhmzZes",
        "cellView": "form",
        "outputId": "f8a3f6cd-8540-4a2a-c3ec-0a88b1db81f3"
      },
      "source": [
        "#@title **Montar Google Drive e dar permissão** { vertical-output: true}\n",
        "from google.colab import drive\n",
        "drive.mount('/content/drive')"
      ],
      "execution_count": null,
      "outputs": [
        {
          "output_type": "stream",
          "text": [
            "Drive already mounted at /content/drive; to attempt to forcibly remount, call drive.mount(\"/content/drive\", force_remount=True).\n"
          ],
          "name": "stdout"
        }
      ]
    },
    {
      "cell_type": "code",
      "metadata": {
        "colab": {
          "base_uri": "https://localhost:8080/"
        },
        "id": "y_hqG81Q1I39",
        "outputId": "9e78af78-3910-433f-cc6b-bd0c5553467d"
      },
      "source": [
        "from google.colab import drive\n",
        "drive.mount('/content/drive')"
      ],
      "execution_count": null,
      "outputs": [
        {
          "output_type": "stream",
          "text": [
            "Mounted at /content/drive\n"
          ],
          "name": "stdout"
        }
      ]
    },
    {
      "cell_type": "markdown",
      "metadata": {
        "id": "aiSLhsdnoQ8N"
      },
      "source": [
        "# Introdução"
      ]
    },
    {
      "cell_type": "markdown",
      "metadata": {
        "id": "6xoivTFxocRI"
      },
      "source": [
        "\r\n",
        "A escolha de um hotel é uma tarefa difícil. São diversos fatores que podem contribuir para uma boa escolha e mesmo assim, podemos escolher errado.\r\n",
        "\r\n",
        "Para ajudar os futuros viajantes a terem uma experiência melhor, a ideia é classificar os reviews para ajudar a achar informações que lhes sejam úteis para formar uma opinião justa a respeito do hotel avaliado.\r\n",
        "\r\n",
        "Usaremos uma base de dados de avaliações de hotéis extraída do site https://www.booking.com. \r\n",
        "Está base contém 515 mil avaliações de hotéis na Europa. \r\n",
        "\r\n",
        "Onde cada observação consiste em uma avaliação de cliente para um hotel.\r\n",
        "\r\n",
        "Cada avaliação do cliente é composta por um feedback textual da experiência do cliente no hotel e uma avaliação geral. \r\n",
        "\r\n",
        "Assim observando as avaliações dos hotéis, podemos obter informações sobre os hotéis mais bem avaliados e prever qual é o melhor hotel para se hospedar durante sua visita à Europa. \r\n",
        "\r\n",
        "Os dados podem ser encontrados aqui: https://www.kaggle.com/jiashenliu/515k-hotel-reviews-data-in-europe\r\n",
        "\r\n",
        "Para cada revisão textual, queremos prever se corresponde a uma boa avaliação (o cliente está feliz) ou a uma má (o cliente está insatisfeito). \r\n",
        "\r\n",
        "As avaliações gerais das avaliações podem variar de 2,5 à 10. \r\n",
        "\r\n",
        "Para simplificar o problema, vamos dividi-los em duas categorias:\r\n",
        "\r\n",
        "* As críticas negativas têm classificações gerais <5\r\n",
        "* Boas críticas têm classificações gerais> = 5\r\n",
        "\r\n",
        "O desafio aqui é ser capaz de prever essas informações usando apenas os dados textuais brutos."
      ]
    },
    {
      "cell_type": "markdown",
      "metadata": {
        "id": "vq6KljONrXyo"
      },
      "source": [
        "# Analise Exploratória dos Dados"
      ]
    },
    {
      "cell_type": "markdown",
      "metadata": {
        "id": "Fh1Fblp6rfvk"
      },
      "source": [
        "Este conjunto de dados contém 515.738 avaliações de clientes e pontuação de 1493 hotéis de luxo em toda a Europa. \r\n",
        "\r\n",
        "O arquivo csv contém 17 campos. A descrição de cada campo é a seguinte:\r\n",
        "\r\n",
        "**Hotel_Address:** Endereço do hotel.\r\n",
        "\r\n",
        "**Review_Date:** Data em que o hóspede postou o comentário.\r\n",
        "\r\n",
        "**Average_Score:** Pontuação média do hotel, calculada com base no último comentário do ano anterior.\r\n",
        "\r\n",
        "**Hotel_Name:** Nome do Hotel\r\n",
        "\r\n",
        "**Reviewer_Nationality:** Nacionalidade do hóspede.\r\n",
        "\r\n",
        "**Negative_Review:** Comentário negativo que o hóspede deu ao hotel. Se o hóspede não der a avaliação negativa, ela deve ser: 'No negative'\r\n",
        "\r\n",
        "**Review_Total_Negative_Word_Counts:** Número total de palavras no comentário negativa.\r\n",
        "\r\n",
        "**Positive_Review:** Comentário positivo que o hóspede deu ao hotel. Se o hóspede não der a crítica negativa, ela deve ser: 'No positive'\r\n",
        "\r\n",
        "**Review_Total_Positive_Word_Counts:** Número total de palavras no comentário positivo.\r\n",
        "\r\n",
        "**Reviewer_Score:** Pontuação que o hóspede deu ao hotel, com base em sua experiência\r\n",
        "\r\n",
        "**Total_Number_of_Reviews_Reviewer_Has_Given:** Número de avaliações que os hóspedes deram no passado.\r\n",
        "\r\n",
        "**Total_Number_of_Reviews:** Número total de comentários válidos que o hotel possui.\r\n",
        "\r\n",
        "**Tags:** O hóspede deu ao hotel.\r\n",
        "\r\n",
        "**Days_since_review:** Duração entre a data do comentário e a data do post.\r\n",
        "\r\n",
        "**Additional_Number_of_Scoring:** Indica quantas pontuações válidas sem comentários existem.\r\n",
        "\r\n",
        "**lat:** Latitude do hotel\r\n",
        "\r\n",
        "**lng:** Longtitude do hotel"
      ]
    },
    {
      "cell_type": "code",
      "metadata": {
        "colab": {
          "base_uri": "https://localhost:8080/",
          "height": 306
        },
        "id": "4OaMob6M0aSh",
        "outputId": "84db82ab-8a06-4e89-bf8a-44ea17c74aba"
      },
      "source": [
        "# importando bibliotecas\n",
        "import pandas as pd\n",
        "import matplotlib.pyplot as plt\n",
        "\n",
        "# Caminho onde está o arquivo\n",
        "caminho_arquivo = '/content/drive/My Drive/Colab Notebooks/data/Hotel_Reviews.csv'\n",
        "\n",
        "reviews = pd.read_csv(caminho_arquivo, dtype=str)#, nrows=36000)\n",
        "\n",
        "# Exibir os 2 primeiros registros do dataframe\n",
        "reviews.head(2)"
      ],
      "execution_count": null,
      "outputs": [
        {
          "output_type": "execute_result",
          "data": {
            "text/html": [
              "<div>\n",
              "<style scoped>\n",
              "    .dataframe tbody tr th:only-of-type {\n",
              "        vertical-align: middle;\n",
              "    }\n",
              "\n",
              "    .dataframe tbody tr th {\n",
              "        vertical-align: top;\n",
              "    }\n",
              "\n",
              "    .dataframe thead th {\n",
              "        text-align: right;\n",
              "    }\n",
              "</style>\n",
              "<table border=\"1\" class=\"dataframe\">\n",
              "  <thead>\n",
              "    <tr style=\"text-align: right;\">\n",
              "      <th></th>\n",
              "      <th>Hotel_Address</th>\n",
              "      <th>Additional_Number_of_Scoring</th>\n",
              "      <th>Review_Date</th>\n",
              "      <th>Average_Score</th>\n",
              "      <th>Hotel_Name</th>\n",
              "      <th>Reviewer_Nationality</th>\n",
              "      <th>Negative_Review</th>\n",
              "      <th>Review_Total_Negative_Word_Counts</th>\n",
              "      <th>Total_Number_of_Reviews</th>\n",
              "      <th>Positive_Review</th>\n",
              "      <th>Review_Total_Positive_Word_Counts</th>\n",
              "      <th>Total_Number_of_Reviews_Reviewer_Has_Given</th>\n",
              "      <th>Reviewer_Score</th>\n",
              "      <th>Tags</th>\n",
              "      <th>days_since_review</th>\n",
              "      <th>lat</th>\n",
              "      <th>lng</th>\n",
              "    </tr>\n",
              "  </thead>\n",
              "  <tbody>\n",
              "    <tr>\n",
              "      <th>0</th>\n",
              "      <td>s Gravesandestraat 55 Oost 1092 AA Amsterdam ...</td>\n",
              "      <td>194</td>\n",
              "      <td>8/3/2017</td>\n",
              "      <td>7.7</td>\n",
              "      <td>Hotel Arena</td>\n",
              "      <td>Russia</td>\n",
              "      <td>I am so angry that i made this post available...</td>\n",
              "      <td>397</td>\n",
              "      <td>1403</td>\n",
              "      <td>Only the park outside of the hotel was beauti...</td>\n",
              "      <td>11</td>\n",
              "      <td>7</td>\n",
              "      <td>2.9</td>\n",
              "      <td>[' Leisure trip ', ' Couple ', ' Duplex Double...</td>\n",
              "      <td>0 days</td>\n",
              "      <td>52.3605759</td>\n",
              "      <td>4.9159683</td>\n",
              "    </tr>\n",
              "    <tr>\n",
              "      <th>1</th>\n",
              "      <td>s Gravesandestraat 55 Oost 1092 AA Amsterdam ...</td>\n",
              "      <td>194</td>\n",
              "      <td>8/3/2017</td>\n",
              "      <td>7.7</td>\n",
              "      <td>Hotel Arena</td>\n",
              "      <td>Ireland</td>\n",
              "      <td>No Negative</td>\n",
              "      <td>0</td>\n",
              "      <td>1403</td>\n",
              "      <td>No real complaints the hotel was great great ...</td>\n",
              "      <td>105</td>\n",
              "      <td>7</td>\n",
              "      <td>7.5</td>\n",
              "      <td>[' Leisure trip ', ' Couple ', ' Duplex Double...</td>\n",
              "      <td>0 days</td>\n",
              "      <td>52.3605759</td>\n",
              "      <td>4.9159683</td>\n",
              "    </tr>\n",
              "  </tbody>\n",
              "</table>\n",
              "</div>"
            ],
            "text/plain": [
              "                                       Hotel_Address  ...        lng\n",
              "0   s Gravesandestraat 55 Oost 1092 AA Amsterdam ...  ...  4.9159683\n",
              "1   s Gravesandestraat 55 Oost 1092 AA Amsterdam ...  ...  4.9159683\n",
              "\n",
              "[2 rows x 17 columns]"
            ]
          },
          "metadata": {
            "tags": []
          },
          "execution_count": 1
        }
      ]
    },
    {
      "cell_type": "code",
      "metadata": {
        "colab": {
          "base_uri": "https://localhost:8080/"
        },
        "id": "W7CwQOQCxD5-",
        "outputId": "2daeae56-be60-4f1c-a370-3d4fe91227ff"
      },
      "source": [
        "# Verificando quantidade de linha e colunas do Dataframe\r\n",
        "reviews.shape"
      ],
      "execution_count": null,
      "outputs": [
        {
          "output_type": "execute_result",
          "data": {
            "text/plain": [
              "(515738, 17)"
            ]
          },
          "metadata": {
            "tags": []
          },
          "execution_count": 2
        }
      ]
    },
    {
      "cell_type": "code",
      "metadata": {
        "colab": {
          "base_uri": "https://localhost:8080/",
          "height": 316
        },
        "id": "HO487h5M9B_A",
        "outputId": "83243113-c479-4df1-d54f-4bfe4fcb7e52"
      },
      "source": [
        "# Verificando as caracteristicas do Dataframe\r\n",
        "reviews.describe()"
      ],
      "execution_count": null,
      "outputs": [
        {
          "output_type": "execute_result",
          "data": {
            "text/html": [
              "<div>\n",
              "<style scoped>\n",
              "    .dataframe tbody tr th:only-of-type {\n",
              "        vertical-align: middle;\n",
              "    }\n",
              "\n",
              "    .dataframe tbody tr th {\n",
              "        vertical-align: top;\n",
              "    }\n",
              "\n",
              "    .dataframe thead th {\n",
              "        text-align: right;\n",
              "    }\n",
              "</style>\n",
              "<table border=\"1\" class=\"dataframe\">\n",
              "  <thead>\n",
              "    <tr style=\"text-align: right;\">\n",
              "      <th></th>\n",
              "      <th>Hotel_Address</th>\n",
              "      <th>Additional_Number_of_Scoring</th>\n",
              "      <th>Review_Date</th>\n",
              "      <th>Average_Score</th>\n",
              "      <th>Hotel_Name</th>\n",
              "      <th>Reviewer_Nationality</th>\n",
              "      <th>Negative_Review</th>\n",
              "      <th>Review_Total_Negative_Word_Counts</th>\n",
              "      <th>Total_Number_of_Reviews</th>\n",
              "      <th>Positive_Review</th>\n",
              "      <th>Review_Total_Positive_Word_Counts</th>\n",
              "      <th>Total_Number_of_Reviews_Reviewer_Has_Given</th>\n",
              "      <th>Reviewer_Score</th>\n",
              "      <th>Tags</th>\n",
              "      <th>days_since_review</th>\n",
              "      <th>lat</th>\n",
              "      <th>lng</th>\n",
              "    </tr>\n",
              "  </thead>\n",
              "  <tbody>\n",
              "    <tr>\n",
              "      <th>count</th>\n",
              "      <td>515738</td>\n",
              "      <td>515738</td>\n",
              "      <td>515738</td>\n",
              "      <td>515738</td>\n",
              "      <td>515738</td>\n",
              "      <td>515738</td>\n",
              "      <td>515738</td>\n",
              "      <td>515738</td>\n",
              "      <td>515738</td>\n",
              "      <td>515738</td>\n",
              "      <td>515738</td>\n",
              "      <td>515738</td>\n",
              "      <td>515738</td>\n",
              "      <td>515738</td>\n",
              "      <td>515738</td>\n",
              "      <td>512470</td>\n",
              "      <td>512470</td>\n",
              "    </tr>\n",
              "    <tr>\n",
              "      <th>unique</th>\n",
              "      <td>1493</td>\n",
              "      <td>480</td>\n",
              "      <td>731</td>\n",
              "      <td>34</td>\n",
              "      <td>1492</td>\n",
              "      <td>227</td>\n",
              "      <td>330011</td>\n",
              "      <td>402</td>\n",
              "      <td>1142</td>\n",
              "      <td>412601</td>\n",
              "      <td>365</td>\n",
              "      <td>198</td>\n",
              "      <td>37</td>\n",
              "      <td>55242</td>\n",
              "      <td>731</td>\n",
              "      <td>1472</td>\n",
              "      <td>1472</td>\n",
              "    </tr>\n",
              "    <tr>\n",
              "      <th>top</th>\n",
              "      <td>163 Marsh Wall Docklands Tower Hamlets London ...</td>\n",
              "      <td>2682</td>\n",
              "      <td>8/2/2017</td>\n",
              "      <td>8.4</td>\n",
              "      <td>Britannia International Hotel Canary Wharf</td>\n",
              "      <td>United Kingdom</td>\n",
              "      <td>No Negative</td>\n",
              "      <td>0</td>\n",
              "      <td>9086</td>\n",
              "      <td>No Positive</td>\n",
              "      <td>0</td>\n",
              "      <td>1</td>\n",
              "      <td>10</td>\n",
              "      <td>[' Leisure trip ', ' Couple ', ' Double Room '...</td>\n",
              "      <td>1 days</td>\n",
              "      <td>51.5019097</td>\n",
              "      <td>-0.0232208</td>\n",
              "    </tr>\n",
              "    <tr>\n",
              "      <th>freq</th>\n",
              "      <td>4789</td>\n",
              "      <td>4789</td>\n",
              "      <td>2585</td>\n",
              "      <td>41222</td>\n",
              "      <td>4789</td>\n",
              "      <td>245246</td>\n",
              "      <td>127890</td>\n",
              "      <td>127890</td>\n",
              "      <td>4789</td>\n",
              "      <td>35946</td>\n",
              "      <td>35946</td>\n",
              "      <td>154640</td>\n",
              "      <td>115853</td>\n",
              "      <td>5101</td>\n",
              "      <td>2585</td>\n",
              "      <td>4789</td>\n",
              "      <td>4789</td>\n",
              "    </tr>\n",
              "  </tbody>\n",
              "</table>\n",
              "</div>"
            ],
            "text/plain": [
              "                                            Hotel_Address  ...         lng\n",
              "count                                              515738  ...      512470\n",
              "unique                                               1493  ...        1472\n",
              "top     163 Marsh Wall Docklands Tower Hamlets London ...  ...  -0.0232208\n",
              "freq                                                 4789  ...        4789\n",
              "\n",
              "[4 rows x 17 columns]"
            ]
          },
          "metadata": {
            "tags": []
          },
          "execution_count": 3
        }
      ]
    },
    {
      "cell_type": "code",
      "metadata": {
        "colab": {
          "base_uri": "https://localhost:8080/",
          "height": 280
        },
        "id": "5O58NJwp-D2t",
        "outputId": "338b3d9a-ca74-4534-85c4-dbaf08f6a12a"
      },
      "source": [
        "# Verificando valorer nulos\r\n",
        "plt.style.use('bmh')\r\n",
        "reviews.isnull().sum().plot(kind='barh')"
      ],
      "execution_count": null,
      "outputs": [
        {
          "output_type": "execute_result",
          "data": {
            "text/plain": [
              "<matplotlib.axes._subplots.AxesSubplot at 0x7faf2580ef10>"
            ]
          },
          "metadata": {
            "tags": []
          },
          "execution_count": 4
        },
        {
          "output_type": "display_data",
          "data": {
            "image/png": "[encoded data removed]",
            "text/plain": [
              "<Figure size 432x288 with 1 Axes>"
            ]
          },
          "metadata": {
            "tags": [],
            "needs_background": "light"
          }
        }
      ]
    },
    {
      "cell_type": "code",
      "metadata": {
        "colab": {
          "base_uri": "https://localhost:8080/",
          "height": 182
        },
        "id": "jd8qPC9OlSvu",
        "outputId": "a1171f52-befc-44f2-b6ed-da3901434042"
      },
      "source": [
        "reviews['Negative_Review'][0]"
      ],
      "execution_count": null,
      "outputs": [
        {
          "output_type": "execute_result",
          "data": {
            "application/vnd.google.colaboratory.intrinsic+json": {
              "type": "string"
            },
            "text/plain": [
              "' I am so angry that i made this post available via all possible sites i use when planing my trips so no one will make the mistake of booking this place I made my booking via booking com We stayed for 6 nights in this hotel from 11 to 17 July Upon arrival we were placed in a small room on the 2nd floor of the hotel It turned out that this was not the room we booked I had specially reserved the 2 level duplex room so that we would have a big windows and high ceilings The room itself was ok if you don t mind the broken window that can not be closed hello rain and a mini fridge that contained some sort of a bio weapon at least i guessed so by the smell of it I intimately asked to change the room and after explaining 2 times that i booked a duplex btw it costs the same as a simple double but got way more volume due to the high ceiling was offered a room but only the next day SO i had to check out the next day before 11 o clock in order to get the room i waned to Not the best way to begin your holiday So we had to wait till 13 00 in order to check in my new room what a wonderful waist of my time The room 023 i got was just as i wanted to peaceful internal garden view big window We were tired from waiting the room so we placed our belongings and rushed to the city In the evening it turned out that there was a constant noise in the room i guess it was made by vibrating vent tubes or something it was constant and annoying as hell AND it did not stop even at 2 am making it hard to fall asleep for me and my wife I have an audio recording that i can not attach here but if you want i can send it via e mail The next day the technician came but was not able to determine the cause of the disturbing sound so i was offered to change the room once again the hotel was fully booked and they had only 1 room left the one that was smaller but seems newer '"
            ]
          },
          "metadata": {
            "tags": []
          },
          "execution_count": 5
        }
      ]
    },
    {
      "cell_type": "markdown",
      "metadata": {
        "id": "2aT6zIZD5HVu"
      },
      "source": [
        "# Preparação dos Dados e Criação do Modelo"
      ]
    },
    {
      "cell_type": "code",
      "metadata": {
        "colab": {
          "base_uri": "https://localhost:8080/",
          "height": 143
        },
        "id": "2JaFxbYBmVT2",
        "outputId": "fb7f55f9-1601-4fe0-975d-b01a74a70a71"
      },
      "source": [
        "# Removendo valores \"No Negative\" e no \"No Positive\", que foram inseridos quando não há review.\r\n",
        "reviews[\"Negative_Review\"] = reviews[\"Negative_Review\"].apply(lambda x: x.replace(\"No Negative\", \"\"))\r\n",
        "reviews[\"Positive_Review\"] = reviews[\"Positive_Review\"].apply(lambda x: x.replace(\"No Positive\", \"\"))\r\n",
        "\r\n",
        "# Concatenando os reviews positivos e negativos\r\n",
        "reviews[\"review\"] = reviews[\"Negative_Review\"] + reviews[\"Positive_Review\"]\r\n",
        "\r\n",
        "# Aplicando 1 para reviews positivos e 0 para negativos de acordo com o score atribuido\r\n",
        "reviews.Reviewer_Score = pd.to_numeric(reviews.Reviewer_Score).astype(pd.Float64Index(reviews.Reviewer_Score))\r\n",
        "reviews[\"label\"] = reviews[\"Reviewer_Score\"].apply(lambda x: 1 if x > 5 else 0)\r\n",
        "\r\n",
        "\r\n",
        "df_reviews = reviews[[\"review\", \"label\"]]\r\n",
        "# Separados positivos e negativos em 2 dataframes\r\n",
        "df_negative = df_reviews.query(\"label == 0\")\r\n",
        "df_positive = df_reviews.query(\"label == 1\")\r\n",
        "df_reviews.head(3)"
      ],
      "execution_count": null,
      "outputs": [
        {
          "output_type": "execute_result",
          "data": {
            "text/html": [
              "<div>\n",
              "<style scoped>\n",
              "    .dataframe tbody tr th:only-of-type {\n",
              "        vertical-align: middle;\n",
              "    }\n",
              "\n",
              "    .dataframe tbody tr th {\n",
              "        vertical-align: top;\n",
              "    }\n",
              "\n",
              "    .dataframe thead th {\n",
              "        text-align: right;\n",
              "    }\n",
              "</style>\n",
              "<table border=\"1\" class=\"dataframe\">\n",
              "  <thead>\n",
              "    <tr style=\"text-align: right;\">\n",
              "      <th></th>\n",
              "      <th>review</th>\n",
              "      <th>label</th>\n",
              "    </tr>\n",
              "  </thead>\n",
              "  <tbody>\n",
              "    <tr>\n",
              "      <th>0</th>\n",
              "      <td>I am so angry that i made this post available...</td>\n",
              "      <td>0</td>\n",
              "    </tr>\n",
              "    <tr>\n",
              "      <th>1</th>\n",
              "      <td>No real complaints the hotel was great great ...</td>\n",
              "      <td>1</td>\n",
              "    </tr>\n",
              "    <tr>\n",
              "      <th>2</th>\n",
              "      <td>Rooms are nice but for elderly a bit difficul...</td>\n",
              "      <td>1</td>\n",
              "    </tr>\n",
              "  </tbody>\n",
              "</table>\n",
              "</div>"
            ],
            "text/plain": [
              "                                              review  label\n",
              "0   I am so angry that i made this post available...      0\n",
              "1   No real complaints the hotel was great great ...      1\n",
              "2   Rooms are nice but for elderly a bit difficul...      1"
            ]
          },
          "metadata": {
            "tags": []
          },
          "execution_count": 60
        }
      ]
    },
    {
      "cell_type": "code",
      "metadata": {
        "id": "Bs-TlaEP3TD8"
      },
      "source": [
        "#Selecionado uma base randomica de 18k registros negativos\r\n",
        "import random\r\n",
        "import numpy as np\r\n",
        "# fixar semente aleatória - sempre o mesmo resultado\r\n",
        "random.seed(100)\r\n",
        "N = len(df_negative)\r\n",
        "n = 18000\r\n",
        "idx = random.sample(range(0, N-1), n)\r\n",
        "df_negative = df_negative.iloc[idx,:]"
      ],
      "execution_count": null,
      "outputs": []
    },
    {
      "cell_type": "code",
      "metadata": {
        "id": "cVpLZx_G8XwY"
      },
      "source": [
        "#Selecionado uma base randomica de 18k registros positivos\r\n",
        "import random\r\n",
        "import numpy as np\r\n",
        "# fixar semente aleatória - sempre o mesmo resultado\r\n",
        "random.seed(100)\r\n",
        "N = len(df_positive)\r\n",
        "n = 18000\r\n",
        "idx = random.sample(range(0, N-1), n)\r\n",
        "df_positive = df_positive.iloc[idx,:]"
      ],
      "execution_count": null,
      "outputs": []
    },
    {
      "cell_type": "code",
      "metadata": {
        "id": "GaYEuF_o8eoS"
      },
      "source": [
        "# Concatenado os 2 dataframes\r\n",
        "df_reviews = pd.concat([df_positive, df_negative] , sort = False)"
      ],
      "execution_count": null,
      "outputs": []
    },
    {
      "cell_type": "code",
      "metadata": {
        "colab": {
          "base_uri": "https://localhost:8080/"
        },
        "id": "JBuvC2N_05B3",
        "outputId": "f50b2912-f7d0-4db1-b415-d15193cd52f9"
      },
      "source": [
        "df_reviews.shape"
      ],
      "execution_count": null,
      "outputs": [
        {
          "output_type": "execute_result",
          "data": {
            "text/plain": [
              "(36000, 2)"
            ]
          },
          "metadata": {
            "tags": []
          },
          "execution_count": 64
        }
      ]
    },
    {
      "cell_type": "code",
      "metadata": {
        "colab": {
          "base_uri": "https://localhost:8080/",
          "height": 182
        },
        "id": "0XL_sRiaQD7W",
        "outputId": "9047bb4f-ef4a-440d-a219-2dfe17a9de4f"
      },
      "source": [
        "df_reviews['review'][0]"
      ],
      "execution_count": null,
      "outputs": [
        {
          "output_type": "execute_result",
          "data": {
            "application/vnd.google.colaboratory.intrinsic+json": {
              "type": "string"
            },
            "text/plain": [
              "' I am so angry that i made this post available via all possible sites i use when planing my trips so no one will make the mistake of booking this place I made my booking via booking com We stayed for 6 nights in this hotel from 11 to 17 July Upon arrival we were placed in a small room on the 2nd floor of the hotel It turned out that this was not the room we booked I had specially reserved the 2 level duplex room so that we would have a big windows and high ceilings The room itself was ok if you don t mind the broken window that can not be closed hello rain and a mini fridge that contained some sort of a bio weapon at least i guessed so by the smell of it I intimately asked to change the room and after explaining 2 times that i booked a duplex btw it costs the same as a simple double but got way more volume due to the high ceiling was offered a room but only the next day SO i had to check out the next day before 11 o clock in order to get the room i waned to Not the best way to begin your holiday So we had to wait till 13 00 in order to check in my new room what a wonderful waist of my time The room 023 i got was just as i wanted to peaceful internal garden view big window We were tired from waiting the room so we placed our belongings and rushed to the city In the evening it turned out that there was a constant noise in the room i guess it was made by vibrating vent tubes or something it was constant and annoying as hell AND it did not stop even at 2 am making it hard to fall asleep for me and my wife I have an audio recording that i can not attach here but if you want i can send it via e mail The next day the technician came but was not able to determine the cause of the disturbing sound so i was offered to change the room once again the hotel was fully booked and they had only 1 room left the one that was smaller but seems newer  Only the park outside of the hotel was beautiful '"
            ]
          },
          "metadata": {
            "tags": []
          },
          "execution_count": 65
        }
      ]
    },
    {
      "cell_type": "code",
      "metadata": {
        "colab": {
          "base_uri": "https://localhost:8080/"
        },
        "id": "KjLia6bLsyvu",
        "outputId": "8be05331-ca4f-4af3-94ac-2abda121a48c"
      },
      "source": [
        "import nltk\r\n",
        "import re\r\n",
        "nltk.download('stopwords')\r\n",
        "nltk.download('rslp')\r\n",
        "nltk.download('punkt')\r\n",
        "\r\n",
        "stemmer = nltk.stem.RSLPStemmer()\r\n",
        "\r\n",
        "def stemmer_tokenizer(doc):\r\n",
        "  # considerar somente termos com letras e pelo menos 3 caracteres\r\n",
        "    termos = [termo for termo in nltk.word_tokenize(doc) if re.match(r'^[^\\W\\d]{3,}$', termo)]    \r\n",
        "    # aplicar stemmer\r\n",
        "    termos = [stemmer.stem(termo) for termo in termos]\r\n",
        "    return termos\r\n",
        "\r\n",
        "# stopwords stemmer\r\n",
        "stopwords = [stemmer.stem(s) for s in nltk.corpus.stopwords.words('english')]"
      ],
      "execution_count": null,
      "outputs": [
        {
          "output_type": "stream",
          "text": [
            "[nltk_data] Downloading package stopwords to /root/nltk_data...\n",
            "[nltk_data]   Package stopwords is already up-to-date!\n",
            "[nltk_data] Downloading package rslp to /root/nltk_data...\n",
            "[nltk_data]   Package rslp is already up-to-date!\n",
            "[nltk_data] Downloading package punkt to /root/nltk_data...\n",
            "[nltk_data]   Package punkt is already up-to-date!\n"
          ],
          "name": "stdout"
        }
      ]
    },
    {
      "cell_type": "code",
      "metadata": {
        "colab": {
          "base_uri": "https://localhost:8080/"
        },
        "id": "Vd0i93jHsg16",
        "outputId": "f855dd45-6409-4d29-adb4-4730ab6144cd"
      },
      "source": [
        "# criar vetor de características X com a contagem por tf.idf\r\n",
        "from sklearn.feature_extraction.text import TfidfVectorizer\r\n",
        "\r\n",
        "vectorizer = TfidfVectorizer(binary=False, norm='l1', use_idf=True, stop_words=stopwords, tokenizer=stemmer_tokenizer)\r\n",
        "y = df_reviews.label\r\n",
        "X = vectorizer.fit_transform(df_reviews.review.str.lower())\r\n",
        "X"
      ],
      "execution_count": null,
      "outputs": [
        {
          "output_type": "stream",
          "text": [
            "/usr/local/lib/python3.7/dist-packages/sklearn/feature_extraction/text.py:385: UserWarning: Your stop_words may be inconsistent with your preprocessing. Tokenizing the stop words generated tokens ['becau', 'bef', 'could', 'might', 'must', 'need', 'sha', 'tho', 'wh', 'would'] not in stop_words.\n",
            "  'stop_words.' % sorted(inconsistent))\n"
          ],
          "name": "stderr"
        },
        {
          "output_type": "execute_result",
          "data": {
            "text/plain": [
              "<36000x19241 sparse matrix of type '<class 'numpy.float64'>'\n",
              "\twith 680389 stored elements in Compressed Sparse Row format>"
            ]
          },
          "metadata": {
            "tags": []
          },
          "execution_count": 49
        }
      ]
    },
    {
      "cell_type": "code",
      "metadata": {
        "colab": {
          "base_uri": "https://localhost:8080/"
        },
        "id": "NNuzwV6ftp4o",
        "outputId": "144672a8-4c79-40a8-b3fb-876f96fb4a12"
      },
      "source": [
        "# dividir em conjunto de treinamento e testes\r\n",
        "from sklearn.model_selection import train_test_split\r\n",
        "\r\n",
        "X_train, X_test, y_train, y_test = train_test_split(X, y, test_size=0.3, random_state=100, stratify=y)\r\n",
        "X_train.shape, X_test.shape"
      ],
      "execution_count": null,
      "outputs": [
        {
          "output_type": "execute_result",
          "data": {
            "text/plain": [
              "((25200, 19241), (10800, 19241))"
            ]
          },
          "metadata": {
            "tags": []
          },
          "execution_count": 50
        }
      ]
    },
    {
      "cell_type": "code",
      "metadata": {
        "colab": {
          "base_uri": "https://localhost:8080/"
        },
        "id": "r5qxgiDPuGLH",
        "outputId": "b70a196c-4308-44b2-da59-e983e60e2703"
      },
      "source": [
        "# criar e treinar modelo de árvore de decisão\r\n",
        "from sklearn import tree\r\n",
        "dtree = tree.DecisionTreeClassifier(random_state=88, criterion='entropy')\r\n",
        "dtree.fit(X_train, y_train)"
      ],
      "execution_count": null,
      "outputs": [
        {
          "output_type": "execute_result",
          "data": {
            "text/plain": [
              "DecisionTreeClassifier(ccp_alpha=0.0, class_weight=None, criterion='entropy',\n",
              "                       max_depth=None, max_features=None, max_leaf_nodes=None,\n",
              "                       min_impurity_decrease=0.0, min_impurity_split=None,\n",
              "                       min_samples_leaf=1, min_samples_split=2,\n",
              "                       min_weight_fraction_leaf=0.0, presort='deprecated',\n",
              "                       random_state=88, splitter='best')"
            ]
          },
          "metadata": {
            "tags": []
          },
          "execution_count": 51
        }
      ]
    },
    {
      "cell_type": "code",
      "metadata": {
        "colab": {
          "base_uri": "https://localhost:8080/"
        },
        "id": "mmx8GgWPfuT8",
        "outputId": "5450ef2e-a77e-48c4-a5ce-8edb5166a467"
      },
      "source": [
        "# aplicar modelo no conjunto de testes\r\n",
        "y_predict = dtree.predict(X_test)\r\n",
        "y_predict"
      ],
      "execution_count": null,
      "outputs": [
        {
          "output_type": "execute_result",
          "data": {
            "text/plain": [
              "array([1, 0, 0, ..., 0, 1, 0])"
            ]
          },
          "metadata": {
            "tags": []
          },
          "execution_count": 52
        }
      ]
    },
    {
      "cell_type": "code",
      "metadata": {
        "colab": {
          "base_uri": "https://localhost:8080/"
        },
        "id": "ADisTWVEuR6B",
        "outputId": "7b933ef3-08dd-47f9-c561-d331fd4d78e2"
      },
      "source": [
        "# avaliar acurácia\r\n",
        "from sklearn.metrics import accuracy_score\r\n",
        "acuracia = accuracy_score(y_test,y_predict)\r\n",
        "acuracia"
      ],
      "execution_count": null,
      "outputs": [
        {
          "output_type": "execute_result",
          "data": {
            "text/plain": [
              "0.7374074074074074"
            ]
          },
          "metadata": {
            "tags": []
          },
          "execution_count": 53
        }
      ]
    },
    {
      "cell_type": "code",
      "metadata": {
        "colab": {
          "base_uri": "https://localhost:8080/",
          "height": 112
        },
        "id": "NPrOiOF8pIsv",
        "outputId": "1c18059b-bbfa-4211-cfaf-86ec12aeb170"
      },
      "source": [
        "# Matriz de confusão\r\n",
        "from sklearn.metrics import confusion_matrix\r\n",
        "import pandas as pd\r\n",
        "\r\n",
        "cm = confusion_matrix(y_test, y_predict)\r\n",
        "df_cm = pd.DataFrame(cm, columns=['Predito 0', 'Predito 1'], index=['Real 0', 'Real 1'])\r\n",
        "\r\n",
        "df_cm"
      ],
      "execution_count": null,
      "outputs": [
        {
          "output_type": "execute_result",
          "data": {
            "text/html": [
              "<div>\n",
              "<style scoped>\n",
              "    .dataframe tbody tr th:only-of-type {\n",
              "        vertical-align: middle;\n",
              "    }\n",
              "\n",
              "    .dataframe tbody tr th {\n",
              "        vertical-align: top;\n",
              "    }\n",
              "\n",
              "    .dataframe thead th {\n",
              "        text-align: right;\n",
              "    }\n",
              "</style>\n",
              "<table border=\"1\" class=\"dataframe\">\n",
              "  <thead>\n",
              "    <tr style=\"text-align: right;\">\n",
              "      <th></th>\n",
              "      <th>Predito 0</th>\n",
              "      <th>Predito 1</th>\n",
              "    </tr>\n",
              "  </thead>\n",
              "  <tbody>\n",
              "    <tr>\n",
              "      <th>Real 0</th>\n",
              "      <td>4025</td>\n",
              "      <td>1375</td>\n",
              "    </tr>\n",
              "    <tr>\n",
              "      <th>Real 1</th>\n",
              "      <td>1461</td>\n",
              "      <td>3939</td>\n",
              "    </tr>\n",
              "  </tbody>\n",
              "</table>\n",
              "</div>"
            ],
            "text/plain": [
              "        Predito 0  Predito 1\n",
              "Real 0       4025       1375\n",
              "Real 1       1461       3939"
            ]
          },
          "metadata": {
            "tags": []
          },
          "execution_count": 54
        }
      ]
    },
    {
      "cell_type": "code",
      "metadata": {
        "colab": {
          "base_uri": "https://localhost:8080/",
          "height": 143
        },
        "id": "T2JvDHqzpsxb",
        "outputId": "6c050650-4f32-43cc-f618-926dc5442fea"
      },
      "source": [
        "#@title Precisão, Revocação e F1 { vertical-output: true }\r\n",
        "from sklearn.metrics import precision_recall_fscore_support\r\n",
        "import pandas as pd\r\n",
        "prf = precision_recall_fscore_support(y_test, y_predict)\r\n",
        "\r\n",
        "df_prf = pd.DataFrame(prf[:-1], columns=[0,1], index=['precisão', 'revocação', 'F1'])\r\n",
        "df_prf"
      ],
      "execution_count": null,
      "outputs": [
        {
          "output_type": "execute_result",
          "data": {
            "text/html": [
              "<div>\n",
              "<style scoped>\n",
              "    .dataframe tbody tr th:only-of-type {\n",
              "        vertical-align: middle;\n",
              "    }\n",
              "\n",
              "    .dataframe tbody tr th {\n",
              "        vertical-align: top;\n",
              "    }\n",
              "\n",
              "    .dataframe thead th {\n",
              "        text-align: right;\n",
              "    }\n",
              "</style>\n",
              "<table border=\"1\" class=\"dataframe\">\n",
              "  <thead>\n",
              "    <tr style=\"text-align: right;\">\n",
              "      <th></th>\n",
              "      <th>0</th>\n",
              "      <th>1</th>\n",
              "    </tr>\n",
              "  </thead>\n",
              "  <tbody>\n",
              "    <tr>\n",
              "      <th>precisão</th>\n",
              "      <td>0.733686</td>\n",
              "      <td>0.741250</td>\n",
              "    </tr>\n",
              "    <tr>\n",
              "      <th>revocação</th>\n",
              "      <td>0.745370</td>\n",
              "      <td>0.729444</td>\n",
              "    </tr>\n",
              "    <tr>\n",
              "      <th>F1</th>\n",
              "      <td>0.739482</td>\n",
              "      <td>0.735300</td>\n",
              "    </tr>\n",
              "  </tbody>\n",
              "</table>\n",
              "</div>"
            ],
            "text/plain": [
              "                  0         1\n",
              "precisão   0.733686  0.741250\n",
              "revocação  0.745370  0.729444\n",
              "F1         0.739482  0.735300"
            ]
          },
          "metadata": {
            "tags": []
          },
          "execution_count": 55
        }
      ]
    },
    {
      "cell_type": "code",
      "metadata": {
        "id": "Fy8vXSeYY7Mk"
      },
      "source": [
        "# Algoritmos de classificação Naive Bayes\r\n",
        "from sklearn import naive_bayes\r\n",
        "bayes = naive_bayes.GaussianNB()\r\n",
        "bayes.fit(X_train.toarray(), y_train)\r\n",
        "\r\n",
        "y_predict = bayes.predict(X_test.toarray())"
      ],
      "execution_count": null,
      "outputs": []
    },
    {
      "cell_type": "code",
      "metadata": {
        "colab": {
          "base_uri": "https://localhost:8080/"
        },
        "id": "2M3OZGJyZI4g",
        "outputId": "a0d4e6ef-0e31-4203-a179-c5d9b17a9e29"
      },
      "source": [
        "# avaliar acurácia\r\n",
        "from sklearn.metrics import accuracy_score\r\n",
        "acuracia = accuracy_score(y_test, y_predict)\r\n",
        "acuracia"
      ],
      "execution_count": null,
      "outputs": [
        {
          "output_type": "execute_result",
          "data": {
            "text/plain": [
              "0.5882407407407407"
            ]
          },
          "metadata": {
            "tags": []
          },
          "execution_count": 57
        }
      ]
    },
    {
      "cell_type": "code",
      "metadata": {
        "colab": {
          "base_uri": "https://localhost:8080/",
          "height": 112
        },
        "id": "7_pCvFRbZJ-k",
        "outputId": "b3747fd8-b26d-4e86-a9f0-3bf1eaafec12"
      },
      "source": [
        "# Matriz de confusão\r\n",
        "from sklearn.metrics import confusion_matrix\r\n",
        "import pandas as pd\r\n",
        "\r\n",
        "cm = confusion_matrix(y_test, y_predict)\r\n",
        "df_cm = pd.DataFrame(cm, columns=['Predito 0', 'Predito 1'], index=['Real 0', 'Real 1'])\r\n",
        "\r\n",
        "df_cm"
      ],
      "execution_count": null,
      "outputs": [
        {
          "output_type": "execute_result",
          "data": {
            "text/html": [
              "<div>\n",
              "<style scoped>\n",
              "    .dataframe tbody tr th:only-of-type {\n",
              "        vertical-align: middle;\n",
              "    }\n",
              "\n",
              "    .dataframe tbody tr th {\n",
              "        vertical-align: top;\n",
              "    }\n",
              "\n",
              "    .dataframe thead th {\n",
              "        text-align: right;\n",
              "    }\n",
              "</style>\n",
              "<table border=\"1\" class=\"dataframe\">\n",
              "  <thead>\n",
              "    <tr style=\"text-align: right;\">\n",
              "      <th></th>\n",
              "      <th>Predito 0</th>\n",
              "      <th>Predito 1</th>\n",
              "    </tr>\n",
              "  </thead>\n",
              "  <tbody>\n",
              "    <tr>\n",
              "      <th>Real 0</th>\n",
              "      <td>1724</td>\n",
              "      <td>3676</td>\n",
              "    </tr>\n",
              "    <tr>\n",
              "      <th>Real 1</th>\n",
              "      <td>771</td>\n",
              "      <td>4629</td>\n",
              "    </tr>\n",
              "  </tbody>\n",
              "</table>\n",
              "</div>"
            ],
            "text/plain": [
              "        Predito 0  Predito 1\n",
              "Real 0       1724       3676\n",
              "Real 1        771       4629"
            ]
          },
          "metadata": {
            "tags": []
          },
          "execution_count": 58
        }
      ]
    },
    {
      "cell_type": "code",
      "metadata": {
        "colab": {
          "base_uri": "https://localhost:8080/",
          "height": 143
        },
        "id": "tX-o4jrSpkTO",
        "outputId": "72c73250-0d9d-4304-ba86-26ad195116a3"
      },
      "source": [
        "#@title Precisão, Revocação e F1 { vertical-output: true }\r\n",
        "from sklearn.metrics import precision_recall_fscore_support\r\n",
        "import pandas as pd\r\n",
        "prf = precision_recall_fscore_support(y_test, y_predict)\r\n",
        "\r\n",
        "df_prf = pd.DataFrame(prf[:-1], columns=[0,1], index=['precisão', 'revocação', 'F1'])\r\n",
        "df_prf"
      ],
      "execution_count": null,
      "outputs": [
        {
          "output_type": "execute_result",
          "data": {
            "text/html": [
              "<div>\n",
              "<style scoped>\n",
              "    .dataframe tbody tr th:only-of-type {\n",
              "        vertical-align: middle;\n",
              "    }\n",
              "\n",
              "    .dataframe tbody tr th {\n",
              "        vertical-align: top;\n",
              "    }\n",
              "\n",
              "    .dataframe thead th {\n",
              "        text-align: right;\n",
              "    }\n",
              "</style>\n",
              "<table border=\"1\" class=\"dataframe\">\n",
              "  <thead>\n",
              "    <tr style=\"text-align: right;\">\n",
              "      <th></th>\n",
              "      <th>0</th>\n",
              "      <th>1</th>\n",
              "    </tr>\n",
              "  </thead>\n",
              "  <tbody>\n",
              "    <tr>\n",
              "      <th>precisão</th>\n",
              "      <td>0.180117</td>\n",
              "      <td>0.861662</td>\n",
              "    </tr>\n",
              "    <tr>\n",
              "      <th>revocação</th>\n",
              "      <td>0.732778</td>\n",
              "      <td>0.332889</td>\n",
              "    </tr>\n",
              "    <tr>\n",
              "      <th>F1</th>\n",
              "      <td>0.289159</td>\n",
              "      <td>0.480244</td>\n",
              "    </tr>\n",
              "  </tbody>\n",
              "</table>\n",
              "</div>"
            ],
            "text/plain": [
              "                  0         1\n",
              "precisão   0.180117  0.861662\n",
              "revocação  0.732778  0.332889\n",
              "F1         0.289159  0.480244"
            ]
          },
          "metadata": {
            "tags": []
          },
          "execution_count": 41
        }
      ]
    },
    {
      "cell_type": "markdown",
      "metadata": {
        "id": "lYvMtyBdhdXf"
      },
      "source": [
        "Dentre os modelos testados o que obteve melhor resultado foi o modelo de classificação de Árvore de Decisão com uma acurácia de 0,737."
      ]
    }
  ]
}