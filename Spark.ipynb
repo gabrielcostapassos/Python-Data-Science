{
  "nbformat": 4,
  "nbformat_minor": 0,
  "metadata": {
    "colab": {
      "name": "Spark.ipynb",
      "provenance": [],
      "collapsed_sections": [],
      "include_colab_link": true
    },
    "kernelspec": {
      "name": "python3",
      "display_name": "Python 3"
    }
  },
  "cells": [
    {
      "cell_type": "markdown",
      "metadata": {
        "id": "view-in-github",
        "colab_type": "text"
      },
      "source": [
        "<a href=\"https://colab.research.google.com/github/gabrielcostapassos/Python-Data-Science/blob/master/Spark.ipynb\" target=\"_parent\"><img src=\"https://colab.research.google.com/assets/colab-badge.svg\" alt=\"Open In Colab\"/></a>"
      ]
    },
    {
      "cell_type": "markdown",
      "metadata": {
        "id": "d1vdtKJJBEOl"
      },
      "source": [
        "**1 - Configurando o Spark no Python**\n",
        "\n",
        "Etapa responsável por realizar o Download e configuração do Apache Spark.\n"
      ]
    },
    {
      "cell_type": "markdown",
      "metadata": {
        "id": "T3rTHK7OBA4o"
      },
      "source": [
        ""
      ]
    },
    {
      "cell_type": "code",
      "metadata": {
        "id": "ZRc7_FwFBFbQ"
      },
      "source": [
        "#Instacao e configuracao do Java 8\n",
        "!apt-get install openjdk-8-jdk-headless -qq > /dev/null\n",
        "#Download do Apache Spark\n",
        "!wget -q http://apache.osuosl.org/spark/spark-3.0.1/spark-3.0.1-bin-hadoop3.2.tgz\n",
        "#Descompatacao do Apache Spark\n",
        "!tar xf spark-3.0.1-bin-hadoop3.2.tgz\n",
        "#Instalacao do Findspark\n",
        "!pip install -q findspark"
      ],
      "execution_count": null,
      "outputs": []
    },
    {
      "cell_type": "markdown",
      "metadata": {
        "id": "TfjE3ycVBobJ"
      },
      "source": [
        "**2 - Configurando o Ambiente**\n",
        "\n",
        "Etapa responsável por configurar o ambiente do Spark\n"
      ]
    },
    {
      "cell_type": "code",
      "metadata": {
        "id": "m33iUDjGBsoG"
      },
      "source": [
        "import os\n",
        "os.environ[\"JAVA_HOME\"] = \"/usr/lib/jvm/java-8-openjdk-amd64\"\n",
        "os.environ[\"SPARK_HOME\"] = \"/content/spark-3.0.1-bin-hadoop3.2\""
      ],
      "execution_count": null,
      "outputs": []
    },
    {
      "cell_type": "markdown",
      "metadata": {
        "id": "joCNK4W9B1d_"
      },
      "source": [
        "**3 - Configurando a sessão do Spark**\n",
        "\n",
        "Etapa responsável por inicializar a sessão do Spark\n"
      ]
    },
    {
      "cell_type": "code",
      "metadata": {
        "id": "jIzqtvF0B-Jh"
      },
      "source": [
        "import findspark\n",
        "findspark.init()\n",
        "from pyspark.sql import SparkSession\n",
        "spark = SparkSession.builder.master(\"local[*]\").getOrCreate()"
      ],
      "execution_count": null,
      "outputs": []
    },
    {
      "cell_type": "markdown",
      "metadata": {
        "id": "CcK8ziO_CLs8"
      },
      "source": [
        "**4 - Validando a Configuração e Versão do Spark**\n",
        "\n",
        "Etapa de verificação\n"
      ]
    },
    {
      "cell_type": "code",
      "metadata": {
        "id": "gdIa3M87CK3N",
        "outputId": "d60f2047-f269-4ff9-c62e-439579e017e9",
        "colab": {
          "base_uri": "https://localhost:8080/",
          "height": 35
        }
      },
      "source": [
        "import pyspark\n",
        "print(pyspark.__version__)"
      ],
      "execution_count": null,
      "outputs": [
        {
          "output_type": "stream",
          "text": [
            "3.0.1\n"
          ],
          "name": "stdout"
        }
      ]
    },
    {
      "cell_type": "markdown",
      "metadata": {
        "id": "wraVk0szCQ-s"
      },
      "source": [
        "**5 - Download dos Dados do Portal da Transparência**\n",
        "\n",
        "Etapa responsável por realizar o Download das informações de Despesas providas através da API: http://www.portaltransparencia.gov.br/api-de-dados/despesas/recursos-recebidos?pagina=1\n"
      ]
    },
    {
      "cell_type": "code",
      "metadata": {
        "id": "M5aa2UOpDuoe",
        "outputId": "1419b944-a8d1-4996-9344-acd03d067c78",
        "colab": {
          "base_uri": "https://localhost:8080/",
          "height": 72
        }
      },
      "source": [
        "!curl -X GET --header 'Accept: application/json' --header 'chave-api-dados: efe6aa1f980a2c05fdedff7464cac567' 'http://www.portaltransparencia.gov.br/api-de-dados/despesas/recursos-recebidos?mesAnoInicio=01%2F2020&mesAnoFim=08%2F2020&pagina=1' > consulta_recursos_recebidos.json"
      ],
      "execution_count": null,
      "outputs": [
        {
          "output_type": "stream",
          "text": [
            "  % Total    % Received % Xferd  Average Speed   Time    Time     Time  Current\n",
            "                                 Dload  Upload   Total   Spent    Left  Speed\n",
            "100  6667    0  6667    0     0   2439      0 --:--:--  0:00:02 --:--:--  2438\n"
          ],
          "name": "stdout"
        }
      ]
    },
    {
      "cell_type": "markdown",
      "metadata": {
        "id": "INYRwbPfEK5Y"
      },
      "source": [
        "**6 - Carregando os dados no Spark**\n",
        "\n",
        "Etapa paga a carga de dados no Spark.\n"
      ]
    },
    {
      "cell_type": "code",
      "metadata": {
        "id": "zJuSvXKpEM2m"
      },
      "source": [
        "sc = spark.sparkContext\n",
        "#Realiza a leitura da nossa consulta realizada na API do Governo Federal sobre as Viagens\n",
        "path = \"/content/consulta_recursos_recebidos.json\"\n",
        "#Declara dataframe df com o conteudo da api que estava no JSON\n",
        "df = spark.read.json(path)"
      ],
      "execution_count": null,
      "outputs": []
    },
    {
      "cell_type": "markdown",
      "metadata": {
        "id": "NW4zUJ_7EYtN"
      },
      "source": [
        "**7 - Explorando os dados que foram obtidos**\n",
        "\n",
        "Etapa de exploração dos dados.\n"
      ]
    },
    {
      "cell_type": "code",
      "metadata": {
        "id": "MgWjmRq5Eabe",
        "outputId": "79718513-3f45-4589-e0db-e0b605eafbab",
        "colab": {
          "base_uri": "https://localhost:8080/",
          "height": 680
        }
      },
      "source": [
        "#Imprime a estrutura de dados do nosso dataframe\n",
        "df.printSchema()\n",
        "#Imprime uma amosta de dados ( para especificar as linhas basta colocar a quantidade entre ())\n",
        "df.show()"
      ],
      "execution_count": null,
      "outputs": [
        {
          "output_type": "stream",
          "text": [
            "root\n",
            " |-- anoMes: long (nullable = true)\n",
            " |-- codigoFormatado: string (nullable = true)\n",
            " |-- codigoOrgao: string (nullable = true)\n",
            " |-- codigoOrgaoSuperior: string (nullable = true)\n",
            " |-- codigoUG: string (nullable = true)\n",
            " |-- municipioPessoa: string (nullable = true)\n",
            " |-- nomeOrgao: string (nullable = true)\n",
            " |-- nomeOrgaoSuperior: string (nullable = true)\n",
            " |-- nomePessoa: string (nullable = true)\n",
            " |-- nomeUG: string (nullable = true)\n",
            " |-- siglaUFPessoa: string (nullable = true)\n",
            " |-- tipoPessoa: string (nullable = true)\n",
            " |-- valor: double (nullable = true)\n",
            "\n",
            "+------+------------------+-----------+-------------------+--------+--------------------+--------------------+--------------------+--------------------+--------------------+-------------+--------------------+----------+\n",
            "|anoMes|   codigoFormatado|codigoOrgao|codigoOrgaoSuperior|codigoUG|     municipioPessoa|           nomeOrgao|   nomeOrgaoSuperior|          nomePessoa|              nomeUG|siglaUFPessoa|          tipoPessoa|     valor|\n",
            "+------+------------------+-----------+-------------------+--------+--------------------+--------------------+--------------------+--------------------+--------------------+-------------+--------------------+----------+\n",
            "|202004|88.138.292/0001-74|      53000|              53000|  175004|      ROSÁRIO DO SUL|Ministério do Des...|Ministério do Des...|MUNICIPIO DE ROSA...|CAIXA ECONOMICA F...|           RS|Administração Púb...|  44571.43|\n",
            "|202008|42.035.097/0002-07|      26418|              26000|  158463|           PETROLINA|Instituto Federal...|Ministério da Edu...|GUARDSECURE SEGUR...|IFPE - CAMPUS IPO...|           PE|Entidades Empresa...|  35244.83|\n",
            "|202003|    ***.346.437-**|      20501|              24000|  364102|      RIO DE JANEIRO|Conselho Nacional...|Ministério da Ciê...|JOAO LUIZ MAURITY...|CONSELHO NAC DE D...|           RJ|       Pessoa Física|    2400.0|\n",
            "|202002|    ***.034.360-**|      26291|              26000|  154003|          ROCA SALES|Fundação Coordena...|Ministério da Edu...|       DIESSY KIPPER|FUND.COORD.DE APE...|           RS|       Pessoa Física|     800.0|\n",
            "|202008|25.227.119/0001-22|      52121|              52000|  160523|      BELO HORIZONTE| Comando do Exército|Ministério da Defesa|CARVALHO MATERIAI...|CENTRO DE PREP. D...|           MG|Entidades Empresa...|    1482.0|\n",
            "|202007|09.276.894/0001-11|      52121|              52000|  160384|         FARROUPILHA| Comando do Exército|Ministério da Defesa|ALPHA HIGIENE E L...|18 BATALHAO DE IN...|           RS|Entidades Empresa...|    1155.0|\n",
            "|202004|    ***.047.286-**|      26237|              26000|  153061|        JUIZ DE FORA|Universidade Fede...|Ministério da Edu...|ANA LETICIA OLIVE...|UNIVERSIDADE FEDE...|           MG|       Pessoa Física|     400.0|\n",
            "|202003|    ***.959.481-**|      20701|              44000|  193113|BOM JESUS DO ARAG...|Instituto Brasile...|Ministério do Mei...|NAILSON NASCIMENT...|IBAMA - SUPERINTE...|           MT|       Pessoa Física|     973.5|\n",
            "|202003|    ***.073.011-**|      26271|              26000|  154040|            BRASÍLIA|Fundação Universi...|Ministério da Edu...|LAYANE PEREIRA DE...|FUNDACAO UNIVERSI...|           DF|       Pessoa Física|     450.0|\n",
            "|202008|    ***.346.153-**|      26442|              26000|  158565|             MULUNGU|Universidade da I...|Ministério da Edu...|MARGARIDA MOREIRA...|UNIV.DA INTEG.INT...|           CE|       Pessoa Física|     380.0|\n",
            "|202003|    ***.836.804-**|      26240|              26000|  153065|                MARI|Universidade Fede...|Ministério da Edu...|RENATA ELLEN CLEM...|UNIVERSIDADE FEDE...|           PB|       Pessoa Física|     570.0|\n",
            "|202004|    ***.768.086-**|      26291|              26000|  154003|          TAPIRATIBA|Fundação Coordena...|Ministério da Edu...|MALOA DE FATIMA F...|FUND.COORD.DE APE...|           SP|       Pessoa Física|    1500.0|\n",
            "|202004|    ***.537.634-**|      26240|              26000|  153065|SALGADO DE SÃO FÉLIX|Universidade Fede...|Ministério da Edu...|JOSE CARLOS FERRE...|UNIVERSIDADE FEDE...|           PB|       Pessoa Física|     820.0|\n",
            "|202003|    ***.514.524-**|      26291|              26000|  154003|JABOATÃO DOS GUAR...|Fundação Coordena...|Ministério da Edu...|MATHEUS FELIPE CA...|FUND.COORD.DE APE...|           PE|       Pessoa Física|    1500.0|\n",
            "|202004|10.830.042/0001-03|      36000|              36000|  257001|            IRAUÇUBA|Ministério da Saú...| Ministério da Saúde|FUNDO MUNICIPAL D...|DIRETORIA EXECUTI...|           CE|       Fundo Público|1131891.65|\n",
            "+------+------------------+-----------+-------------------+--------+--------------------+--------------------+--------------------+--------------------+--------------------+-------------+--------------------+----------+\n",
            "\n"
          ],
          "name": "stdout"
        }
      ]
    },
    {
      "cell_type": "markdown",
      "metadata": {
        "id": "jdOU37BsEuMN"
      },
      "source": [
        "**8 - Tratando e transformando os dados**\n"
      ]
    },
    {
      "cell_type": "code",
      "metadata": {
        "id": "_ViKLqMRExiP",
        "outputId": "2bec046e-8cd9-442a-f937-c89413a5fa18",
        "colab": {
          "base_uri": "https://localhost:8080/",
          "height": 384
        }
      },
      "source": [
        "dfPrepared = df.selectExpr(\"municipioPessoa\",\"anoMes as AnoMes\",\"nomePessoa\",\"tipoPessoa\",\"valor\")\n",
        "dfPrepared.show()"
      ],
      "execution_count": null,
      "outputs": [
        {
          "output_type": "stream",
          "text": [
            "+--------------------+------+--------------------+--------------------+----------+\n",
            "|     municipioPessoa|AnoMes|          nomePessoa|          tipoPessoa|     valor|\n",
            "+--------------------+------+--------------------+--------------------+----------+\n",
            "|      ROSÁRIO DO SUL|202004|MUNICIPIO DE ROSA...|Administração Púb...|  44571.43|\n",
            "|           PETROLINA|202008|GUARDSECURE SEGUR...|Entidades Empresa...|  35244.83|\n",
            "|      RIO DE JANEIRO|202003|JOAO LUIZ MAURITY...|       Pessoa Física|    2400.0|\n",
            "|          ROCA SALES|202002|       DIESSY KIPPER|       Pessoa Física|     800.0|\n",
            "|      BELO HORIZONTE|202008|CARVALHO MATERIAI...|Entidades Empresa...|    1482.0|\n",
            "|         FARROUPILHA|202007|ALPHA HIGIENE E L...|Entidades Empresa...|    1155.0|\n",
            "|        JUIZ DE FORA|202004|ANA LETICIA OLIVE...|       Pessoa Física|     400.0|\n",
            "|BOM JESUS DO ARAG...|202003|NAILSON NASCIMENT...|       Pessoa Física|     973.5|\n",
            "|            BRASÍLIA|202003|LAYANE PEREIRA DE...|       Pessoa Física|     450.0|\n",
            "|             MULUNGU|202008|MARGARIDA MOREIRA...|       Pessoa Física|     380.0|\n",
            "|                MARI|202003|RENATA ELLEN CLEM...|       Pessoa Física|     570.0|\n",
            "|          TAPIRATIBA|202004|MALOA DE FATIMA F...|       Pessoa Física|    1500.0|\n",
            "|SALGADO DE SÃO FÉLIX|202004|JOSE CARLOS FERRE...|       Pessoa Física|     820.0|\n",
            "|JABOATÃO DOS GUAR...|202003|MATHEUS FELIPE CA...|       Pessoa Física|    1500.0|\n",
            "|            IRAUÇUBA|202004|FUNDO MUNICIPAL D...|       Fundo Público|1131891.65|\n",
            "+--------------------+------+--------------------+--------------------+----------+\n",
            "\n"
          ],
          "name": "stdout"
        }
      ]
    },
    {
      "cell_type": "markdown",
      "metadata": {
        "id": "58mrba-4HVdX"
      },
      "source": [
        "**9 - Analise das informações e resultados obtidos**\n",
        "\n",
        "Etapa onde são realizadas as analises utilizando linguagem SQL para por exemplo descobrir quem mais gastou no ano vigente."
      ]
    },
    {
      "cell_type": "code",
      "metadata": {
        "id": "F0g0N1oJIGal"
      },
      "source": [
        "#Declara tabela temporaria no SparkSQL\n",
        "dfPrepared.createOrReplaceTempView(\"dfPrepared\")"
      ],
      "execution_count": null,
      "outputs": []
    },
    {
      "cell_type": "code",
      "metadata": {
        "id": "b00QbQ8GKRw3",
        "outputId": "c85fff09-a116-40a7-829f-15e03a6649e4",
        "colab": {
          "base_uri": "https://localhost:8080/",
          "height": 127
        }
      },
      "source": [
        "topTravels = spark.sql(\"select AnoMes, nomePessoa, valor from dfPrepared where valor > 500000\")\n",
        "topTravels.show()\n"
      ],
      "execution_count": null,
      "outputs": [
        {
          "output_type": "stream",
          "text": [
            "+------+--------------------+----------+\n",
            "|AnoMes|          nomePessoa|     valor|\n",
            "+------+--------------------+----------+\n",
            "|202004|FUNDO MUNICIPAL D...|1131891.65|\n",
            "+------+--------------------+----------+\n",
            "\n"
          ],
          "name": "stdout"
        }
      ]
    }
  ]
}