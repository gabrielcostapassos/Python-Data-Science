{
 "cells": [
  {
   "cell_type": "markdown",
   "metadata": {},
   "source": [
    "### <center> Desafio do Poço - WhatsApp</br></center>\n",
    "Um homem esta em um poço com 10 metros de profundidade, durante o dia ele sobe 2 metros e a noite desce um metro.\n",
    "</br>Construa uma classe que resolverá esse problema. Obrigatoriamente ela tem que ter 2 metodos, um metodo sobe e o outro metodo desce."
   ]
  },
  {
   "cell_type": "code",
   "execution_count": 5,
   "metadata": {},
   "outputs": [],
   "source": [
    "class Homem():\n",
    "    \n",
    "    sobe = 0\n",
    "    desce = 0\n",
    "    profundidade = 0\n",
    "    \n",
    "    def __init__(self, profundidade):\n",
    "        self.profundidade = profundidade\n",
    "        print('Iniciando lógica do poço.\\n')\n",
    "        print('O poço tem', profundidade,'metros de profundidade.\\n')\n",
    "    \n",
    "    def dia(self,sobe):\n",
    "        self.sobe = sobe\n",
    "        print(\"Durante o dia o homem sobe\", sobe,'metros.\\n')\n",
    "        \n",
    "    def noite(self,desce):\n",
    "        self.desce = desce\n",
    "        print(\"Durante a noite ele desce\", desce,'metros.\\n')\n",
    "        \n",
    "    def calcPosicao(self):\n",
    "        posicao = 0\n",
    "        dia = 0\n",
    "\n",
    "        while posicao < self.profundidade:\n",
    "            posicao += self.sobe\n",
    "            dia += 1\n",
    "            if posicao < self.profundidade:\n",
    "                posicao += self.desce\n",
    "            print('No dia',dia, 'o homem alcança', posicao, 'metros.\\n')\n",
    "        print(\"O homem conseguiu subir no dia\", dia)"
   ]
  },
  {
   "cell_type": "code",
   "execution_count": 2,
   "metadata": {},
   "outputs": [
    {
     "name": "stdout",
     "output_type": "stream",
     "text": [
      "Iniciando lógica do poço.\n",
      "\n",
      "O poço tem 10 metros de profundidade.\n",
      "\n",
      "Durante o dia o homem sobe 2 metros.\n",
      "\n",
      "Durante a noite ele desce -1 metros.\n",
      "\n",
      "No dia 1 o homem alcança 1 metros.\n",
      "\n",
      "No dia 2 o homem alcança 2 metros.\n",
      "\n",
      "No dia 3 o homem alcança 3 metros.\n",
      "\n",
      "No dia 4 o homem alcança 4 metros.\n",
      "\n",
      "No dia 5 o homem alcança 5 metros.\n",
      "\n",
      "No dia 6 o homem alcança 6 metros.\n",
      "\n",
      "No dia 7 o homem alcança 7 metros.\n",
      "\n",
      "No dia 8 o homem alcança 8 metros.\n",
      "\n",
      "No dia 9 o homem alcança 10 metros.\n",
      "\n",
      "O homem conseguiu subir no dia 9\n"
     ]
    }
   ],
   "source": [
    "poco = Homem(10)\n",
    "poco.dia(2)\n",
    "poco.noite(-1)\n",
    "poco.calcPosicao()"
   ]
  }
 ],
 "metadata": {
  "kernelspec": {
   "display_name": "Python 3",
   "language": "python",
   "name": "python3"
  },
  "language_info": {
   "codemirror_mode": {
    "name": "ipython",
    "version": 3
   },
   "file_extension": ".py",
   "mimetype": "text/x-python",
   "name": "python",
   "nbconvert_exporter": "python",
   "pygments_lexer": "ipython3",
   "version": "3.8.3"
  }
 },
 "nbformat": 4,
 "nbformat_minor": 4
}
