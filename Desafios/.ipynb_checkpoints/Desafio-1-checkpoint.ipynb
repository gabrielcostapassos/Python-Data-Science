{
 "cells": [
  {
   "cell_type": "markdown",
   "metadata": {},
   "source": [
    "### <center> Desafio 1 - WhatsApp</br></center>\n",
    "Extrair uma conversas de um grupo do WhatsApp, ler o arquivo e responder as perguntas:</br>\n",
    "Qual dia da semana tem o maior fluxo de conversar?</br>\n",
    "Qual o horário com o maior fluxo de conversas?</br>\n",
    "Quem é mais ativo no grupo?</br>\n",
    "Quais as palavras mais utilizadas?\n"
   ]
  },
  {
   "cell_type": "code",
   "execution_count": 89,
   "metadata": {},
   "outputs": [],
   "source": [
    "#biblioteca para formatar data\n",
    "import datetime\n",
    "\n",
    "#biblioteca para inserir contador\n",
    "import collections\n",
    "from collections import Counter\n",
    "\n",
    "import pandas as pd\n",
    "\n",
    "#biblioteca para gráficos\n",
    "import matplotlib\n",
    "import matplotlib.pyplot as plt\n",
    "\n",
    "import seaborn as sns"
   ]
  },
  {
   "cell_type": "markdown",
   "metadata": {},
   "source": [
    "Estudo para formatação de dados. </br>\n",
    "\n",
    "link: https://stackabuse.com/converting-strings-to-datetime-in-python/ </br>\n",
    "\n",
    "%Y: Year (4 digits)</br>\n",
    "%m: Month</br>\n",
    "%d: Day of month</br>\n",
    "%H: Hour (24 hour)</br>\n",
    "%M: Minutes</br>\n",
    "%S: Seconds</br>\n",
    "%f: Microseconds</br>"
   ]
  },
  {
   "cell_type": "code",
   "execution_count": 112,
   "metadata": {},
   "outputs": [],
   "source": [
    "#Lendo a conversa do whatsapp, armazenando em uma variavel e segmentando os dados para analise.\n",
    "def chat(arquivo):\n",
    "    arquivo = open(\"C:/conversa.txt\",\"r\",encoding=\"utf8\")\n",
    "    linha = arquivo.readline()\n",
    "\n",
    "    datas = []\n",
    "    pessoas = []\n",
    "    msgs = []\n",
    "    horas = []\n",
    "    erros_formatacao = []\n",
    "\n",
    "\n",
    "    while linha:\n",
    "        linha = arquivo.readline()\n",
    "    \n",
    "        try:\n",
    "            date_obj = datetime.datetime.strptime(linha[0:10], '%d/%m/%Y')#Extraindo a data \n",
    "            time_obj = datetime.datetime.strptime(linha[11:13], '%H' )#Extraindo o hora    \n",
    "            datas.append(date_obj)\n",
    "            horas.append(time_obj.time().hour)\n",
    "            msg = linha[19:]\n",
    "            if(len(msg.split(':')) >= 2):\n",
    "                pessoas.append(msg.split(':')[0])\n",
    "                msgs.append(msg.split(':')[1])\n",
    "        except ValueError:\n",
    "            erros_formatacao.append(\"Erros de formatação de data\")\n",
    "    arquivo.close()\n",
    "    return (datas,pessoas,msgs,horas)"
   ]
  },
  {
   "cell_type": "code",
   "execution_count": 113,
   "metadata": {},
   "outputs": [],
   "source": [
    "#Extraindo o dia da semana da variavel data\n",
    "def dia_da_semana(datas):\n",
    "    dia_semana = []\n",
    "    for data in datas:\n",
    "        if(data.weekday() ==1):\n",
    "            dia_semana.append('segunda')\n",
    "        elif(data.weekday() ==2):\n",
    "            dia_semana.append('terca')\n",
    "        elif(data.weekday() ==3):\n",
    "            dia_semana.append('quarta')\n",
    "        elif(data.weekday() ==4):\n",
    "            dia_semana.append('quinta')\n",
    "        elif(data.weekday() ==5):\n",
    "            dia_semana.append('sexta')    \n",
    "        elif(data.weekday() ==6):\n",
    "            dia_semana.append('sabado')    \n",
    "        elif(data.weekday() ==0):\n",
    "            dia_semana.append('domingo')\n",
    "    return(dia_semana)"
   ]
  },
  {
   "cell_type": "code",
   "execution_count": 114,
   "metadata": {},
   "outputs": [],
   "source": [
    "def f_palavras(msgs):\n",
    "    palavras = []\n",
    "    for frases in msgs:\n",
    "        for palavra in frases.split():\n",
    "            palavras.append(palavra)\n",
    "    return (palavras)"
   ]
  },
  {
   "cell_type": "code",
   "execution_count": 115,
   "metadata": {},
   "outputs": [],
   "source": [
    "dict_pessoas = dict(Counter(pessoas))\n",
    "dict_horas = dict(Counter(horas))\n",
    "dict_dia_semana = dict(Counter(dia_da_semana(datas)))\n",
    "dict_palavras = dict(Counter(f_palavras(msgs)))"
   ]
  },
  {
   "cell_type": "code",
   "execution_count": 116,
   "metadata": {},
   "outputs": [
    {
     "data": {
      "text/html": [
       "<div>\n",
       "<style scoped>\n",
       "    .dataframe tbody tr th:only-of-type {\n",
       "        vertical-align: middle;\n",
       "    }\n",
       "\n",
       "    .dataframe tbody tr th {\n",
       "        vertical-align: top;\n",
       "    }\n",
       "\n",
       "    .dataframe thead th {\n",
       "        text-align: right;\n",
       "    }\n",
       "</style>\n",
       "<table border=\"1\" class=\"dataframe\">\n",
       "  <thead>\n",
       "    <tr style=\"text-align: right;\">\n",
       "      <th></th>\n",
       "      <th>Pessoa</th>\n",
       "      <th>Frequencia</th>\n",
       "    </tr>\n",
       "  </thead>\n",
       "  <tbody>\n",
       "    <tr>\n",
       "      <th>0</th>\n",
       "      <td>+55 11 98316-1565</td>\n",
       "      <td>225</td>\n",
       "    </tr>\n",
       "    <tr>\n",
       "      <th>10</th>\n",
       "      <td>Impacta Luiza</td>\n",
       "      <td>141</td>\n",
       "    </tr>\n",
       "    <tr>\n",
       "      <th>2</th>\n",
       "      <td>+55 11 95288-3784</td>\n",
       "      <td>131</td>\n",
       "    </tr>\n",
       "    <tr>\n",
       "      <th>6</th>\n",
       "      <td>+55 11 95656-2261</td>\n",
       "      <td>67</td>\n",
       "    </tr>\n",
       "    <tr>\n",
       "      <th>20</th>\n",
       "      <td>Impacta Prof Thiago Rolemberg</td>\n",
       "      <td>56</td>\n",
       "    </tr>\n",
       "    <tr>\n",
       "      <th>4</th>\n",
       "      <td>+55 11 98667-5675</td>\n",
       "      <td>26</td>\n",
       "    </tr>\n",
       "    <tr>\n",
       "      <th>1</th>\n",
       "      <td>+55 11 95906-2900</td>\n",
       "      <td>22</td>\n",
       "    </tr>\n",
       "    <tr>\n",
       "      <th>25</th>\n",
       "      <td>+55 11 96037-1748</td>\n",
       "      <td>20</td>\n",
       "    </tr>\n",
       "    <tr>\n",
       "      <th>14</th>\n",
       "      <td>+55 11 96473-6071</td>\n",
       "      <td>20</td>\n",
       "    </tr>\n",
       "    <tr>\n",
       "      <th>12</th>\n",
       "      <td>Impacta Leandro</td>\n",
       "      <td>16</td>\n",
       "    </tr>\n",
       "  </tbody>\n",
       "</table>\n",
       "</div>"
      ],
      "text/plain": [
       "                           Pessoa  Frequencia\n",
       "0               +55 11 98316-1565         225\n",
       "10                  Impacta Luiza         141\n",
       "2               +55 11 95288-3784         131\n",
       "6               +55 11 95656-2261          67\n",
       "20  Impacta Prof Thiago Rolemberg          56\n",
       "4               +55 11 98667-5675          26\n",
       "1               +55 11 95906-2900          22\n",
       "25              +55 11 96037-1748          20\n",
       "14              +55 11 96473-6071          20\n",
       "12                Impacta Leandro          16"
      ]
     },
     "execution_count": 116,
     "metadata": {},
     "output_type": "execute_result"
    },
    {
     "data": {
      "image/png": "[encoded data removed]",
      "text/plain": [
       "<Figure size 432x288 with 1 Axes>"
      ]
     },
     "metadata": {
      "needs_background": "light"
     },
     "output_type": "display_data"
    }
   ],
   "source": [
    "df_pessoas = pd.DataFrame(dict_pessoas.items(), columns = ['Pessoa','Frequencia'])\n",
    "df_pessoas = df_pessoas.sort_values(by=['Frequencia'],ascending=False)\n",
    "df_pessoas.plot(kind='bar', x = 'Pessoa', y = 'Frequencia', title = 'Pessoas e suas frequencias')\n",
    "df_pessoas.head(10)"
   ]
  },
  {
   "cell_type": "code",
   "execution_count": 117,
   "metadata": {},
   "outputs": [
    {
     "data": {
      "text/html": [
       "<div>\n",
       "<style scoped>\n",
       "    .dataframe tbody tr th:only-of-type {\n",
       "        vertical-align: middle;\n",
       "    }\n",
       "\n",
       "    .dataframe tbody tr th {\n",
       "        vertical-align: top;\n",
       "    }\n",
       "\n",
       "    .dataframe thead th {\n",
       "        text-align: right;\n",
       "    }\n",
       "</style>\n",
       "<table border=\"1\" class=\"dataframe\">\n",
       "  <thead>\n",
       "    <tr style=\"text-align: right;\">\n",
       "      <th></th>\n",
       "      <th>Dia da Semana</th>\n",
       "      <th>Frequencia</th>\n",
       "    </tr>\n",
       "  </thead>\n",
       "  <tbody>\n",
       "    <tr>\n",
       "      <th>1</th>\n",
       "      <td>quarta</td>\n",
       "      <td>273</td>\n",
       "    </tr>\n",
       "    <tr>\n",
       "      <th>0</th>\n",
       "      <td>terca</td>\n",
       "      <td>206</td>\n",
       "    </tr>\n",
       "    <tr>\n",
       "      <th>5</th>\n",
       "      <td>segunda</td>\n",
       "      <td>185</td>\n",
       "    </tr>\n",
       "    <tr>\n",
       "      <th>2</th>\n",
       "      <td>quinta</td>\n",
       "      <td>95</td>\n",
       "    </tr>\n",
       "    <tr>\n",
       "      <th>4</th>\n",
       "      <td>domingo</td>\n",
       "      <td>56</td>\n",
       "    </tr>\n",
       "    <tr>\n",
       "      <th>3</th>\n",
       "      <td>sexta</td>\n",
       "      <td>5</td>\n",
       "    </tr>\n",
       "  </tbody>\n",
       "</table>\n",
       "</div>"
      ],
      "text/plain": [
       "  Dia da Semana  Frequencia\n",
       "1        quarta         273\n",
       "0         terca         206\n",
       "5       segunda         185\n",
       "2        quinta          95\n",
       "4       domingo          56\n",
       "3         sexta           5"
      ]
     },
     "execution_count": 117,
     "metadata": {},
     "output_type": "execute_result"
    },
    {
     "data": {
      "image/png": "[encoded data removed]",
      "text/plain": [
       "<Figure size 432x288 with 1 Axes>"
      ]
     },
     "metadata": {
      "needs_background": "light"
     },
     "output_type": "display_data"
    }
   ],
   "source": [
    "df_dia_semana = pd.DataFrame(dict_dia_semana.items(), columns = ['Dia da Semana', 'Frequencia'])\n",
    "df_dia_semana = df_dia_semana.sort_values(by=['Frequencia'], ascending=False)\n",
    "df_dia_semana.plot(kind='bar', x = 'Dia da Semana', y = 'Frequencia', title = 'Frequencia por dia da semana')\n",
    "df_dia_semana"
   ]
  },
  {
   "cell_type": "code",
   "execution_count": 118,
   "metadata": {},
   "outputs": [
    {
     "data": {
      "text/html": [
       "<div>\n",
       "<style scoped>\n",
       "    .dataframe tbody tr th:only-of-type {\n",
       "        vertical-align: middle;\n",
       "    }\n",
       "\n",
       "    .dataframe tbody tr th {\n",
       "        vertical-align: top;\n",
       "    }\n",
       "\n",
       "    .dataframe thead th {\n",
       "        text-align: right;\n",
       "    }\n",
       "</style>\n",
       "<table border=\"1\" class=\"dataframe\">\n",
       "  <thead>\n",
       "    <tr style=\"text-align: right;\">\n",
       "      <th></th>\n",
       "      <th>Horas</th>\n",
       "      <th>Frequencia</th>\n",
       "    </tr>\n",
       "  </thead>\n",
       "  <tbody>\n",
       "    <tr>\n",
       "      <th>0</th>\n",
       "      <td>19</td>\n",
       "      <td>234</td>\n",
       "    </tr>\n",
       "    <tr>\n",
       "      <th>1</th>\n",
       "      <td>20</td>\n",
       "      <td>157</td>\n",
       "    </tr>\n",
       "    <tr>\n",
       "      <th>12</th>\n",
       "      <td>12</td>\n",
       "      <td>86</td>\n",
       "    </tr>\n",
       "    <tr>\n",
       "      <th>8</th>\n",
       "      <td>14</td>\n",
       "      <td>79</td>\n",
       "    </tr>\n",
       "    <tr>\n",
       "      <th>11</th>\n",
       "      <td>18</td>\n",
       "      <td>73</td>\n",
       "    </tr>\n",
       "    <tr>\n",
       "      <th>15</th>\n",
       "      <td>11</td>\n",
       "      <td>35</td>\n",
       "    </tr>\n",
       "    <tr>\n",
       "      <th>5</th>\n",
       "      <td>23</td>\n",
       "      <td>28</td>\n",
       "    </tr>\n",
       "    <tr>\n",
       "      <th>16</th>\n",
       "      <td>13</td>\n",
       "      <td>19</td>\n",
       "    </tr>\n",
       "    <tr>\n",
       "      <th>3</th>\n",
       "      <td>10</td>\n",
       "      <td>18</td>\n",
       "    </tr>\n",
       "    <tr>\n",
       "      <th>7</th>\n",
       "      <td>22</td>\n",
       "      <td>18</td>\n",
       "    </tr>\n",
       "  </tbody>\n",
       "</table>\n",
       "</div>"
      ],
      "text/plain": [
       "    Horas  Frequencia\n",
       "0      19         234\n",
       "1      20         157\n",
       "12     12          86\n",
       "8      14          79\n",
       "11     18          73\n",
       "15     11          35\n",
       "5      23          28\n",
       "16     13          19\n",
       "3      10          18\n",
       "7      22          18"
      ]
     },
     "execution_count": 118,
     "metadata": {},
     "output_type": "execute_result"
    },
    {
     "data": {
      "image/png": "[encoded data removed]",
      "text/plain": [
       "<Figure size 432x288 with 1 Axes>"
      ]
     },
     "metadata": {
      "needs_background": "light"
     },
     "output_type": "display_data"
    }
   ],
   "source": [
    "df_horas = pd.DataFrame(dict_horas.items(), columns =['Horas', 'Frequencia'])\n",
    "df_horas = df_horas.sort_values(by =['Frequencia'], ascending=False)\n",
    "df_horas.plot(kind='bar', x='Horas', y='Frequencia', title = 'Frequencia por hora')\n",
    "df_horas.head(10)"
   ]
  },
  {
   "cell_type": "code",
   "execution_count": 119,
   "metadata": {},
   "outputs": [
    {
     "data": {
      "text/html": [
       "<div>\n",
       "<style scoped>\n",
       "    .dataframe tbody tr th:only-of-type {\n",
       "        vertical-align: middle;\n",
       "    }\n",
       "\n",
       "    .dataframe tbody tr th {\n",
       "        vertical-align: top;\n",
       "    }\n",
       "\n",
       "    .dataframe thead th {\n",
       "        text-align: right;\n",
       "    }\n",
       "</style>\n",
       "<table border=\"1\" class=\"dataframe\">\n",
       "  <thead>\n",
       "    <tr style=\"text-align: right;\">\n",
       "      <th></th>\n",
       "      <th>Palavra</th>\n",
       "      <th>Frequencia</th>\n",
       "    </tr>\n",
       "  </thead>\n",
       "  <tbody>\n",
       "    <tr>\n",
       "      <th>82</th>\n",
       "      <td>de</td>\n",
       "      <td>186</td>\n",
       "    </tr>\n",
       "    <tr>\n",
       "      <th>5</th>\n",
       "      <td>o</td>\n",
       "      <td>119</td>\n",
       "    </tr>\n",
       "    <tr>\n",
       "      <th>39</th>\n",
       "      <td>e</td>\n",
       "      <td>113</td>\n",
       "    </tr>\n",
       "    <tr>\n",
       "      <th>13</th>\n",
       "      <td>que</td>\n",
       "      <td>98</td>\n",
       "    </tr>\n",
       "    <tr>\n",
       "      <th>30</th>\n",
       "      <td>a</td>\n",
       "      <td>80</td>\n",
       "    </tr>\n",
       "    <tr>\n",
       "      <th>95</th>\n",
       "      <td>&lt;Arquivo</td>\n",
       "      <td>62</td>\n",
       "    </tr>\n",
       "    <tr>\n",
       "      <th>96</th>\n",
       "      <td>mídia</td>\n",
       "      <td>62</td>\n",
       "    </tr>\n",
       "    <tr>\n",
       "      <th>97</th>\n",
       "      <td>oculto&gt;</td>\n",
       "      <td>62</td>\n",
       "    </tr>\n",
       "    <tr>\n",
       "      <th>57</th>\n",
       "      <td>com</td>\n",
       "      <td>54</td>\n",
       "    </tr>\n",
       "    <tr>\n",
       "      <th>7</th>\n",
       "      <td>da</td>\n",
       "      <td>53</td>\n",
       "    </tr>\n",
       "  </tbody>\n",
       "</table>\n",
       "</div>"
      ],
      "text/plain": [
       "     Palavra  Frequencia\n",
       "82        de         186\n",
       "5          o         119\n",
       "39         e         113\n",
       "13       que          98\n",
       "30         a          80\n",
       "95  <Arquivo          62\n",
       "96     mídia          62\n",
       "97   oculto>          62\n",
       "57       com          54\n",
       "7         da          53"
      ]
     },
     "execution_count": 119,
     "metadata": {},
     "output_type": "execute_result"
    },
    {
     "data": {
      "image/png": "[encoded data removed]",
      "text/plain": [
       "<Figure size 432x288 with 1 Axes>"
      ]
     },
     "metadata": {
      "needs_background": "light"
     },
     "output_type": "display_data"
    }
   ],
   "source": [
    "df_palavras = pd.DataFrame(dict_palavras.items(), columns= ['Palavra','Frequencia'])\n",
    "df_palavras = df_palavras.sort_values(by=['Frequencia'], ascending=False)\n",
    "df_palavras.head(10).plot(kind='bar', x='Palavra', y='Frequencia', title='Frequencia por palavras')\n",
    "df_palavras.head(10)"
   ]
  }
 ],
 "metadata": {
  "kernelspec": {
   "display_name": "Python 3",
   "language": "python",
   "name": "python3"
  },
  "language_info": {
   "codemirror_mode": {
    "name": "ipython",
    "version": 3
   },
   "file_extension": ".py",
   "mimetype": "text/x-python",
   "name": "python",
   "nbconvert_exporter": "python",
   "pygments_lexer": "ipython3",
   "version": "3.8.3"
  }
 },
 "nbformat": 4,
 "nbformat_minor": 4
}
