{
 "cells": [
  {
   "cell_type": "markdown",
   "metadata": {},
   "source": [
    "3 arquivos estão sendo postados aqui: cadastro.csv; preço da gasolina.csv; salario_professioes.csv.<br/>\n",
    "Diante desses 3 arquivos, o trabalho deve responder as seguintes perguntas:\n",
    "\n",
    "1. Qual a idade média das pessoas no cadastro ?\n",
    "2. Quantos homens tem no cadastro ?\n",
    "3. Quantas mulheres tem no cadastro ?\n",
    "4. Qual a idade média dos homens e das mulheres ?\n",
    "5. Crie um gráfico de barras e mostre a distribuição de escolaridade no cadastro ?\n",
    "6. Mostre a Média Salarial do cadastro ?\n",
    "7. Quem tem o maior salário ?\n",
    "8. Tirando desempregado quem recebe menos ?\n",
    "9. Quantas pessoas gostam de caminhar no final de semana ?\n",
    "10. Crie um gráfico mostrando entre a relação de escolaridade e quem pratica esporte ?\n",
    "11. Crie um mapa de calor ?\n",
    "12. Mostre de forma gráfica a distribuição de estados do cadastro ?"
   ]
  },
  {
   "cell_type": "code",
   "execution_count": 201,
   "metadata": {},
   "outputs": [],
   "source": [
    "import pandas as pd\n",
    "\n",
    "import numpy as np\n",
    "\n",
    "import matplotlib.pyplot as plt\n",
    "\n",
    "%matplotlib inline\n",
    "\n",
    "import collections\n",
    "\n",
    "from collections import Counter\n",
    "\n",
    "import folium\n",
    "\n",
    "from folium import plugins\n",
    "\n",
    "from string import ascii_letters\n",
    "\n",
    "import seaborn as sns"
   ]
  },
  {
   "cell_type": "markdown",
   "metadata": {},
   "source": [
    "## Realizado a importação dos dados"
   ]
  },
  {
   "cell_type": "code",
   "execution_count": 238,
   "metadata": {},
   "outputs": [],
   "source": [
    "cadastro_df = pd.read_csv('cadastro - cadastro.csv')\n",
    "precos_df = pd.read_csv('preco da gasolina - preco da gasolina.csv')\n",
    "salario_df = pd.read_csv('salario_profissoes - salario_profissoes.csv')\n",
    "localidade_df = pd.read_csv('BR_Localidades_2010_v1.csv')"
   ]
  },
  {
   "cell_type": "markdown",
   "metadata": {},
   "source": [
    "## Conhecendo a estrutura dos arquivos"
   ]
  },
  {
   "cell_type": "code",
   "execution_count": 239,
   "metadata": {},
   "outputs": [
    {
     "name": "stdout",
     "output_type": "stream",
     "text": [
      "Shape do dataframe cadastro (30, 15)\n",
      "Shape do dataframe preço (19, 2)\n",
      "Shape do dataframe salario (23, 3)\n",
      "Shape do dataframe localidade (5565, 4)\n"
     ]
    }
   ],
   "source": [
    "print('Shape do dataframe cadastro',cadastro_df.shape)\n",
    "print('Shape do dataframe preço',precos_df.shape)\n",
    "print('Shape do dataframe salario', salario_df.shape)\n",
    "print('Shape do dataframe localidade', localidade_df.shape)"
   ]
  },
  {
   "cell_type": "code",
   "execution_count": 240,
   "metadata": {},
   "outputs": [
    {
     "data": {
      "text/html": [
       "<div>\n",
       "<style scoped>\n",
       "    .dataframe tbody tr th:only-of-type {\n",
       "        vertical-align: middle;\n",
       "    }\n",
       "\n",
       "    .dataframe tbody tr th {\n",
       "        vertical-align: top;\n",
       "    }\n",
       "\n",
       "    .dataframe thead th {\n",
       "        text-align: right;\n",
       "    }\n",
       "</style>\n",
       "<table border=\"1\" class=\"dataframe\">\n",
       "  <thead>\n",
       "    <tr style=\"text-align: right;\">\n",
       "      <th></th>\n",
       "      <th>nome</th>\n",
       "      <th>sobrenome</th>\n",
       "      <th>ano_nascimento</th>\n",
       "      <th>sexo</th>\n",
       "      <th>cidade</th>\n",
       "      <th>profissão</th>\n",
       "      <th>experiencia profissional</th>\n",
       "      <th>estado_civil</th>\n",
       "      <th>filhos</th>\n",
       "      <th>lazer_final_de_semana</th>\n",
       "      <th>pratica_esporte</th>\n",
       "      <th>qual_esporte</th>\n",
       "      <th>quanta_vezes_na_semana_pratica_esporte</th>\n",
       "      <th>tem carro</th>\n",
       "      <th>escolaridade</th>\n",
       "    </tr>\n",
       "  </thead>\n",
       "  <tbody>\n",
       "    <tr>\n",
       "      <th>0</th>\n",
       "      <td>Dirceu</td>\n",
       "      <td>Manolo</td>\n",
       "      <td>1985</td>\n",
       "      <td>m</td>\n",
       "      <td>São Vicente</td>\n",
       "      <td>Cientista de Dados</td>\n",
       "      <td>4</td>\n",
       "      <td>Casado</td>\n",
       "      <td>1</td>\n",
       "      <td>estudar, academia, jogar video game,surfar</td>\n",
       "      <td>sim</td>\n",
       "      <td>academia</td>\n",
       "      <td>3.0</td>\n",
       "      <td>sim</td>\n",
       "      <td>Ensino Superior</td>\n",
       "    </tr>\n",
       "    <tr>\n",
       "      <th>1</th>\n",
       "      <td>Maria</td>\n",
       "      <td>Silva</td>\n",
       "      <td>1970</td>\n",
       "      <td>f</td>\n",
       "      <td>Santos</td>\n",
       "      <td>dona de casa</td>\n",
       "      <td>2</td>\n",
       "      <td>Casada</td>\n",
       "      <td>3</td>\n",
       "      <td>ver tv</td>\n",
       "      <td>não</td>\n",
       "      <td>-</td>\n",
       "      <td>0.0</td>\n",
       "      <td>não</td>\n",
       "      <td>Ensino Médio</td>\n",
       "    </tr>\n",
       "  </tbody>\n",
       "</table>\n",
       "</div>"
      ],
      "text/plain": [
       "     nome sobrenome  ano_nascimento sexo       cidade           profissão  \\\n",
       "0  Dirceu    Manolo            1985    m  São Vicente  Cientista de Dados   \n",
       "1   Maria     Silva            1970    f       Santos        dona de casa   \n",
       "\n",
       "   experiencia profissional estado_civil  filhos  \\\n",
       "0                         4       Casado       1   \n",
       "1                         2       Casada       3   \n",
       "\n",
       "                        lazer_final_de_semana pratica_esporte qual_esporte  \\\n",
       "0  estudar, academia, jogar video game,surfar             sim     academia   \n",
       "1                                      ver tv             não            -   \n",
       "\n",
       "   quanta_vezes_na_semana_pratica_esporte tem carro     escolaridade  \n",
       "0                                     3.0       sim  Ensino Superior  \n",
       "1                                     0.0       não     Ensino Médio  "
      ]
     },
     "execution_count": 240,
     "metadata": {},
     "output_type": "execute_result"
    }
   ],
   "source": [
    "cadastro_df.head(2)"
   ]
  },
  {
   "cell_type": "code",
   "execution_count": 241,
   "metadata": {},
   "outputs": [
    {
     "data": {
      "text/html": [
       "<div>\n",
       "<style scoped>\n",
       "    .dataframe tbody tr th:only-of-type {\n",
       "        vertical-align: middle;\n",
       "    }\n",
       "\n",
       "    .dataframe tbody tr th {\n",
       "        vertical-align: top;\n",
       "    }\n",
       "\n",
       "    .dataframe thead th {\n",
       "        text-align: right;\n",
       "    }\n",
       "</style>\n",
       "<table border=\"1\" class=\"dataframe\">\n",
       "  <thead>\n",
       "    <tr style=\"text-align: right;\">\n",
       "      <th></th>\n",
       "      <th>Profissões</th>\n",
       "      <th>salario até 3 anos</th>\n",
       "      <th>salaior +3 anos</th>\n",
       "    </tr>\n",
       "  </thead>\n",
       "  <tbody>\n",
       "    <tr>\n",
       "      <th>0</th>\n",
       "      <td>Cientista de Dados</td>\n",
       "      <td>10000</td>\n",
       "      <td>14000</td>\n",
       "    </tr>\n",
       "    <tr>\n",
       "      <th>1</th>\n",
       "      <td>dona de casa</td>\n",
       "      <td>1200</td>\n",
       "      <td>1200</td>\n",
       "    </tr>\n",
       "  </tbody>\n",
       "</table>\n",
       "</div>"
      ],
      "text/plain": [
       "           Profissões  salario até 3 anos  salaior +3 anos\n",
       "0  Cientista de Dados               10000            14000\n",
       "1        dona de casa                1200             1200"
      ]
     },
     "execution_count": 241,
     "metadata": {},
     "output_type": "execute_result"
    }
   ],
   "source": [
    "salario_df.head(2)"
   ]
  },
  {
   "cell_type": "code",
   "execution_count": 242,
   "metadata": {},
   "outputs": [
    {
     "data": {
      "text/html": [
       "<div>\n",
       "<style scoped>\n",
       "    .dataframe tbody tr th:only-of-type {\n",
       "        vertical-align: middle;\n",
       "    }\n",
       "\n",
       "    .dataframe tbody tr th {\n",
       "        vertical-align: top;\n",
       "    }\n",
       "\n",
       "    .dataframe thead th {\n",
       "        text-align: right;\n",
       "    }\n",
       "</style>\n",
       "<table border=\"1\" class=\"dataframe\">\n",
       "  <thead>\n",
       "    <tr style=\"text-align: right;\">\n",
       "      <th></th>\n",
       "      <th>cidade</th>\n",
       "      <th>preço</th>\n",
       "    </tr>\n",
       "  </thead>\n",
       "  <tbody>\n",
       "    <tr>\n",
       "      <th>0</th>\n",
       "      <td>São Vicente</td>\n",
       "      <td>3,45</td>\n",
       "    </tr>\n",
       "    <tr>\n",
       "      <th>1</th>\n",
       "      <td>Santos</td>\n",
       "      <td>3,33</td>\n",
       "    </tr>\n",
       "  </tbody>\n",
       "</table>\n",
       "</div>"
      ],
      "text/plain": [
       "        cidade preço\n",
       "0  São Vicente  3,45\n",
       "1       Santos  3,33"
      ]
     },
     "execution_count": 242,
     "metadata": {},
     "output_type": "execute_result"
    }
   ],
   "source": [
    "precos_df.head(2)"
   ]
  },
  {
   "cell_type": "code",
   "execution_count": 243,
   "metadata": {},
   "outputs": [
    {
     "data": {
      "text/html": [
       "<div>\n",
       "<style scoped>\n",
       "    .dataframe tbody tr th:only-of-type {\n",
       "        vertical-align: middle;\n",
       "    }\n",
       "\n",
       "    .dataframe tbody tr th {\n",
       "        vertical-align: top;\n",
       "    }\n",
       "\n",
       "    .dataframe thead th {\n",
       "        text-align: right;\n",
       "    }\n",
       "</style>\n",
       "<table border=\"1\" class=\"dataframe\">\n",
       "  <thead>\n",
       "    <tr style=\"text-align: right;\">\n",
       "      <th></th>\n",
       "      <th>UF</th>\n",
       "      <th>CIDADE</th>\n",
       "      <th>LONG</th>\n",
       "      <th>LAT</th>\n",
       "    </tr>\n",
       "  </thead>\n",
       "  <tbody>\n",
       "    <tr>\n",
       "      <th>0</th>\n",
       "      <td>RONDÔNIA</td>\n",
       "      <td>ALTA FLORESTA D'OESTE</td>\n",
       "      <td>-61.999824</td>\n",
       "      <td>-11.935540</td>\n",
       "    </tr>\n",
       "    <tr>\n",
       "      <th>1</th>\n",
       "      <td>RONDÔNIA</td>\n",
       "      <td>ARIQUEMES</td>\n",
       "      <td>-63.033269</td>\n",
       "      <td>-9.908463</td>\n",
       "    </tr>\n",
       "  </tbody>\n",
       "</table>\n",
       "</div>"
      ],
      "text/plain": [
       "         UF                 CIDADE       LONG        LAT\n",
       "0  RONDÔNIA  ALTA FLORESTA D'OESTE -61.999824 -11.935540\n",
       "1  RONDÔNIA              ARIQUEMES -63.033269  -9.908463"
      ]
     },
     "execution_count": 243,
     "metadata": {},
     "output_type": "execute_result"
    }
   ],
   "source": [
    "localidade_df.head(2)"
   ]
  },
  {
   "cell_type": "code",
   "execution_count": 244,
   "metadata": {},
   "outputs": [
    {
     "data": {
      "text/plain": [
       "<matplotlib.axes._subplots.AxesSubplot at 0x294bd8f7eb0>"
      ]
     },
     "execution_count": 244,
     "metadata": {},
     "output_type": "execute_result"
    },
    {
     "data": {
      "image/png": "[encoded data removed]",
      "text/plain": [
       "<Figure size 432x288 with 1 Axes>"
      ]
     },
     "metadata": {
      "needs_background": "light"
     },
     "output_type": "display_data"
    }
   ],
   "source": [
    "plt.style.use('bmh')\n",
    "cadastro_df.isnull().sum().plot(kind='barh')"
   ]
  },
  {
   "cell_type": "markdown",
   "metadata": {},
   "source": [
    "## Unificando os dados"
   ]
  },
  {
   "cell_type": "code",
   "execution_count": 273,
   "metadata": {},
   "outputs": [
    {
     "data": {
      "text/html": [
       "<div>\n",
       "<style scoped>\n",
       "    .dataframe tbody tr th:only-of-type {\n",
       "        vertical-align: middle;\n",
       "    }\n",
       "\n",
       "    .dataframe tbody tr th {\n",
       "        vertical-align: top;\n",
       "    }\n",
       "\n",
       "    .dataframe thead th {\n",
       "        text-align: right;\n",
       "    }\n",
       "</style>\n",
       "<table border=\"1\" class=\"dataframe\">\n",
       "  <thead>\n",
       "    <tr style=\"text-align: right;\">\n",
       "      <th></th>\n",
       "      <th>nome</th>\n",
       "      <th>sobrenome</th>\n",
       "      <th>ano_nascimento</th>\n",
       "      <th>sexo</th>\n",
       "      <th>cidade</th>\n",
       "      <th>profissão</th>\n",
       "      <th>experiencia profissional</th>\n",
       "      <th>estado_civil</th>\n",
       "      <th>filhos</th>\n",
       "      <th>lazer_final_de_semana</th>\n",
       "      <th>pratica_esporte</th>\n",
       "      <th>qual_esporte</th>\n",
       "      <th>quanta_vezes_na_semana_pratica_esporte</th>\n",
       "      <th>tem carro</th>\n",
       "      <th>escolaridade</th>\n",
       "      <th>Idade</th>\n",
       "      <th>Profissões</th>\n",
       "      <th>salario até 3 anos</th>\n",
       "      <th>salaior +3 anos</th>\n",
       "    </tr>\n",
       "  </thead>\n",
       "  <tbody>\n",
       "    <tr>\n",
       "      <th>0</th>\n",
       "      <td>Dirceu</td>\n",
       "      <td>Manolo</td>\n",
       "      <td>1985</td>\n",
       "      <td>m</td>\n",
       "      <td>São Vicente</td>\n",
       "      <td>CIENTISTA DE DADOS</td>\n",
       "      <td>4</td>\n",
       "      <td>Casado</td>\n",
       "      <td>1</td>\n",
       "      <td>estudar, academia, jogar video game,surfar</td>\n",
       "      <td>sim</td>\n",
       "      <td>academia</td>\n",
       "      <td>3.0</td>\n",
       "      <td>sim</td>\n",
       "      <td>Ensino Superior</td>\n",
       "      <td>35</td>\n",
       "      <td>CIENTISTA DE DADOS</td>\n",
       "      <td>10000</td>\n",
       "      <td>14000</td>\n",
       "    </tr>\n",
       "    <tr>\n",
       "      <th>1</th>\n",
       "      <td>Maria</td>\n",
       "      <td>Silva</td>\n",
       "      <td>1970</td>\n",
       "      <td>f</td>\n",
       "      <td>Santos</td>\n",
       "      <td>DONA DE CASA</td>\n",
       "      <td>2</td>\n",
       "      <td>Casada</td>\n",
       "      <td>3</td>\n",
       "      <td>ver tv</td>\n",
       "      <td>não</td>\n",
       "      <td>-</td>\n",
       "      <td>0.0</td>\n",
       "      <td>não</td>\n",
       "      <td>Ensino Médio</td>\n",
       "      <td>50</td>\n",
       "      <td>DONA DE CASA</td>\n",
       "      <td>1200</td>\n",
       "      <td>1200</td>\n",
       "    </tr>\n",
       "  </tbody>\n",
       "</table>\n",
       "</div>"
      ],
      "text/plain": [
       "     nome sobrenome  ano_nascimento sexo       cidade           profissão  \\\n",
       "0  Dirceu    Manolo            1985    m  São Vicente  CIENTISTA DE DADOS   \n",
       "1   Maria     Silva            1970    f       Santos        DONA DE CASA   \n",
       "\n",
       "   experiencia profissional estado_civil  filhos  \\\n",
       "0                         4       Casado       1   \n",
       "1                         2       Casada       3   \n",
       "\n",
       "                        lazer_final_de_semana pratica_esporte qual_esporte  \\\n",
       "0  estudar, academia, jogar video game,surfar             sim     academia   \n",
       "1                                      ver tv             não            -   \n",
       "\n",
       "   quanta_vezes_na_semana_pratica_esporte tem carro     escolaridade  Idade  \\\n",
       "0                                     3.0       sim  Ensino Superior     35   \n",
       "1                                     0.0       não     Ensino Médio     50   \n",
       "\n",
       "           Profissões  salario até 3 anos  salaior +3 anos  \n",
       "0  CIENTISTA DE DADOS               10000            14000  \n",
       "1        DONA DE CASA                1200             1200  "
      ]
     },
     "execution_count": 273,
     "metadata": {},
     "output_type": "execute_result"
    }
   ],
   "source": [
    "cadastro_df['profissão'] = cadastro_df['profissão'].str.upper()\n",
    "salario_df['Profissões'] = salario_df['Profissões'].str.upper()\n",
    "cadastro_salario_df = cadastro_df.merge(salario_df, left_on='profissão', right_on='Profissões')\n",
    "cadastro_salario_df.head(2)"
   ]
  },
  {
   "cell_type": "code",
   "execution_count": 274,
   "metadata": {},
   "outputs": [
    {
     "name": "stdout",
     "output_type": "stream",
     "text": [
      "Shape do dataframe localidade (29, 19)\n"
     ]
    }
   ],
   "source": [
    "print('Shape do dataframe localidade', cadastro_salario_df.shape)"
   ]
  },
  {
   "cell_type": "markdown",
   "metadata": {},
   "source": [
    "## Verificando campos nulos, corrigindo e padronizando os dados"
   ]
  },
  {
   "cell_type": "code",
   "execution_count": 275,
   "metadata": {},
   "outputs": [
    {
     "data": {
      "text/plain": [
       "<matplotlib.axes._subplots.AxesSubplot at 0x294bd967f10>"
      ]
     },
     "execution_count": 275,
     "metadata": {},
     "output_type": "execute_result"
    },
    {
     "data": {
      "image/png": "[encoded data removed]",
      "text/plain": [
       "<Figure size 432x288 with 1 Axes>"
      ]
     },
     "metadata": {
      "needs_background": "light"
     },
     "output_type": "display_data"
    }
   ],
   "source": [
    "plt.style.use('bmh')\n",
    "cadastro_salario_df.isnull().sum().plot(kind='barh')"
   ]
  },
  {
   "cell_type": "code",
   "execution_count": 276,
   "metadata": {},
   "outputs": [],
   "source": [
    "for index, row in cadastro_salario_df.iterrows():\n",
    "    if row['pratica_esporte'] != \"nan\":\n",
    "        cadastro_salario_df.loc[index,'pratica_esporte'] =  str(cadastro_salario_df.loc[index,'pratica_esporte'])\n",
    "    elif row['qual_esporte'] == '-':\n",
    "        cadastro_salario_df.loc[index,'pratica_esporte'] =  ('não')"
   ]
  },
  {
   "cell_type": "code",
   "execution_count": 277,
   "metadata": {},
   "outputs": [],
   "source": [
    "for index, row in cadastro_salario_df.iterrows():\n",
    "    if row['pratica_esporte'] == 'não':\n",
    "        cadastro_salario_df.loc[index,'quanta_vezes_na_semana_pratica_esporte'] =  (0)"
   ]
  },
  {
   "cell_type": "code",
   "execution_count": 278,
   "metadata": {},
   "outputs": [],
   "source": [
    "cadastro_salario_df['quanta_vezes_na_semana_pratica_esporte'] = cadastro_salario_df['quanta_vezes_na_semana_pratica_esporte'].fillna(round(cadastro_salario_df['quanta_vezes_na_semana_pratica_esporte'].mean()))"
   ]
  },
  {
   "cell_type": "code",
   "execution_count": 279,
   "metadata": {},
   "outputs": [
    {
     "data": {
      "text/plain": [
       "array(['Ensino Superior', 'Ensino Médio', 'Ensino Tecnico'], dtype=object)"
      ]
     },
     "execution_count": 279,
     "metadata": {},
     "output_type": "execute_result"
    }
   ],
   "source": [
    "cadastro_df['escolaridade'].unique()"
   ]
  },
  {
   "cell_type": "code",
   "execution_count": 280,
   "metadata": {},
   "outputs": [
    {
     "data": {
      "text/plain": [
       "array(['Ensino Superior', 'Ensino Médio', 'Ensino Tecnico'], dtype=object)"
      ]
     },
     "execution_count": 280,
     "metadata": {},
     "output_type": "execute_result"
    }
   ],
   "source": [
    "cadastro_df = cadastro_df.replace('Ensimo Tecnico', 'Ensino Tecnico')\n",
    "cadastro_df = cadastro_df.replace('ensino médio', 'Ensino Médio')\n",
    "cadastro_df = cadastro_df.replace('ensino Médio', 'Ensino Médio')\n",
    "cadastro_df = cadastro_df.replace('ensino superior', 'Ensino Superior')\n",
    "cadastro_df['escolaridade'].unique()"
   ]
  },
  {
   "cell_type": "code",
   "execution_count": 281,
   "metadata": {},
   "outputs": [
    {
     "data": {
      "text/html": [
       "<div>\n",
       "<style scoped>\n",
       "    .dataframe tbody tr th:only-of-type {\n",
       "        vertical-align: middle;\n",
       "    }\n",
       "\n",
       "    .dataframe tbody tr th {\n",
       "        vertical-align: top;\n",
       "    }\n",
       "\n",
       "    .dataframe thead th {\n",
       "        text-align: right;\n",
       "    }\n",
       "</style>\n",
       "<table border=\"1\" class=\"dataframe\">\n",
       "  <thead>\n",
       "    <tr style=\"text-align: right;\">\n",
       "      <th></th>\n",
       "      <th>nome</th>\n",
       "      <th>sobrenome</th>\n",
       "      <th>ano_nascimento</th>\n",
       "      <th>sexo</th>\n",
       "      <th>cidade</th>\n",
       "      <th>profissão</th>\n",
       "      <th>experiencia profissional</th>\n",
       "      <th>estado_civil</th>\n",
       "      <th>filhos</th>\n",
       "      <th>lazer_final_de_semana</th>\n",
       "      <th>pratica_esporte</th>\n",
       "      <th>qual_esporte</th>\n",
       "      <th>quanta_vezes_na_semana_pratica_esporte</th>\n",
       "      <th>tem carro</th>\n",
       "      <th>escolaridade</th>\n",
       "      <th>Idade</th>\n",
       "      <th>Profissões</th>\n",
       "      <th>salario até 3 anos</th>\n",
       "      <th>salaior +3 anos</th>\n",
       "      <th>Salario_Atual</th>\n",
       "    </tr>\n",
       "  </thead>\n",
       "  <tbody>\n",
       "    <tr>\n",
       "      <th>0</th>\n",
       "      <td>Dirceu</td>\n",
       "      <td>Manolo</td>\n",
       "      <td>1985</td>\n",
       "      <td>m</td>\n",
       "      <td>São Vicente</td>\n",
       "      <td>CIENTISTA DE DADOS</td>\n",
       "      <td>4</td>\n",
       "      <td>Casado</td>\n",
       "      <td>1</td>\n",
       "      <td>estudar, academia, jogar video game,surfar</td>\n",
       "      <td>sim</td>\n",
       "      <td>academia</td>\n",
       "      <td>3.0</td>\n",
       "      <td>sim</td>\n",
       "      <td>Ensino Superior</td>\n",
       "      <td>35</td>\n",
       "      <td>CIENTISTA DE DADOS</td>\n",
       "      <td>10000</td>\n",
       "      <td>14000</td>\n",
       "      <td>14000.0</td>\n",
       "    </tr>\n",
       "    <tr>\n",
       "      <th>1</th>\n",
       "      <td>Maria</td>\n",
       "      <td>Silva</td>\n",
       "      <td>1970</td>\n",
       "      <td>f</td>\n",
       "      <td>Santos</td>\n",
       "      <td>DONA DE CASA</td>\n",
       "      <td>2</td>\n",
       "      <td>Casada</td>\n",
       "      <td>3</td>\n",
       "      <td>ver tv</td>\n",
       "      <td>não</td>\n",
       "      <td>-</td>\n",
       "      <td>0.0</td>\n",
       "      <td>não</td>\n",
       "      <td>Ensino Médio</td>\n",
       "      <td>50</td>\n",
       "      <td>DONA DE CASA</td>\n",
       "      <td>1200</td>\n",
       "      <td>1200</td>\n",
       "      <td>1200.0</td>\n",
       "    </tr>\n",
       "  </tbody>\n",
       "</table>\n",
       "</div>"
      ],
      "text/plain": [
       "     nome sobrenome  ano_nascimento sexo       cidade           profissão  \\\n",
       "0  Dirceu    Manolo            1985    m  São Vicente  CIENTISTA DE DADOS   \n",
       "1   Maria     Silva            1970    f       Santos        DONA DE CASA   \n",
       "\n",
       "   experiencia profissional estado_civil  filhos  \\\n",
       "0                         4       Casado       1   \n",
       "1                         2       Casada       3   \n",
       "\n",
       "                        lazer_final_de_semana pratica_esporte qual_esporte  \\\n",
       "0  estudar, academia, jogar video game,surfar             sim     academia   \n",
       "1                                      ver tv             não            -   \n",
       "\n",
       "   quanta_vezes_na_semana_pratica_esporte tem carro     escolaridade  Idade  \\\n",
       "0                                     3.0       sim  Ensino Superior     35   \n",
       "1                                     0.0       não     Ensino Médio     50   \n",
       "\n",
       "           Profissões  salario até 3 anos  salaior +3 anos  Salario_Atual  \n",
       "0  CIENTISTA DE DADOS               10000            14000        14000.0  \n",
       "1        DONA DE CASA                1200             1200         1200.0  "
      ]
     },
     "execution_count": 281,
     "metadata": {},
     "output_type": "execute_result"
    }
   ],
   "source": [
    "for index, row in cadastro_salario_df.iterrows():\n",
    "    if row['experiencia profissional'] <= 3:\n",
    "        cadastro_salario_df.loc[index,'Salario_Atual'] =  int(cadastro_salario_df.loc[index,'salario até 3 anos'])\n",
    "    else:\n",
    "        cadastro_salario_df.loc[index,'Salario_Atual'] =  int(cadastro_salario_df.loc[index,'salaior +3 anos'])\n",
    "\n",
    "cadastro_salario_df.head(2)"
   ]
  },
  {
   "cell_type": "code",
   "execution_count": 282,
   "metadata": {},
   "outputs": [
    {
     "data": {
      "text/html": [
       "<div>\n",
       "<style scoped>\n",
       "    .dataframe tbody tr th:only-of-type {\n",
       "        vertical-align: middle;\n",
       "    }\n",
       "\n",
       "    .dataframe tbody tr th {\n",
       "        vertical-align: top;\n",
       "    }\n",
       "\n",
       "    .dataframe thead th {\n",
       "        text-align: right;\n",
       "    }\n",
       "</style>\n",
       "<table border=\"1\" class=\"dataframe\">\n",
       "  <thead>\n",
       "    <tr style=\"text-align: right;\">\n",
       "      <th></th>\n",
       "      <th>nome</th>\n",
       "      <th>sobrenome</th>\n",
       "      <th>ano_nascimento</th>\n",
       "      <th>sexo</th>\n",
       "      <th>cidade</th>\n",
       "      <th>experiencia profissional</th>\n",
       "      <th>estado_civil</th>\n",
       "      <th>filhos</th>\n",
       "      <th>lazer_final_de_semana</th>\n",
       "      <th>pratica_esporte</th>\n",
       "      <th>qual_esporte</th>\n",
       "      <th>quanta_vezes_na_semana_pratica_esporte</th>\n",
       "      <th>tem carro</th>\n",
       "      <th>escolaridade</th>\n",
       "      <th>Idade</th>\n",
       "      <th>Profissões</th>\n",
       "      <th>Salario_Atual</th>\n",
       "    </tr>\n",
       "  </thead>\n",
       "  <tbody>\n",
       "    <tr>\n",
       "      <th>0</th>\n",
       "      <td>Dirceu</td>\n",
       "      <td>Manolo</td>\n",
       "      <td>1985</td>\n",
       "      <td>m</td>\n",
       "      <td>São Vicente</td>\n",
       "      <td>4</td>\n",
       "      <td>Casado</td>\n",
       "      <td>1</td>\n",
       "      <td>estudar, academia, jogar video game,surfar</td>\n",
       "      <td>sim</td>\n",
       "      <td>academia</td>\n",
       "      <td>3.0</td>\n",
       "      <td>sim</td>\n",
       "      <td>Ensino Superior</td>\n",
       "      <td>35</td>\n",
       "      <td>CIENTISTA DE DADOS</td>\n",
       "      <td>14000.0</td>\n",
       "    </tr>\n",
       "    <tr>\n",
       "      <th>1</th>\n",
       "      <td>Maria</td>\n",
       "      <td>Silva</td>\n",
       "      <td>1970</td>\n",
       "      <td>f</td>\n",
       "      <td>Santos</td>\n",
       "      <td>2</td>\n",
       "      <td>Casada</td>\n",
       "      <td>3</td>\n",
       "      <td>ver tv</td>\n",
       "      <td>não</td>\n",
       "      <td>-</td>\n",
       "      <td>0.0</td>\n",
       "      <td>não</td>\n",
       "      <td>Ensino Médio</td>\n",
       "      <td>50</td>\n",
       "      <td>DONA DE CASA</td>\n",
       "      <td>1200.0</td>\n",
       "    </tr>\n",
       "  </tbody>\n",
       "</table>\n",
       "</div>"
      ],
      "text/plain": [
       "     nome sobrenome  ano_nascimento sexo       cidade  \\\n",
       "0  Dirceu    Manolo            1985    m  São Vicente   \n",
       "1   Maria     Silva            1970    f       Santos   \n",
       "\n",
       "   experiencia profissional estado_civil  filhos  \\\n",
       "0                         4       Casado       1   \n",
       "1                         2       Casada       3   \n",
       "\n",
       "                        lazer_final_de_semana pratica_esporte qual_esporte  \\\n",
       "0  estudar, academia, jogar video game,surfar             sim     academia   \n",
       "1                                      ver tv             não            -   \n",
       "\n",
       "   quanta_vezes_na_semana_pratica_esporte tem carro     escolaridade  Idade  \\\n",
       "0                                     3.0       sim  Ensino Superior     35   \n",
       "1                                     0.0       não     Ensino Médio     50   \n",
       "\n",
       "           Profissões  Salario_Atual  \n",
       "0  CIENTISTA DE DADOS        14000.0  \n",
       "1        DONA DE CASA         1200.0  "
      ]
     },
     "execution_count": 282,
     "metadata": {},
     "output_type": "execute_result"
    }
   ],
   "source": [
    "cadastro_salario_df = cadastro_salario_df.drop('profissão', axis = 1)\n",
    "cadastro_salario_df = cadastro_salario_df.drop('salario até 3 anos', axis = 1)\n",
    "cadastro_salario_df = cadastro_salario_df.drop('salaior +3 anos', axis = 1)\n",
    "cadastro_salario_df.head(2)"
   ]
  },
  {
   "cell_type": "code",
   "execution_count": 283,
   "metadata": {},
   "outputs": [],
   "source": [
    "cadastro_salario_df['sobrenome'] = cadastro_salario_df['sobrenome'].fillna('Indeterminado')"
   ]
  },
  {
   "cell_type": "code",
   "execution_count": 284,
   "metadata": {},
   "outputs": [],
   "source": [
    "cadastro_salario_df['tem carro'] = cadastro_salario_df['tem carro'].fillna('não')"
   ]
  },
  {
   "cell_type": "code",
   "execution_count": 285,
   "metadata": {},
   "outputs": [
    {
     "data": {
      "text/plain": [
       "(29, 17)"
      ]
     },
     "execution_count": 285,
     "metadata": {},
     "output_type": "execute_result"
    }
   ],
   "source": [
    "cadastro_salario_df.shape"
   ]
  },
  {
   "cell_type": "code",
   "execution_count": 286,
   "metadata": {},
   "outputs": [
    {
     "data": {
      "text/plain": [
       "nome                                      0\n",
       "sobrenome                                 0\n",
       "ano_nascimento                            0\n",
       "sexo                                      0\n",
       "cidade                                    0\n",
       "experiencia profissional                  0\n",
       "estado_civil                              0\n",
       "filhos                                    0\n",
       "lazer_final_de_semana                     0\n",
       "pratica_esporte                           0\n",
       "qual_esporte                              0\n",
       "quanta_vezes_na_semana_pratica_esporte    0\n",
       "tem carro                                 0\n",
       "escolaridade                              0\n",
       "Idade                                     0\n",
       "Profissões                                0\n",
       "Salario_Atual                             0\n",
       "dtype: int64"
      ]
     },
     "execution_count": 286,
     "metadata": {},
     "output_type": "execute_result"
    }
   ],
   "source": [
    "plt.style.use('bmh')\n",
    "cadastro_salario_df.isnull().sum()#.plot(kind='barh')"
   ]
  },
  {
   "cell_type": "markdown",
   "metadata": {},
   "source": [
    "## Transformando os dados em informação para responder as perguntas"
   ]
  },
  {
   "cell_type": "code",
   "execution_count": 287,
   "metadata": {},
   "outputs": [
    {
     "name": "stdout",
     "output_type": "stream",
     "text": [
      "A idade média das pessoas cadastradas é 33.0\n"
     ]
    }
   ],
   "source": [
    "cadastro_df['Idade'] = 2020 - cadastro_df[\"ano_nascimento\"]\n",
    "media = round(sum(cadastro_df['Idade'])/len(cadastro_df['Idade']),0)\n",
    "print('A idade média das pessoas cadastradas é',media)"
   ]
  },
  {
   "cell_type": "code",
   "execution_count": 288,
   "metadata": {},
   "outputs": [
    {
     "name": "stdout",
     "output_type": "stream",
     "text": [
      "{'m': 16, 'f': 14}\n"
     ]
    },
    {
     "data": {
      "image/png": "[encoded data removed]",
      "text/plain": [
       "<Figure size 432x288 with 1 Axes>"
      ]
     },
     "metadata": {
      "needs_background": "light"
     },
     "output_type": "display_data"
    }
   ],
   "source": [
    "sexo_dict = dict(Counter(cadastro_df['sexo']))\n",
    "sexo_df = pd.DataFrame(sexo_dict.items(), columns = ['Sexo','Quantidade'])\n",
    "sexo_df.plot(kind='barh', x ='Sexo' , y = 'Quantidade', title = 'Quantidade de Pessoas do sexo Feminino(f) e Masculino(m)',color = 'red')\n",
    "print(sexo_dict)"
   ]
  },
  {
   "cell_type": "code",
   "execution_count": 289,
   "metadata": {},
   "outputs": [
    {
     "name": "stdout",
     "output_type": "stream",
     "text": [
      "A idade média das pessoas cadastradas do sexo feminino é 34.0\n"
     ]
    }
   ],
   "source": [
    "cadastro_f_df = cadastro_df.loc[(cadastro_df.sexo == 'f')]\n",
    "media = round(sum(cadastro_f_df['Idade'])/len(cadastro_f_df['Idade']),0)\n",
    "print('A idade média das pessoas cadastradas do sexo feminino é',media)"
   ]
  },
  {
   "cell_type": "code",
   "execution_count": 290,
   "metadata": {},
   "outputs": [
    {
     "name": "stdout",
     "output_type": "stream",
     "text": [
      "A idade média das pessoas cadastradas do sexo masculino é 32.0\n"
     ]
    }
   ],
   "source": [
    "cadastro_m_df = cadastro_df.loc[(cadastro_df.sexo == 'm')]\n",
    "media = round(sum(cadastro_m_df['Idade'])/len(cadastro_m_df['Idade']),0)\n",
    "print('A idade média das pessoas cadastradas do sexo masculino é',media)"
   ]
  },
  {
   "cell_type": "code",
   "execution_count": 291,
   "metadata": {},
   "outputs": [
    {
     "name": "stdout",
     "output_type": "stream",
     "text": [
      "{'Ensino Superior': 21, 'Ensino Médio': 8, 'Ensino Tecnico': 1}\n"
     ]
    },
    {
     "data": {
      "image/png": "[encoded data removed]",
      "text/plain": [
       "<Figure size 432x288 with 1 Axes>"
      ]
     },
     "metadata": {
      "needs_background": "light"
     },
     "output_type": "display_data"
    }
   ],
   "source": [
    "escolaridade_dict = dict(Counter(cadastro_df['escolaridade']))\n",
    "escolaridade_df = pd.DataFrame(escolaridade_dict.items(), columns = ['Escolaridade','Quantidade'])\n",
    "escolaridade_df.plot(kind='barh', x ='Escolaridade' , y = 'Quantidade', title = 'Quantidade de Pessoas por Escolaridade',color = 'green')\n",
    "print(escolaridade_dict)"
   ]
  },
  {
   "cell_type": "code",
   "execution_count": 292,
   "metadata": {},
   "outputs": [
    {
     "name": "stdout",
     "output_type": "stream",
     "text": [
      "A média dos salarios é 4617\n"
     ]
    }
   ],
   "source": [
    "media = round(cadastro_salario_df['Salario_Atual'].mean())\n",
    "print(\"A média dos salarios é\",media)"
   ]
  },
  {
   "cell_type": "code",
   "execution_count": 293,
   "metadata": {},
   "outputs": [
    {
     "name": "stdout",
     "output_type": "stream",
     "text": [
      "O maior salario é: \n",
      "    Salario_Atual Profissões\n",
      "9        20000.0     MÉDICA\n"
     ]
    }
   ],
   "source": [
    "maior_df = cadastro_salario_df.loc[(cadastro_salario_df.Salario_Atual == round(max(cadastro_salario_df['Salario_Atual']))),['Salario_Atual', 'Profissões']]\n",
    "print(\"O maior salario é: \\n\",maior_df)"
   ]
  },
  {
   "cell_type": "code",
   "execution_count": 294,
   "metadata": {},
   "outputs": [
    {
     "name": "stdout",
     "output_type": "stream",
     "text": [
      "O menor salario é: \n",
      "    Profissões  Salario_Atual\n",
      "10  ESTUDANTE            0.0\n",
      "11  ESTUDANTE            0.0\n"
     ]
    }
   ],
   "source": [
    "menor_df = cadastro_salario_df.loc[(cadastro_salario_df.Profissões != 'DESEMPREGADO') & (cadastro_salario_df.Salario_Atual == round(min(cadastro_salario_df['Salario_Atual']))),[\"Profissões\",\"Salario_Atual\"]]\n",
    "print(\"O menor salario é: \\n\",menor_df)"
   ]
  },
  {
   "cell_type": "code",
   "execution_count": 295,
   "metadata": {},
   "outputs": [
    {
     "data": {
      "text/html": [
       "<div>\n",
       "<style scoped>\n",
       "    .dataframe tbody tr th:only-of-type {\n",
       "        vertical-align: middle;\n",
       "    }\n",
       "\n",
       "    .dataframe tbody tr th {\n",
       "        vertical-align: top;\n",
       "    }\n",
       "\n",
       "    .dataframe thead th {\n",
       "        text-align: right;\n",
       "    }\n",
       "</style>\n",
       "<table border=\"1\" class=\"dataframe\">\n",
       "  <thead>\n",
       "    <tr style=\"text-align: right;\">\n",
       "      <th></th>\n",
       "      <th>nome</th>\n",
       "      <th>sobrenome</th>\n",
       "      <th>ano_nascimento</th>\n",
       "      <th>sexo</th>\n",
       "      <th>cidade</th>\n",
       "      <th>experiencia profissional</th>\n",
       "      <th>estado_civil</th>\n",
       "      <th>filhos</th>\n",
       "      <th>lazer_final_de_semana</th>\n",
       "      <th>pratica_esporte</th>\n",
       "      <th>qual_esporte</th>\n",
       "      <th>quanta_vezes_na_semana_pratica_esporte</th>\n",
       "      <th>tem carro</th>\n",
       "      <th>escolaridade</th>\n",
       "      <th>Idade</th>\n",
       "      <th>Profissões</th>\n",
       "      <th>Salario_Atual</th>\n",
       "      <th>faz_caminhada</th>\n",
       "    </tr>\n",
       "  </thead>\n",
       "  <tbody>\n",
       "    <tr>\n",
       "      <th>0</th>\n",
       "      <td>Dirceu</td>\n",
       "      <td>Manolo</td>\n",
       "      <td>1985</td>\n",
       "      <td>m</td>\n",
       "      <td>São Vicente</td>\n",
       "      <td>4</td>\n",
       "      <td>Casado</td>\n",
       "      <td>1</td>\n",
       "      <td>estudar, academia, jogar video game,surfar</td>\n",
       "      <td>sim</td>\n",
       "      <td>academia</td>\n",
       "      <td>3.0</td>\n",
       "      <td>sim</td>\n",
       "      <td>Ensino Superior</td>\n",
       "      <td>35</td>\n",
       "      <td>CIENTISTA DE DADOS</td>\n",
       "      <td>14000.0</td>\n",
       "      <td>Não</td>\n",
       "    </tr>\n",
       "    <tr>\n",
       "      <th>1</th>\n",
       "      <td>Maria</td>\n",
       "      <td>Silva</td>\n",
       "      <td>1970</td>\n",
       "      <td>f</td>\n",
       "      <td>Santos</td>\n",
       "      <td>2</td>\n",
       "      <td>Casada</td>\n",
       "      <td>3</td>\n",
       "      <td>ver tv</td>\n",
       "      <td>não</td>\n",
       "      <td>-</td>\n",
       "      <td>0.0</td>\n",
       "      <td>não</td>\n",
       "      <td>Ensino Médio</td>\n",
       "      <td>50</td>\n",
       "      <td>DONA DE CASA</td>\n",
       "      <td>1200.0</td>\n",
       "      <td>Não</td>\n",
       "    </tr>\n",
       "  </tbody>\n",
       "</table>\n",
       "</div>"
      ],
      "text/plain": [
       "     nome sobrenome  ano_nascimento sexo       cidade  \\\n",
       "0  Dirceu    Manolo            1985    m  São Vicente   \n",
       "1   Maria     Silva            1970    f       Santos   \n",
       "\n",
       "   experiencia profissional estado_civil  filhos  \\\n",
       "0                         4       Casado       1   \n",
       "1                         2       Casada       3   \n",
       "\n",
       "                        lazer_final_de_semana pratica_esporte qual_esporte  \\\n",
       "0  estudar, academia, jogar video game,surfar             sim     academia   \n",
       "1                                      ver tv             não            -   \n",
       "\n",
       "   quanta_vezes_na_semana_pratica_esporte tem carro     escolaridade  Idade  \\\n",
       "0                                     3.0       sim  Ensino Superior     35   \n",
       "1                                     0.0       não     Ensino Médio     50   \n",
       "\n",
       "           Profissões  Salario_Atual faz_caminhada  \n",
       "0  CIENTISTA DE DADOS        14000.0           Não  \n",
       "1        DONA DE CASA         1200.0           Não  "
      ]
     },
     "execution_count": 295,
     "metadata": {},
     "output_type": "execute_result"
    }
   ],
   "source": [
    "cadastro_salario_df['faz_caminhada'] = cadastro_salario_df.lazer_final_de_semana.str.contains('caminhar')\n",
    "caminha = {True:\"Sim\", False:\"Não\"}\n",
    "cadastro_salario_df['faz_caminhada'] = cadastro_salario_df['faz_caminhada'].map(caminha)\n",
    "cadastro_salario_df.head(2)"
   ]
  },
  {
   "cell_type": "code",
   "execution_count": 296,
   "metadata": {},
   "outputs": [
    {
     "name": "stdout",
     "output_type": "stream",
     "text": [
      "  faz_caminhada  Quantidade\n",
      "0           Não          26\n",
      "1           Sim           3\n"
     ]
    },
    {
     "data": {
      "text/plain": [
       "<matplotlib.axes._subplots.AxesSubplot at 0x294bde65100>"
      ]
     },
     "execution_count": 296,
     "metadata": {},
     "output_type": "execute_result"
    },
    {
     "data": {
      "image/png": "[encoded data removed]",
      "text/plain": [
       "<Figure size 432x288 with 1 Axes>"
      ]
     },
     "metadata": {
      "needs_background": "light"
     },
     "output_type": "display_data"
    }
   ],
   "source": [
    "cadastro_dict = dict(Counter(cadastro_salario_df['faz_caminhada']))\n",
    "df_caminhar = pd.DataFrame(cadastro_dict.items(), columns = ['faz_caminhada','Quantidade'])\n",
    "print(df_caminhar)\n",
    "df_caminhar.plot(kind='bar', x ='faz_caminhada' , y = 'Quantidade', title = 'Quantidade de pessoas que fazem caminhada',color = 'green')\n"
   ]
  },
  {
   "cell_type": "code",
   "execution_count": 297,
   "metadata": {},
   "outputs": [],
   "source": [
    "cadastro_salario_df['cidade'] = cadastro_salario_df['cidade'].str.upper()"
   ]
  },
  {
   "cell_type": "code",
   "execution_count": 298,
   "metadata": {},
   "outputs": [
    {
     "data": {
      "text/html": [
       "<div>\n",
       "<style scoped>\n",
       "    .dataframe tbody tr th:only-of-type {\n",
       "        vertical-align: middle;\n",
       "    }\n",
       "\n",
       "    .dataframe tbody tr th {\n",
       "        vertical-align: top;\n",
       "    }\n",
       "\n",
       "    .dataframe thead th {\n",
       "        text-align: right;\n",
       "    }\n",
       "</style>\n",
       "<table border=\"1\" class=\"dataframe\">\n",
       "  <thead>\n",
       "    <tr style=\"text-align: right;\">\n",
       "      <th></th>\n",
       "      <th>nome</th>\n",
       "      <th>sobrenome</th>\n",
       "      <th>ano_nascimento</th>\n",
       "      <th>sexo</th>\n",
       "      <th>cidade</th>\n",
       "      <th>experiencia profissional</th>\n",
       "      <th>estado_civil</th>\n",
       "      <th>filhos</th>\n",
       "      <th>lazer_final_de_semana</th>\n",
       "      <th>pratica_esporte</th>\n",
       "      <th>...</th>\n",
       "      <th>tem carro</th>\n",
       "      <th>escolaridade</th>\n",
       "      <th>Idade</th>\n",
       "      <th>Profissões</th>\n",
       "      <th>Salario_Atual</th>\n",
       "      <th>faz_caminhada</th>\n",
       "      <th>UF</th>\n",
       "      <th>CIDADE</th>\n",
       "      <th>LONG</th>\n",
       "      <th>LAT</th>\n",
       "    </tr>\n",
       "  </thead>\n",
       "  <tbody>\n",
       "    <tr>\n",
       "      <th>0</th>\n",
       "      <td>Dirceu</td>\n",
       "      <td>Manolo</td>\n",
       "      <td>1985</td>\n",
       "      <td>m</td>\n",
       "      <td>SÃO VICENTE</td>\n",
       "      <td>4</td>\n",
       "      <td>Casado</td>\n",
       "      <td>1</td>\n",
       "      <td>estudar, academia, jogar video game,surfar</td>\n",
       "      <td>sim</td>\n",
       "      <td>...</td>\n",
       "      <td>sim</td>\n",
       "      <td>Ensino Superior</td>\n",
       "      <td>35</td>\n",
       "      <td>CIENTISTA DE DADOS</td>\n",
       "      <td>14000.0</td>\n",
       "      <td>Não</td>\n",
       "      <td>RIO GRANDE DO NORTE</td>\n",
       "      <td>SÃO VICENTE</td>\n",
       "      <td>-36.688662</td>\n",
       "      <td>-6.214964</td>\n",
       "    </tr>\n",
       "    <tr>\n",
       "      <th>1</th>\n",
       "      <td>Dirceu</td>\n",
       "      <td>Manolo</td>\n",
       "      <td>1985</td>\n",
       "      <td>m</td>\n",
       "      <td>SÃO VICENTE</td>\n",
       "      <td>4</td>\n",
       "      <td>Casado</td>\n",
       "      <td>1</td>\n",
       "      <td>estudar, academia, jogar video game,surfar</td>\n",
       "      <td>sim</td>\n",
       "      <td>...</td>\n",
       "      <td>sim</td>\n",
       "      <td>Ensino Superior</td>\n",
       "      <td>35</td>\n",
       "      <td>CIENTISTA DE DADOS</td>\n",
       "      <td>14000.0</td>\n",
       "      <td>Não</td>\n",
       "      <td>SÃO PAULO</td>\n",
       "      <td>SÃO VICENTE</td>\n",
       "      <td>-46.384491</td>\n",
       "      <td>-23.967373</td>\n",
       "    </tr>\n",
       "  </tbody>\n",
       "</table>\n",
       "<p>2 rows × 22 columns</p>\n",
       "</div>"
      ],
      "text/plain": [
       "     nome sobrenome  ano_nascimento sexo       cidade  \\\n",
       "0  Dirceu    Manolo            1985    m  SÃO VICENTE   \n",
       "1  Dirceu    Manolo            1985    m  SÃO VICENTE   \n",
       "\n",
       "   experiencia profissional estado_civil  filhos  \\\n",
       "0                         4       Casado       1   \n",
       "1                         4       Casado       1   \n",
       "\n",
       "                        lazer_final_de_semana pratica_esporte  ... tem carro  \\\n",
       "0  estudar, academia, jogar video game,surfar             sim  ...       sim   \n",
       "1  estudar, academia, jogar video game,surfar             sim  ...       sim   \n",
       "\n",
       "      escolaridade Idade          Profissões  Salario_Atual faz_caminhada  \\\n",
       "0  Ensino Superior    35  CIENTISTA DE DADOS        14000.0           Não   \n",
       "1  Ensino Superior    35  CIENTISTA DE DADOS        14000.0           Não   \n",
       "\n",
       "                    UF       CIDADE       LONG        LAT  \n",
       "0  RIO GRANDE DO NORTE  SÃO VICENTE -36.688662  -6.214964  \n",
       "1            SÃO PAULO  SÃO VICENTE -46.384491 -23.967373  \n",
       "\n",
       "[2 rows x 22 columns]"
      ]
     },
     "execution_count": 298,
     "metadata": {},
     "output_type": "execute_result"
    }
   ],
   "source": [
    "cadastro_coord_df = cadastro_salario_df.merge(localidade_df, left_on='cidade', right_on= 'CIDADE')\n",
    "cadastro_coord_df.head(2)"
   ]
  },
  {
   "cell_type": "code",
   "execution_count": 299,
   "metadata": {},
   "outputs": [
    {
     "data": {
      "text/html": [
       "<div style=\"width:100%;\"><div style=\"position:relative;width:100%;height:0;padding-bottom:60%;\"><span style=\"color:#565656\">Make this Notebook Trusted to load map: File -> Trust Notebook</span><iframe src=\"about:blank\" style=\"position:absolute;width:100%;height:100%;left:0;top:0;border:none !important;\" data-html=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 onload=\"this.contentDocument.open();this.contentDocument.write(atob(this.getAttribute('data-html')));this.contentDocument.close();\" allowfullscreen webkitallowfullscreen mozallowfullscreen></iframe></div></div>"
      ],
      "text/plain": [
       "<folium.folium.Map at 0x294bdec6e80>"
      ]
     },
     "execution_count": 299,
     "metadata": {},
     "output_type": "execute_result"
    }
   ],
   "source": [
    "coordenadas=[]\n",
    "for lat,lng in zip(cadastro_coord_df.LAT.values,cadastro_coord_df.LONG.values):\n",
    "    coordenadas.append([lat,lng])\n",
    "mapa = folium.Map(location=[-15.788497,-47.879873],zoom_start=5,tiles='Stamen Terrain')\n",
    "mapa.add_child(plugins.HeatMap(coordenadas))        \n",
    "mapa.save('mapa.html')\n",
    "mapa"
   ]
  },
  {
   "cell_type": "code",
   "execution_count": 300,
   "metadata": {},
   "outputs": [
    {
     "name": "stdout",
     "output_type": "stream",
     "text": [
      "                                        ano_nascimento  \\\n",
      "ano_nascimento                                1.000000   \n",
      "experiencia profissional                     -0.266910   \n",
      "filhos                                       -0.396652   \n",
      "quanta_vezes_na_semana_pratica_esporte        0.106012   \n",
      "Idade                                        -1.000000   \n",
      "Salario_Atual                                -0.290321   \n",
      "\n",
      "                                        experiencia profissional    filhos  \\\n",
      "ano_nascimento                                         -0.266910 -0.396652   \n",
      "experiencia profissional                                1.000000  0.391715   \n",
      "filhos                                                  0.391715  1.000000   \n",
      "quanta_vezes_na_semana_pratica_esporte                 -0.087040 -0.260716   \n",
      "Idade                                                   0.266910  0.396652   \n",
      "Salario_Atual                                           0.572957  0.222093   \n",
      "\n",
      "                                        quanta_vezes_na_semana_pratica_esporte  \\\n",
      "ano_nascimento                                                        0.106012   \n",
      "experiencia profissional                                             -0.087040   \n",
      "filhos                                                               -0.260716   \n",
      "quanta_vezes_na_semana_pratica_esporte                                1.000000   \n",
      "Idade                                                                -0.106012   \n",
      "Salario_Atual                                                         0.097652   \n",
      "\n",
      "                                           Idade  Salario_Atual  \n",
      "ano_nascimento                         -1.000000      -0.290321  \n",
      "experiencia profissional                0.266910       0.572957  \n",
      "filhos                                  0.396652       0.222093  \n",
      "quanta_vezes_na_semana_pratica_esporte -0.106012       0.097652  \n",
      "Idade                                   1.000000       0.290321  \n",
      "Salario_Atual                           0.290321       1.000000  \n"
     ]
    },
    {
     "data": {
      "text/plain": [
       "<matplotlib.axes._subplots.AxesSubplot at 0x294bdebb7c0>"
      ]
     },
     "execution_count": 300,
     "metadata": {},
     "output_type": "execute_result"
    },
    {
     "data": {
      "image/png": "[encoded data removed]",
      "text/plain": [
       "<Figure size 792x648 with 2 Axes>"
      ]
     },
     "metadata": {
      "needs_background": "light"
     },
     "output_type": "display_data"
    }
   ],
   "source": [
    "# Compute the correlation matrix\n",
    "corr = cadastro_salario_df.corr()\n",
    "print(corr)\n",
    "cmap = sns.cubehelix_palette(rot=-.2, as_cmap=True)\n",
    "\n",
    "# Generate a mask for the upper triangle\n",
    "mask = np.triu(np.ones_like(corr, dtype=bool))\n",
    "\n",
    "# Set up the matplotlib figure\n",
    "f, ax = plt.subplots(figsize=(11, 9))\n",
    "\n",
    "# Draw the heatmap with the mask and correct aspect ratio\n",
    "sns.heatmap(corr, mask=mask, cmap=cmap, vmax=.3, center=0,\n",
    "            square=True, linewidths=.5, cbar_kws={\"shrink\": .5})"
   ]
  },
  {
   "cell_type": "code",
   "execution_count": 311,
   "metadata": {},
   "outputs": [
    {
     "data": {
      "text/plain": [
       "<matplotlib.axes._subplots.AxesSubplot at 0x294bd6e4580>"
      ]
     },
     "execution_count": 311,
     "metadata": {},
     "output_type": "execute_result"
    },
    {
     "data": {
      "image/png": "[encoded data removed]",
      "text/plain": [
       "<Figure size 432x288 with 1 Axes>"
      ]
     },
     "metadata": {
      "needs_background": "light"
     },
     "output_type": "display_data"
    }
   ],
   "source": [
    "cidade_dict = dict(Counter(cadastro_salario_df['cidade']))\n",
    "cidade_df = pd.DataFrame(cidade_dict.items(), columns = ['Cidade','Quantidade'])\n",
    "cidade_df = cidade_df.sort_values(by=['Quantidade'],ascending=True)\n",
    "cidade_df.plot(kind='barh', x ='Cidade' , y = 'Quantidade', title = 'Quantidade de Pessoas por Cidade',color = 'green')"
   ]
  },
  {
   "cell_type": "code",
   "execution_count": 308,
   "metadata": {},
   "outputs": [
    {
     "data": {
      "text/plain": [
       "<matplotlib.axes._subplots.AxesSubplot at 0x294bf6026d0>"
      ]
     },
     "execution_count": 308,
     "metadata": {},
     "output_type": "execute_result"
    },
    {
     "data": {
      "image/png": "[encoded data removed]",
      "text/plain": [
       "<Figure size 432x288 with 1 Axes>"
      ]
     },
     "metadata": {
      "needs_background": "light"
     },
     "output_type": "display_data"
    }
   ],
   "source": [
    "estado_dict = dict(Counter(cadastro_coord_df['UF']))\n",
    "estado_df = pd.DataFrame(estado_dict.items(), columns = ['Estado','Quantidade'])\n",
    "estado_df = estado_df.sort_values(by=['Quantidade'],ascending=True)\n",
    "estado_df.plot(kind='barh', x ='Estado' , y = 'Quantidade', title = 'Quantidade de Pessoas por estado',color = 'green')"
   ]
  }
 ],
 "metadata": {
  "kernelspec": {
   "display_name": "Python 3",
   "language": "python",
   "name": "python3"
  },
  "language_info": {
   "codemirror_mode": {
    "name": "ipython",
    "version": 3
   },
   "file_extension": ".py",
   "mimetype": "text/x-python",
   "name": "python",
   "nbconvert_exporter": "python",
   "pygments_lexer": "ipython3",
   "version": "3.8.3"
  }
 },
 "nbformat": 4,
 "nbformat_minor": 4
}
