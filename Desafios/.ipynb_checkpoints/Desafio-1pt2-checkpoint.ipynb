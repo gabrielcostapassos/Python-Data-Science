{
 "cells": [
  {
   "cell_type": "markdown",
   "metadata": {},
   "source": [
    "<center><h2>Desafio 1 pt2</center>"
   ]
  },
  {
   "cell_type": "markdown",
   "metadata": {},
   "source": [
    "Gostou do desafio ? Se sim, vamos continuar no mesmo então. Agora a tarefa é simples.<br>\n",
    "1 - Transforme seu código em metodo.<br>\n",
    "\n",
    "2 - Nos dias da semana, fiz com if. Minha pergunta para os senhores é: posso usar uma estrutura como um dicionario e realizar a mesma tarefa?<br>\n",
    "<b></b>\n",
    "\n",
    "3 - Agora faça o seguinte:<br>\n",
    "<ul>a. Transforme tudo em um tipo dataframe.<br>\n",
    "b. Faça um filtro e retorne apenas uma  semana.<br>  \n",
    "c. Dentro dessa semana, verifique:<br>\n",
    "<ul>c1. Qual o dia da semana mais falado<br>\n",
    "c2. Qual o horario.  <br>\n",
    "c3 Responda porque acha isso ?<br>"
   ]
  },
  {
   "cell_type": "code",
   "execution_count": 146,
   "metadata": {},
   "outputs": [],
   "source": [
    "#biblioteca para formatar data\n",
    "import datetime\n",
    "\n",
    "#biblioteca para inserir contador\n",
    "import collections\n",
    "from collections import Counter\n",
    "\n",
    "import pandas as pd\n",
    "\n",
    "#biblioteca para gráficos\n",
    "import matplotlib\n",
    "import matplotlib.pyplot as plt\n",
    "\n",
    "import seaborn as sns"
   ]
  },
  {
   "cell_type": "code",
   "execution_count": 95,
   "metadata": {},
   "outputs": [],
   "source": [
    "#Leitura e segmentação dos dados para analise\n",
    "def chat(arquivo):\n",
    "    arquivo = open(\"C:/conversa.txt\",\"r\",encoding=\"utf8\")\n",
    "    linha = arquivo.readline()\n",
    "\n",
    "    datas = []\n",
    "    pessoas = []\n",
    "    msgs = []\n",
    "    horas = []\n",
    "    erros_formatacao = []\n",
    "\n",
    "\n",
    "    while linha:\n",
    "        linha = arquivo.readline()\n",
    "    \n",
    "        try:\n",
    "            date_obj = datetime.datetime.strptime(linha[0:10], '%d/%m/%Y')#Extraindo a data \n",
    "            time_obj = datetime.datetime.strptime(linha[11:13], '%H' )#Extraindo o hora    \n",
    "            datas.append(date_obj)\n",
    "            horas.append(time_obj.time().hour)\n",
    "            msg = linha[19:]\n",
    "            if(len(msg.split(':')) >= 2):\n",
    "                pessoas.append(msg.split(':')[0])\n",
    "                msgs.append(msg.split(':')[1])\n",
    "        except ValueError:\n",
    "                erros_formatacao.append(\"Erros de formatação de data\")\n",
    "    arquivo.close()\n",
    "    return (datas,pessoas,msgs,horas)"
   ]
  },
  {
   "cell_type": "code",
   "execution_count": 96,
   "metadata": {},
   "outputs": [],
   "source": [
    "#Extraindo o dia da semana\n",
    "def dia_da_semana(datas):\n",
    "    dict_dias_semana = ({1:'segunda', 2:'terca', 3:'quarta', 4:'quinta', 5:'sexta', 6:'sabado', 7:'domingo'})\n",
    "    dia_semana = []\n",
    "    for data in datas:\n",
    "        dia_semana.append(dict_dias_semana.get(data.weekday()))\n",
    "    return(dia_semana)"
   ]
  },
  {
   "cell_type": "code",
   "execution_count": 111,
   "metadata": {},
   "outputs": [],
   "source": [
    "#Armazena todos os dados em um data frame \n",
    "def data_frame():\n",
    "    df1 = pd.DataFrame(datas, columns=['Datas'])\n",
    "    df1['Dia_Semana'] = pd.DataFrame(dia_da_semana(datas), columns=[\"Dia_Semana\"])\n",
    "    df1['Horas'] = pd.DataFrame(horas, columns=[\"Horas\"]) \n",
    "    df2 = pd.DataFrame(pessoas, columns=[\"Pessoas\"])\n",
    "    df2['Mensagem'] = pd.DataFrame(msgs, columns=[\"Mensagem\"])\n",
    "    chat = pd.concat([df1,df2], ignore_index=True, axis=1)\n",
    "    chat = chat.rename(columns={0:'Datas',1:'Dia_Semana', 2:'Horas',3:'Pessoas',4:\"Mensagens\"})\n",
    "    chat['%'] = 1\n",
    "    return(chat)"
   ]
  },
  {
   "cell_type": "markdown",
   "metadata": {},
   "source": [
    "Filtrado o período de uma semana (13/07 a 18/07) e armazenado o resultado em outro dataframe."
   ]
  },
  {
   "cell_type": "code",
   "execution_count": 112,
   "metadata": {},
   "outputs": [
    {
     "data": {
      "text/html": [
       "<div>\n",
       "<style scoped>\n",
       "    .dataframe tbody tr th:only-of-type {\n",
       "        vertical-align: middle;\n",
       "    }\n",
       "\n",
       "    .dataframe tbody tr th {\n",
       "        vertical-align: top;\n",
       "    }\n",
       "\n",
       "    .dataframe thead th {\n",
       "        text-align: right;\n",
       "    }\n",
       "</style>\n",
       "<table border=\"1\" class=\"dataframe\">\n",
       "  <thead>\n",
       "    <tr style=\"text-align: right;\">\n",
       "      <th></th>\n",
       "      <th>Datas</th>\n",
       "      <th>Dia_Semana</th>\n",
       "      <th>Horas</th>\n",
       "      <th>Pessoas</th>\n",
       "      <th>Mensagens</th>\n",
       "      <th>%</th>\n",
       "    </tr>\n",
       "  </thead>\n",
       "  <tbody>\n",
       "    <tr>\n",
       "      <th>405</th>\n",
       "      <td>2020-07-14</td>\n",
       "      <td>segunda</td>\n",
       "      <td>17</td>\n",
       "      <td>+55 11 96473-6071</td>\n",
       "      <td>Alguém tem.o link da aula de hoje?\\n</td>\n",
       "      <td>1</td>\n",
       "    </tr>\n",
       "    <tr>\n",
       "      <th>406</th>\n",
       "      <td>2020-07-14</td>\n",
       "      <td>segunda</td>\n",
       "      <td>18</td>\n",
       "      <td>+55 11 98852-3212</td>\n",
       "      <td>https</td>\n",
       "      <td>1</td>\n",
       "    </tr>\n",
       "    <tr>\n",
       "      <th>407</th>\n",
       "      <td>2020-07-14</td>\n",
       "      <td>segunda</td>\n",
       "      <td>18</td>\n",
       "      <td>+55 11 96473-6071</td>\n",
       "      <td>Obrigado\\n</td>\n",
       "      <td>1</td>\n",
       "    </tr>\n",
       "    <tr>\n",
       "      <th>408</th>\n",
       "      <td>2020-07-14</td>\n",
       "      <td>segunda</td>\n",
       "      <td>18</td>\n",
       "      <td>+55 11 98852-3212</td>\n",
       "      <td>tem que entrar pelo usuario que a impacta pas...</td>\n",
       "      <td>1</td>\n",
       "    </tr>\n",
       "    <tr>\n",
       "      <th>409</th>\n",
       "      <td>2020-07-14</td>\n",
       "      <td>segunda</td>\n",
       "      <td>18</td>\n",
       "      <td>+55 11 98667-5675</td>\n",
       "      <td>A senha com CPF não está funcionando com o em...</td>\n",
       "      <td>1</td>\n",
       "    </tr>\n",
       "    <tr>\n",
       "      <th>...</th>\n",
       "      <td>...</td>\n",
       "      <td>...</td>\n",
       "      <td>...</td>\n",
       "      <td>...</td>\n",
       "      <td>...</td>\n",
       "      <td>...</td>\n",
       "    </tr>\n",
       "    <tr>\n",
       "      <th>494</th>\n",
       "      <td>2020-07-17</td>\n",
       "      <td>quinta</td>\n",
       "      <td>0</td>\n",
       "      <td>Impacta Prof Thiago Rolemberg</td>\n",
       "      <td>Mas seria uma espécie de solução de recover d...</td>\n",
       "      <td>1</td>\n",
       "    </tr>\n",
       "    <tr>\n",
       "      <th>495</th>\n",
       "      <td>2020-07-17</td>\n",
       "      <td>quinta</td>\n",
       "      <td>0</td>\n",
       "      <td>Impacta Luiza</td>\n",
       "      <td>Vou fazer isso\\n</td>\n",
       "      <td>1</td>\n",
       "    </tr>\n",
       "    <tr>\n",
       "      <th>496</th>\n",
       "      <td>2020-07-17</td>\n",
       "      <td>quinta</td>\n",
       "      <td>0</td>\n",
       "      <td>Impacta Luiza</td>\n",
       "      <td>Pessoal tem aula hj?\\n</td>\n",
       "      <td>1</td>\n",
       "    </tr>\n",
       "    <tr>\n",
       "      <th>497</th>\n",
       "      <td>2020-07-17</td>\n",
       "      <td>quinta</td>\n",
       "      <td>0</td>\n",
       "      <td>+55 11 98934-9779</td>\n",
       "      <td>Tem\\n</td>\n",
       "      <td>1</td>\n",
       "    </tr>\n",
       "    <tr>\n",
       "      <th>498</th>\n",
       "      <td>2020-07-17</td>\n",
       "      <td>quinta</td>\n",
       "      <td>0</td>\n",
       "      <td>Impacta Luiza</td>\n",
       "      <td>Perdi muita coisa?\\n</td>\n",
       "      <td>1</td>\n",
       "    </tr>\n",
       "  </tbody>\n",
       "</table>\n",
       "<p>94 rows × 6 columns</p>\n",
       "</div>"
      ],
      "text/plain": [
       "         Datas Dia_Semana  Horas                        Pessoas  \\\n",
       "405 2020-07-14    segunda     17              +55 11 96473-6071   \n",
       "406 2020-07-14    segunda     18              +55 11 98852-3212   \n",
       "407 2020-07-14    segunda     18              +55 11 96473-6071   \n",
       "408 2020-07-14    segunda     18              +55 11 98852-3212   \n",
       "409 2020-07-14    segunda     18              +55 11 98667-5675   \n",
       "..         ...        ...    ...                            ...   \n",
       "494 2020-07-17     quinta      0  Impacta Prof Thiago Rolemberg   \n",
       "495 2020-07-17     quinta      0                  Impacta Luiza   \n",
       "496 2020-07-17     quinta      0                  Impacta Luiza   \n",
       "497 2020-07-17     quinta      0              +55 11 98934-9779   \n",
       "498 2020-07-17     quinta      0                  Impacta Luiza   \n",
       "\n",
       "                                             Mensagens  %  \n",
       "405               Alguém tem.o link da aula de hoje?\\n  1  \n",
       "406                                              https  1  \n",
       "407                                         Obrigado\\n  1  \n",
       "408   tem que entrar pelo usuario que a impacta pas...  1  \n",
       "409   A senha com CPF não está funcionando com o em...  1  \n",
       "..                                                 ... ..  \n",
       "494   Mas seria uma espécie de solução de recover d...  1  \n",
       "495                                   Vou fazer isso\\n  1  \n",
       "496                             Pessoal tem aula hj?\\n  1  \n",
       "497                                              Tem\\n  1  \n",
       "498                               Perdi muita coisa?\\n  1  \n",
       "\n",
       "[94 rows x 6 columns]"
      ]
     },
     "execution_count": 112,
     "metadata": {},
     "output_type": "execute_result"
    }
   ],
   "source": [
    "chat2 = data_frame().loc[(data_frame().Datas > '2020-07-12') & (data_frame().Datas < '2020-07-19')]\n",
    "chat2"
   ]
  },
  {
   "cell_type": "code",
   "execution_count": 153,
   "metadata": {},
   "outputs": [
    {
     "data": {
      "text/html": [
       "<div>\n",
       "<style scoped>\n",
       "    .dataframe tbody tr th:only-of-type {\n",
       "        vertical-align: middle;\n",
       "    }\n",
       "\n",
       "    .dataframe tbody tr th {\n",
       "        vertical-align: top;\n",
       "    }\n",
       "\n",
       "    .dataframe thead th {\n",
       "        text-align: right;\n",
       "    }\n",
       "</style>\n",
       "<table border=\"1\" class=\"dataframe\">\n",
       "  <thead>\n",
       "    <tr style=\"text-align: right;\">\n",
       "      <th></th>\n",
       "      <th>%</th>\n",
       "    </tr>\n",
       "    <tr>\n",
       "      <th>Dia_Semana</th>\n",
       "      <th></th>\n",
       "    </tr>\n",
       "  </thead>\n",
       "  <tbody>\n",
       "    <tr>\n",
       "      <th>quarta</th>\n",
       "      <td>57.4</td>\n",
       "    </tr>\n",
       "    <tr>\n",
       "      <th>quinta</th>\n",
       "      <td>11.7</td>\n",
       "    </tr>\n",
       "    <tr>\n",
       "      <th>segunda</th>\n",
       "      <td>29.8</td>\n",
       "    </tr>\n",
       "    <tr>\n",
       "      <th>terca</th>\n",
       "      <td>1.1</td>\n",
       "    </tr>\n",
       "  </tbody>\n",
       "</table>\n",
       "</div>"
      ],
      "text/plain": [
       "               %\n",
       "Dia_Semana      \n",
       "quarta      57.4\n",
       "quinta      11.7\n",
       "segunda     29.8\n",
       "terca        1.1"
      ]
     },
     "execution_count": 153,
     "metadata": {},
     "output_type": "execute_result"
    }
   ],
   "source": [
    "x = round((chat2[['Dia_Semana','%']].groupby(\"Dia_Semana\").sum() * 100) / chat2.shape[0],1)\n",
    "x"
   ]
  },
  {
   "cell_type": "code",
   "execution_count": 157,
   "metadata": {},
   "outputs": [
    {
     "data": {
      "text/plain": [
       "<matplotlib.axes._subplots.AxesSubplot at 0x1d76991c670>"
      ]
     },
     "execution_count": 157,
     "metadata": {},
     "output_type": "execute_result"
    },
    {
     "data": {
      "image/png": "[encoded data removed]",
      "text/plain": [
       "<Figure size 432x288 with 1 Axes>"
      ]
     },
     "metadata": {
      "needs_background": "light"
     },
     "output_type": "display_data"
    }
   ],
   "source": [
    "dict_dia_semana = dict(Counter(chat2['Dia_Semana']))\n",
    "df_dia_semana = pd.DataFrame(dict_dia_semana.items(), columns = ['Dia_Semana','Frequencia'])\n",
    "df_dia_semana = df_dia_semana.sort_values(by=['Frequencia'], ascending=False)\n",
    "df_dia_semana.plot(kind='bar', x ='Dia_Semana' , y = 'Frequencia', title = 'Frequencia por dia da semana')"
   ]
  },
  {
   "cell_type": "markdown",
   "metadata": {},
   "source": [
    "Percebe-se que na quarta-feira o fluxo de conversas aumenta, concentrando-se 57,4% das conversas."
   ]
  },
  {
   "cell_type": "code",
   "execution_count": 125,
   "metadata": {},
   "outputs": [
    {
     "data": {
      "text/html": [
       "<div>\n",
       "<style scoped>\n",
       "    .dataframe tbody tr th:only-of-type {\n",
       "        vertical-align: middle;\n",
       "    }\n",
       "\n",
       "    .dataframe tbody tr th {\n",
       "        vertical-align: top;\n",
       "    }\n",
       "\n",
       "    .dataframe thead th {\n",
       "        text-align: right;\n",
       "    }\n",
       "</style>\n",
       "<table border=\"1\" class=\"dataframe\">\n",
       "  <thead>\n",
       "    <tr style=\"text-align: right;\">\n",
       "      <th></th>\n",
       "      <th>%</th>\n",
       "    </tr>\n",
       "    <tr>\n",
       "      <th>Horas</th>\n",
       "      <th></th>\n",
       "    </tr>\n",
       "  </thead>\n",
       "  <tbody>\n",
       "    <tr>\n",
       "      <th>0</th>\n",
       "      <td>12.8</td>\n",
       "    </tr>\n",
       "    <tr>\n",
       "      <th>9</th>\n",
       "      <td>2.1</td>\n",
       "    </tr>\n",
       "    <tr>\n",
       "      <th>17</th>\n",
       "      <td>1.1</td>\n",
       "    </tr>\n",
       "    <tr>\n",
       "      <th>18</th>\n",
       "      <td>41.5</td>\n",
       "    </tr>\n",
       "    <tr>\n",
       "      <th>19</th>\n",
       "      <td>28.7</td>\n",
       "    </tr>\n",
       "    <tr>\n",
       "      <th>20</th>\n",
       "      <td>1.1</td>\n",
       "    </tr>\n",
       "    <tr>\n",
       "      <th>22</th>\n",
       "      <td>9.6</td>\n",
       "    </tr>\n",
       "    <tr>\n",
       "      <th>23</th>\n",
       "      <td>3.2</td>\n",
       "    </tr>\n",
       "  </tbody>\n",
       "</table>\n",
       "</div>"
      ],
      "text/plain": [
       "          %\n",
       "Horas      \n",
       "0      12.8\n",
       "9       2.1\n",
       "17      1.1\n",
       "18     41.5\n",
       "19     28.7\n",
       "20      1.1\n",
       "22      9.6\n",
       "23      3.2"
      ]
     },
     "execution_count": 125,
     "metadata": {},
     "output_type": "execute_result"
    }
   ],
   "source": [
    "round((chat2[['Horas','%']].groupby(\"Horas\").sum() * 100) / chat2.shape[0],1)"
   ]
  },
  {
   "cell_type": "code",
   "execution_count": 158,
   "metadata": {},
   "outputs": [
    {
     "data": {
      "text/plain": [
       "<matplotlib.axes._subplots.AxesSubplot at 0x1d769be0940>"
      ]
     },
     "execution_count": 158,
     "metadata": {},
     "output_type": "execute_result"
    },
    {
     "data": {
      "image/png": "[encoded data removed]",
      "text/plain": [
       "<Figure size 432x288 with 1 Axes>"
      ]
     },
     "metadata": {
      "needs_background": "light"
     },
     "output_type": "display_data"
    }
   ],
   "source": [
    "dict_horas = dict(Counter(chat2['Horas']))\n",
    "df_horas = pd.DataFrame(dict_horas.items(), columns = ['Horas','Frequencia'])\n",
    "df_horas = df_horas.sort_values(by=['Frequencia'], ascending=False)\n",
    "df_horas.plot(kind='bar', x ='Horas' , y = 'Frequencia', title = 'Frequencia por horario')"
   ]
  },
  {
   "cell_type": "markdown",
   "metadata": {},
   "source": [
    "Percebe-se que as 18h o fluxo de conversas aumenta, concentrando-se 41,5% das conversas no dia."
   ]
  }
 ],
 "metadata": {
  "kernelspec": {
   "display_name": "Python 3",
   "language": "python",
   "name": "python3"
  },
  "language_info": {
   "codemirror_mode": {
    "name": "ipython",
    "version": 3
   },
   "file_extension": ".py",
   "mimetype": "text/x-python",
   "name": "python",
   "nbconvert_exporter": "python",
   "pygments_lexer": "ipython3",
   "version": "3.8.3"
  }
 },
 "nbformat": 4,
 "nbformat_minor": 4
}
