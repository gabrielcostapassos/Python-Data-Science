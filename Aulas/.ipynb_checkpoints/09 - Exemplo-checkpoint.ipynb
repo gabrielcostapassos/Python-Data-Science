{
 "cells": [
  {
   "cell_type": "code",
   "execution_count": 1,
   "metadata": {},
   "outputs": [],
   "source": [
    "import pandas as pd\n",
    "import numpy as np\n",
    "import matplotlib.pyplot as plt\n",
    "\n",
    "%matplotlib inline"
   ]
  },
  {
   "cell_type": "code",
   "execution_count": 2,
   "metadata": {},
   "outputs": [],
   "source": [
    "cadastro_df = pd.read_csv('cadastro - cadastro.csv')\n",
    "precos_df = pd.read_csv('preco da gasolina - preco da gasolina.csv')\n",
    "salario_df = pd.read_csv('salario_profissoes - salario_profissoes.csv')"
   ]
  },
  {
   "cell_type": "code",
   "execution_count": 3,
   "metadata": {},
   "outputs": [
    {
     "data": {
      "text/html": [
       "<div>\n",
       "<style scoped>\n",
       "    .dataframe tbody tr th:only-of-type {\n",
       "        vertical-align: middle;\n",
       "    }\n",
       "\n",
       "    .dataframe tbody tr th {\n",
       "        vertical-align: top;\n",
       "    }\n",
       "\n",
       "    .dataframe thead th {\n",
       "        text-align: right;\n",
       "    }\n",
       "</style>\n",
       "<table border=\"1\" class=\"dataframe\">\n",
       "  <thead>\n",
       "    <tr style=\"text-align: right;\">\n",
       "      <th></th>\n",
       "      <th>nome</th>\n",
       "      <th>sobrenome</th>\n",
       "      <th>ano_nascimento</th>\n",
       "      <th>sexo</th>\n",
       "      <th>cidade</th>\n",
       "      <th>profissão</th>\n",
       "      <th>experiencia profissional</th>\n",
       "      <th>estado_civil</th>\n",
       "      <th>filhos</th>\n",
       "      <th>lazer_final_de_semana</th>\n",
       "      <th>pratica_esporte</th>\n",
       "      <th>qual_esporte</th>\n",
       "      <th>quanta_vezes_na_semana_pratica_esporte</th>\n",
       "      <th>tem carro</th>\n",
       "      <th>escolaridade</th>\n",
       "    </tr>\n",
       "  </thead>\n",
       "  <tbody>\n",
       "    <tr>\n",
       "      <th>0</th>\n",
       "      <td>Dirceu</td>\n",
       "      <td>Manolo</td>\n",
       "      <td>1985</td>\n",
       "      <td>m</td>\n",
       "      <td>São Vicente</td>\n",
       "      <td>Cientista de Dados</td>\n",
       "      <td>4</td>\n",
       "      <td>Casado</td>\n",
       "      <td>1</td>\n",
       "      <td>estudar, academia, jogar video game,surfar</td>\n",
       "      <td>sim</td>\n",
       "      <td>academia</td>\n",
       "      <td>3.0</td>\n",
       "      <td>sim</td>\n",
       "      <td>Ensino Superior</td>\n",
       "    </tr>\n",
       "    <tr>\n",
       "      <th>1</th>\n",
       "      <td>Maria</td>\n",
       "      <td>Silva</td>\n",
       "      <td>1970</td>\n",
       "      <td>f</td>\n",
       "      <td>Santos</td>\n",
       "      <td>dona de casa</td>\n",
       "      <td>2</td>\n",
       "      <td>Casada</td>\n",
       "      <td>3</td>\n",
       "      <td>ver tv</td>\n",
       "      <td>não</td>\n",
       "      <td>-</td>\n",
       "      <td>0.0</td>\n",
       "      <td>não</td>\n",
       "      <td>Ensino Médio</td>\n",
       "    </tr>\n",
       "    <tr>\n",
       "      <th>2</th>\n",
       "      <td>Adalberto</td>\n",
       "      <td>Martins</td>\n",
       "      <td>1990</td>\n",
       "      <td>m</td>\n",
       "      <td>São Paulo</td>\n",
       "      <td>desempregado</td>\n",
       "      <td>0</td>\n",
       "      <td>Solteiro</td>\n",
       "      <td>1</td>\n",
       "      <td>jogar bola</td>\n",
       "      <td>sim</td>\n",
       "      <td>jogo bola</td>\n",
       "      <td>2.0</td>\n",
       "      <td>sim</td>\n",
       "      <td>Ensino Superior</td>\n",
       "    </tr>\n",
       "  </tbody>\n",
       "</table>\n",
       "</div>"
      ],
      "text/plain": [
       "        nome sobrenome  ano_nascimento sexo       cidade           profissão  \\\n",
       "0     Dirceu    Manolo            1985    m  São Vicente  Cientista de Dados   \n",
       "1      Maria     Silva            1970    f       Santos        dona de casa   \n",
       "2  Adalberto   Martins            1990    m    São Paulo        desempregado   \n",
       "\n",
       "   experiencia profissional estado_civil  filhos  \\\n",
       "0                         4       Casado       1   \n",
       "1                         2       Casada       3   \n",
       "2                         0     Solteiro       1   \n",
       "\n",
       "                        lazer_final_de_semana pratica_esporte qual_esporte  \\\n",
       "0  estudar, academia, jogar video game,surfar             sim     academia   \n",
       "1                                      ver tv             não            -   \n",
       "2                                  jogar bola             sim    jogo bola   \n",
       "\n",
       "   quanta_vezes_na_semana_pratica_esporte tem carro     escolaridade  \n",
       "0                                     3.0       sim  Ensino Superior  \n",
       "1                                     0.0       não     Ensino Médio  \n",
       "2                                     2.0       sim  Ensino Superior  "
      ]
     },
     "execution_count": 3,
     "metadata": {},
     "output_type": "execute_result"
    }
   ],
   "source": [
    "cadastro_df.head(3)"
   ]
  },
  {
   "cell_type": "code",
   "execution_count": 4,
   "metadata": {},
   "outputs": [
    {
     "data": {
      "text/html": [
       "<div>\n",
       "<style scoped>\n",
       "    .dataframe tbody tr th:only-of-type {\n",
       "        vertical-align: middle;\n",
       "    }\n",
       "\n",
       "    .dataframe tbody tr th {\n",
       "        vertical-align: top;\n",
       "    }\n",
       "\n",
       "    .dataframe thead th {\n",
       "        text-align: right;\n",
       "    }\n",
       "</style>\n",
       "<table border=\"1\" class=\"dataframe\">\n",
       "  <thead>\n",
       "    <tr style=\"text-align: right;\">\n",
       "      <th></th>\n",
       "      <th>cidade</th>\n",
       "      <th>preço</th>\n",
       "    </tr>\n",
       "  </thead>\n",
       "  <tbody>\n",
       "    <tr>\n",
       "      <th>0</th>\n",
       "      <td>São Vicente</td>\n",
       "      <td>3,45</td>\n",
       "    </tr>\n",
       "    <tr>\n",
       "      <th>1</th>\n",
       "      <td>Santos</td>\n",
       "      <td>3,33</td>\n",
       "    </tr>\n",
       "    <tr>\n",
       "      <th>2</th>\n",
       "      <td>São Paulo</td>\n",
       "      <td>3,23</td>\n",
       "    </tr>\n",
       "  </tbody>\n",
       "</table>\n",
       "</div>"
      ],
      "text/plain": [
       "        cidade preço\n",
       "0  São Vicente  3,45\n",
       "1       Santos  3,33\n",
       "2    São Paulo  3,23"
      ]
     },
     "execution_count": 4,
     "metadata": {},
     "output_type": "execute_result"
    }
   ],
   "source": [
    "precos_df.head(3)"
   ]
  },
  {
   "cell_type": "code",
   "execution_count": 5,
   "metadata": {},
   "outputs": [
    {
     "data": {
      "text/html": [
       "<div>\n",
       "<style scoped>\n",
       "    .dataframe tbody tr th:only-of-type {\n",
       "        vertical-align: middle;\n",
       "    }\n",
       "\n",
       "    .dataframe tbody tr th {\n",
       "        vertical-align: top;\n",
       "    }\n",
       "\n",
       "    .dataframe thead th {\n",
       "        text-align: right;\n",
       "    }\n",
       "</style>\n",
       "<table border=\"1\" class=\"dataframe\">\n",
       "  <thead>\n",
       "    <tr style=\"text-align: right;\">\n",
       "      <th></th>\n",
       "      <th>Profissões</th>\n",
       "      <th>salario até 3 anos</th>\n",
       "      <th>salaior +3 anos</th>\n",
       "    </tr>\n",
       "  </thead>\n",
       "  <tbody>\n",
       "    <tr>\n",
       "      <th>0</th>\n",
       "      <td>Cientista de Dados</td>\n",
       "      <td>10000</td>\n",
       "      <td>14000</td>\n",
       "    </tr>\n",
       "    <tr>\n",
       "      <th>1</th>\n",
       "      <td>dona de casa</td>\n",
       "      <td>1200</td>\n",
       "      <td>1200</td>\n",
       "    </tr>\n",
       "    <tr>\n",
       "      <th>2</th>\n",
       "      <td>desempregado</td>\n",
       "      <td>0</td>\n",
       "      <td>0</td>\n",
       "    </tr>\n",
       "  </tbody>\n",
       "</table>\n",
       "</div>"
      ],
      "text/plain": [
       "           Profissões  salario até 3 anos  salaior +3 anos\n",
       "0  Cientista de Dados               10000            14000\n",
       "1        dona de casa                1200             1200\n",
       "2        desempregado                   0                0"
      ]
     },
     "execution_count": 5,
     "metadata": {},
     "output_type": "execute_result"
    }
   ],
   "source": [
    "salario_df.head(3)"
   ]
  },
  {
   "cell_type": "code",
   "execution_count": 6,
   "metadata": {},
   "outputs": [
    {
     "name": "stdout",
     "output_type": "stream",
     "text": [
      "Shape do dataframe cadastro (30, 15)\n",
      "Shape do dataframe preço (19, 2)\n",
      "Shape do dataframe salario (23, 3)\n"
     ]
    }
   ],
   "source": [
    "print('Shape do dataframe cadastro',cadastro_df.shape)\n",
    "print('Shape do dataframe preço',precos_df.shape)\n",
    "print('Shape do dataframe salario', salario_df.shape)"
   ]
  },
  {
   "cell_type": "markdown",
   "metadata": {},
   "source": [
    "Avaliando a incidencia de dados nulos ou vazios no dataframe"
   ]
  },
  {
   "cell_type": "code",
   "execution_count": 7,
   "metadata": {},
   "outputs": [
    {
     "data": {
      "text/plain": [
       "<matplotlib.axes._subplots.AxesSubplot at 0x1f010fbf610>"
      ]
     },
     "execution_count": 7,
     "metadata": {},
     "output_type": "execute_result"
    },
    {
     "data": {
      "image/png": "[encoded data removed]",
      "text/plain": [
       "<Figure size 432x288 with 1 Axes>"
      ]
     },
     "metadata": {
      "needs_background": "light"
     },
     "output_type": "display_data"
    }
   ],
   "source": [
    "cadastro_df.isnull().sum().plot(kind='bar')"
   ]
  },
  {
   "cell_type": "code",
   "execution_count": 8,
   "metadata": {},
   "outputs": [
    {
     "data": {
      "text/plain": [
       "cidade    0\n",
       "preço     0\n",
       "dtype: int64"
      ]
     },
     "execution_count": 8,
     "metadata": {},
     "output_type": "execute_result"
    }
   ],
   "source": [
    "precos_df.isnull().sum()"
   ]
  },
  {
   "cell_type": "code",
   "execution_count": 9,
   "metadata": {},
   "outputs": [
    {
     "data": {
      "text/plain": [
       "Profissões            0\n",
       "salario até 3 anos    0\n",
       "salaior +3 anos       0\n",
       "dtype: int64"
      ]
     },
     "execution_count": 9,
     "metadata": {},
     "output_type": "execute_result"
    }
   ],
   "source": [
    "salario_df.isnull().sum()"
   ]
  },
  {
   "cell_type": "markdown",
   "metadata": {},
   "source": [
    "Podemos preencher os valores nulos caso seja necessário."
   ]
  },
  {
   "cell_type": "code",
   "execution_count": 10,
   "metadata": {},
   "outputs": [],
   "source": [
    "cadastro_df['tem carro'] = cadastro_df['tem carro'].fillna('nao')"
   ]
  },
  {
   "cell_type": "markdown",
   "metadata": {},
   "source": [
    "Pensando um pouco mais avançado.\n",
    "\n",
    "sintaxe: fillna(method = 'pad')\n",
    "\n",
    ".fillna('missing')\n",
    "\n",
    "pad / ffill: propagate last valid observation forward to next valid <br/>\n",
    "backfill / bfill: use NEXT valid observation to fill gap"
   ]
  },
  {
   "cell_type": "code",
   "execution_count": 11,
   "metadata": {},
   "outputs": [],
   "source": [
    "novo_df = cadastro_df.merge(precos_df, left_on='cidade', right_on='cidade')"
   ]
  },
  {
   "cell_type": "code",
   "execution_count": 12,
   "metadata": {},
   "outputs": [
    {
     "data": {
      "text/html": [
       "<div>\n",
       "<style scoped>\n",
       "    .dataframe tbody tr th:only-of-type {\n",
       "        vertical-align: middle;\n",
       "    }\n",
       "\n",
       "    .dataframe tbody tr th {\n",
       "        vertical-align: top;\n",
       "    }\n",
       "\n",
       "    .dataframe thead th {\n",
       "        text-align: right;\n",
       "    }\n",
       "</style>\n",
       "<table border=\"1\" class=\"dataframe\">\n",
       "  <thead>\n",
       "    <tr style=\"text-align: right;\">\n",
       "      <th></th>\n",
       "      <th>nome</th>\n",
       "      <th>sobrenome</th>\n",
       "      <th>ano_nascimento</th>\n",
       "      <th>sexo</th>\n",
       "      <th>cidade</th>\n",
       "      <th>profissão</th>\n",
       "      <th>experiencia profissional</th>\n",
       "      <th>estado_civil</th>\n",
       "      <th>filhos</th>\n",
       "      <th>lazer_final_de_semana</th>\n",
       "      <th>pratica_esporte</th>\n",
       "      <th>qual_esporte</th>\n",
       "      <th>quanta_vezes_na_semana_pratica_esporte</th>\n",
       "      <th>tem carro</th>\n",
       "      <th>escolaridade</th>\n",
       "      <th>preço</th>\n",
       "    </tr>\n",
       "  </thead>\n",
       "  <tbody>\n",
       "    <tr>\n",
       "      <th>0</th>\n",
       "      <td>Dirceu</td>\n",
       "      <td>Manolo</td>\n",
       "      <td>1985</td>\n",
       "      <td>m</td>\n",
       "      <td>São Vicente</td>\n",
       "      <td>Cientista de Dados</td>\n",
       "      <td>4</td>\n",
       "      <td>Casado</td>\n",
       "      <td>1</td>\n",
       "      <td>estudar, academia, jogar video game,surfar</td>\n",
       "      <td>sim</td>\n",
       "      <td>academia</td>\n",
       "      <td>3.0</td>\n",
       "      <td>sim</td>\n",
       "      <td>Ensino Superior</td>\n",
       "      <td>3,45</td>\n",
       "    </tr>\n",
       "    <tr>\n",
       "      <th>1</th>\n",
       "      <td>Maria</td>\n",
       "      <td>Silva</td>\n",
       "      <td>1970</td>\n",
       "      <td>f</td>\n",
       "      <td>Santos</td>\n",
       "      <td>dona de casa</td>\n",
       "      <td>2</td>\n",
       "      <td>Casada</td>\n",
       "      <td>3</td>\n",
       "      <td>ver tv</td>\n",
       "      <td>não</td>\n",
       "      <td>-</td>\n",
       "      <td>0.0</td>\n",
       "      <td>não</td>\n",
       "      <td>Ensino Médio</td>\n",
       "      <td>3,33</td>\n",
       "    </tr>\n",
       "    <tr>\n",
       "      <th>2</th>\n",
       "      <td>Adalberto</td>\n",
       "      <td>Martins</td>\n",
       "      <td>1990</td>\n",
       "      <td>m</td>\n",
       "      <td>São Paulo</td>\n",
       "      <td>desempregado</td>\n",
       "      <td>0</td>\n",
       "      <td>Solteiro</td>\n",
       "      <td>1</td>\n",
       "      <td>jogar bola</td>\n",
       "      <td>sim</td>\n",
       "      <td>jogo bola</td>\n",
       "      <td>2.0</td>\n",
       "      <td>sim</td>\n",
       "      <td>Ensino Superior</td>\n",
       "      <td>3,23</td>\n",
       "    </tr>\n",
       "    <tr>\n",
       "      <th>3</th>\n",
       "      <td>Joao</td>\n",
       "      <td>Victor</td>\n",
       "      <td>2001</td>\n",
       "      <td>m</td>\n",
       "      <td>São Paulo</td>\n",
       "      <td>estagiario</td>\n",
       "      <td>2</td>\n",
       "      <td>Solteiro</td>\n",
       "      <td>0</td>\n",
       "      <td>só jogo bola</td>\n",
       "      <td>sim</td>\n",
       "      <td>jogo bola</td>\n",
       "      <td>1.0</td>\n",
       "      <td>não</td>\n",
       "      <td>Ensino Superior</td>\n",
       "      <td>3,23</td>\n",
       "    </tr>\n",
       "    <tr>\n",
       "      <th>4</th>\n",
       "      <td>Dirce</td>\n",
       "      <td>Nogueira</td>\n",
       "      <td>1967</td>\n",
       "      <td>f</td>\n",
       "      <td>São Paulo</td>\n",
       "      <td>Autonoma</td>\n",
       "      <td>9</td>\n",
       "      <td>Casada</td>\n",
       "      <td>5</td>\n",
       "      <td>fico com meus filhos, durante a semana não ten...</td>\n",
       "      <td>não</td>\n",
       "      <td>-</td>\n",
       "      <td>0.0</td>\n",
       "      <td>sim</td>\n",
       "      <td>Ensino Superior</td>\n",
       "      <td>3,23</td>\n",
       "    </tr>\n",
       "  </tbody>\n",
       "</table>\n",
       "</div>"
      ],
      "text/plain": [
       "        nome sobrenome  ano_nascimento sexo       cidade           profissão  \\\n",
       "0     Dirceu    Manolo            1985    m  São Vicente  Cientista de Dados   \n",
       "1      Maria     Silva            1970    f       Santos        dona de casa   \n",
       "2  Adalberto   Martins            1990    m    São Paulo        desempregado   \n",
       "3       Joao    Victor            2001    m    São Paulo          estagiario   \n",
       "4      Dirce  Nogueira            1967    f    São Paulo            Autonoma   \n",
       "\n",
       "   experiencia profissional estado_civil  filhos  \\\n",
       "0                         4       Casado       1   \n",
       "1                         2       Casada       3   \n",
       "2                         0     Solteiro       1   \n",
       "3                         2     Solteiro       0   \n",
       "4                         9       Casada       5   \n",
       "\n",
       "                               lazer_final_de_semana pratica_esporte  \\\n",
       "0         estudar, academia, jogar video game,surfar             sim   \n",
       "1                                             ver tv             não   \n",
       "2                                         jogar bola             sim   \n",
       "3                                       só jogo bola             sim   \n",
       "4  fico com meus filhos, durante a semana não ten...             não   \n",
       "\n",
       "  qual_esporte  quanta_vezes_na_semana_pratica_esporte tem carro  \\\n",
       "0     academia                                     3.0       sim   \n",
       "1            -                                     0.0       não   \n",
       "2    jogo bola                                     2.0       sim   \n",
       "3    jogo bola                                     1.0       não   \n",
       "4            -                                     0.0       sim   \n",
       "\n",
       "      escolaridade preço  \n",
       "0  Ensino Superior  3,45  \n",
       "1     Ensino Médio  3,33  \n",
       "2  Ensino Superior  3,23  \n",
       "3  Ensino Superior  3,23  \n",
       "4  Ensino Superior  3,23  "
      ]
     },
     "execution_count": 12,
     "metadata": {},
     "output_type": "execute_result"
    }
   ],
   "source": [
    "novo_df.head(5)"
   ]
  },
  {
   "cell_type": "code",
   "execution_count": 13,
   "metadata": {},
   "outputs": [
    {
     "data": {
      "text/html": [
       "<div>\n",
       "<style scoped>\n",
       "    .dataframe tbody tr th:only-of-type {\n",
       "        vertical-align: middle;\n",
       "    }\n",
       "\n",
       "    .dataframe tbody tr th {\n",
       "        vertical-align: top;\n",
       "    }\n",
       "\n",
       "    .dataframe thead th {\n",
       "        text-align: right;\n",
       "    }\n",
       "</style>\n",
       "<table border=\"1\" class=\"dataframe\">\n",
       "  <thead>\n",
       "    <tr style=\"text-align: right;\">\n",
       "      <th></th>\n",
       "      <th>nome</th>\n",
       "      <th>sobrenome</th>\n",
       "      <th>ano_nascimento</th>\n",
       "      <th>sexo</th>\n",
       "      <th>cidade</th>\n",
       "      <th>profissão</th>\n",
       "      <th>experiencia profissional</th>\n",
       "      <th>estado_civil</th>\n",
       "      <th>filhos</th>\n",
       "      <th>lazer_final_de_semana</th>\n",
       "      <th>pratica_esporte</th>\n",
       "      <th>qual_esporte</th>\n",
       "      <th>quanta_vezes_na_semana_pratica_esporte</th>\n",
       "      <th>tem carro</th>\n",
       "      <th>escolaridade</th>\n",
       "    </tr>\n",
       "  </thead>\n",
       "  <tbody>\n",
       "    <tr>\n",
       "      <th>2</th>\n",
       "      <td>Adalberto</td>\n",
       "      <td>Martins</td>\n",
       "      <td>1990</td>\n",
       "      <td>m</td>\n",
       "      <td>São Paulo</td>\n",
       "      <td>desempregado</td>\n",
       "      <td>0</td>\n",
       "      <td>Solteiro</td>\n",
       "      <td>1</td>\n",
       "      <td>jogar bola</td>\n",
       "      <td>sim</td>\n",
       "      <td>jogo bola</td>\n",
       "      <td>2.0</td>\n",
       "      <td>sim</td>\n",
       "      <td>Ensino Superior</td>\n",
       "    </tr>\n",
       "    <tr>\n",
       "      <th>23</th>\n",
       "      <td>Artur</td>\n",
       "      <td>Vidal</td>\n",
       "      <td>1988</td>\n",
       "      <td>m</td>\n",
       "      <td>Espirito Santo</td>\n",
       "      <td>Frentista</td>\n",
       "      <td>2</td>\n",
       "      <td>Divorciada</td>\n",
       "      <td>3</td>\n",
       "      <td>jogo bola</td>\n",
       "      <td>sim</td>\n",
       "      <td>jobo bola</td>\n",
       "      <td>5.0</td>\n",
       "      <td>não</td>\n",
       "      <td>ensino médio</td>\n",
       "    </tr>\n",
       "    <tr>\n",
       "      <th>20</th>\n",
       "      <td>Bruno</td>\n",
       "      <td>Amargo</td>\n",
       "      <td>1996</td>\n",
       "      <td>m</td>\n",
       "      <td>Minas Gerais</td>\n",
       "      <td>Pedreiro</td>\n",
       "      <td>3</td>\n",
       "      <td>Casado</td>\n",
       "      <td>1</td>\n",
       "      <td>jogo bola</td>\n",
       "      <td>sim</td>\n",
       "      <td>jogo bola</td>\n",
       "      <td>NaN</td>\n",
       "      <td>nao</td>\n",
       "      <td>ensino Médio</td>\n",
       "    </tr>\n",
       "    <tr>\n",
       "      <th>10</th>\n",
       "      <td>Camila</td>\n",
       "      <td>Sousa</td>\n",
       "      <td>2003</td>\n",
       "      <td>f</td>\n",
       "      <td>Rio Grande do Sul</td>\n",
       "      <td>estudante</td>\n",
       "      <td>2</td>\n",
       "      <td>Solteira</td>\n",
       "      <td>1</td>\n",
       "      <td>leitura e ficar com minha filha</td>\n",
       "      <td>sim</td>\n",
       "      <td>natação</td>\n",
       "      <td>3.0</td>\n",
       "      <td>não</td>\n",
       "      <td>Ensino Superior</td>\n",
       "    </tr>\n",
       "  </tbody>\n",
       "</table>\n",
       "</div>"
      ],
      "text/plain": [
       "         nome sobrenome  ano_nascimento sexo             cidade     profissão  \\\n",
       "2   Adalberto   Martins            1990    m          São Paulo  desempregado   \n",
       "23      Artur     Vidal            1988    m     Espirito Santo     Frentista   \n",
       "20      Bruno    Amargo            1996    m       Minas Gerais      Pedreiro   \n",
       "10     Camila     Sousa            2003    f  Rio Grande do Sul     estudante   \n",
       "\n",
       "    experiencia profissional estado_civil  filhos  \\\n",
       "2                          0     Solteiro       1   \n",
       "23                         2   Divorciada       3   \n",
       "20                         3       Casado       1   \n",
       "10                         2     Solteira       1   \n",
       "\n",
       "              lazer_final_de_semana pratica_esporte qual_esporte  \\\n",
       "2                        jogar bola             sim    jogo bola   \n",
       "23                        jogo bola             sim    jobo bola   \n",
       "20                        jogo bola             sim    jogo bola   \n",
       "10  leitura e ficar com minha filha             sim      natação   \n",
       "\n",
       "    quanta_vezes_na_semana_pratica_esporte tem carro     escolaridade  \n",
       "2                                      2.0       sim  Ensino Superior  \n",
       "23                                     5.0       não     ensino médio  \n",
       "20                                     NaN       nao     ensino Médio  \n",
       "10                                     3.0       não  Ensino Superior  "
      ]
     },
     "execution_count": 13,
     "metadata": {},
     "output_type": "execute_result"
    }
   ],
   "source": [
    "cadastro_df.sort_values(by='nome').head(4)"
   ]
  }
 ],
 "metadata": {
  "kernelspec": {
   "display_name": "Python 3",
   "language": "python",
   "name": "python3"
  },
  "language_info": {
   "codemirror_mode": {
    "name": "ipython",
    "version": 3
   },
   "file_extension": ".py",
   "mimetype": "text/x-python",
   "name": "python",
   "nbconvert_exporter": "python",
   "pygments_lexer": "ipython3",
   "version": "3.8.3"
  }
 },
 "nbformat": 4,
 "nbformat_minor": 4
}
