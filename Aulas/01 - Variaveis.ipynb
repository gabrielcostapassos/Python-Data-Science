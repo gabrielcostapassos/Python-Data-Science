{
 "cells": [
  {
   "cell_type": "markdown",
   "metadata": {},
   "source": [
    "<center><h2>Basico de Python (Variaveis)\n",
    "</center>"
   ]
  },
  {
   "cell_type": "markdown",
   "metadata": {},
   "source": [
    "<b>Variáveis: </b>servem como nomes simbólicos que indicam unidades de armazenamento em um programa ou sequência lógica.<br/>\n",
    "\n",
    "A variável, em python, é caracterizada por:<br/>\n",
    "• Nome (rótulo)<br/>\n",
    "• Tipo (domínio)<br/>\n",
    "• Valor (conteúdo) <br/>\n",
    "\n",
    "<b>Exemplo: </b>\n",
    "<br/>\n",
    "variavel = conteúdo\n"
   ]
  },
  {
   "cell_type": "markdown",
   "metadata": {},
   "source": [
    "Assim como em outras linguagens de programação, o python aceita declaração de variaveis, para Strings(palavras ou cadeias de caracteres), inteiros e reais (float).<br/>\n",
    "\n",
    "Exemplo:"
   ]
  },
  {
   "cell_type": "code",
   "execution_count": 1,
   "metadata": {},
   "outputs": [],
   "source": [
    "mensagem = \"eu sou seu professor\""
   ]
  },
  {
   "cell_type": "code",
   "execution_count": 2,
   "metadata": {},
   "outputs": [
    {
     "name": "stdout",
     "output_type": "stream",
     "text": [
      "eu sou seu professor\n"
     ]
    }
   ],
   "source": [
    "print(mensagem)"
   ]
  },
  {
   "cell_type": "code",
   "execution_count": 4,
   "metadata": {},
   "outputs": [],
   "source": [
    "idade = 32"
   ]
  },
  {
   "cell_type": "code",
   "execution_count": 5,
   "metadata": {},
   "outputs": [],
   "source": [
    "ano_nascimento = 1985"
   ]
  },
  {
   "cell_type": "code",
   "execution_count": 9,
   "metadata": {},
   "outputs": [
    {
     "name": "stdout",
     "output_type": "stream",
     "text": [
      "2.0\n"
     ]
    }
   ],
   "source": [
    "valor1 = 1.0\n",
    "valor2 = 2.0\n",
    "\n",
    "resultado_dividsao = valor1 * valor2\n",
    "print(resultado_dividsao)"
   ]
  },
  {
   "cell_type": "code",
   "execution_count": 12,
   "metadata": {},
   "outputs": [],
   "source": [
    "def calculadora(valor1, valor2, calc):\n",
    "    resultado = 0\n",
    "    if(calc == 'soma'):\n",
    "        resultado = valor1 + valor2\n",
    "    else:\n",
    "        resultado = valor1 - valor2\n",
    "    return resultado"
   ]
  },
  {
   "cell_type": "code",
   "execution_count": 13,
   "metadata": {},
   "outputs": [
    {
     "data": {
      "text/plain": [
       "3"
      ]
     },
     "execution_count": 13,
     "metadata": {},
     "output_type": "execute_result"
    }
   ],
   "source": [
    "calculadora(5,2,'romario')"
   ]
  },
  {
   "cell_type": "code",
   "execution_count": 14,
   "metadata": {},
   "outputs": [],
   "source": [
    "idade = 2020 - ano_nascimento"
   ]
  },
  {
   "cell_type": "code",
   "execution_count": 15,
   "metadata": {},
   "outputs": [
    {
     "data": {
      "text/plain": [
       "35"
      ]
     },
     "execution_count": 15,
     "metadata": {},
     "output_type": "execute_result"
    }
   ],
   "source": [
    "idade"
   ]
  },
  {
   "cell_type": "code",
   "execution_count": 16,
   "metadata": {},
   "outputs": [],
   "source": [
    "custo_material = 32.4"
   ]
  },
  {
   "cell_type": "code",
   "execution_count": 17,
   "metadata": {},
   "outputs": [
    {
     "data": {
      "text/plain": [
       "32.4"
      ]
     },
     "execution_count": 17,
     "metadata": {},
     "output_type": "execute_result"
    }
   ],
   "source": [
    "custo_material"
   ]
  },
  {
   "cell_type": "code",
   "execution_count": 18,
   "metadata": {},
   "outputs": [],
   "source": [
    "verdadeiro_falso = True"
   ]
  },
  {
   "cell_type": "markdown",
   "metadata": {},
   "source": [
    "Como convenção de <b>padrão de nomenclatura de variaveis</b> e para melhor <b>leitura</b> de seu programa. Variaveis começam sempre com letras minusculas. Se o nome da sua variavel for composta, voce pode declarar de duas formas: <br/>\n",
    "\n",
    "1- ) como camelcase: \n",
    "custoMaterial\n",
    "\n",
    "2- ) com uso de _\n",
    "custo_material"
   ]
  },
  {
   "cell_type": "code",
   "execution_count": 12,
   "metadata": {},
   "outputs": [],
   "source": [
    "custo_material = 32.4"
   ]
  },
  {
   "cell_type": "markdown",
   "metadata": {},
   "source": [
    "As palavras reservadas definem as regras de sintaxe e estrutura da linguagem, e elas <b>NÃO</b> podem ser usadas como nomes de variáveis. Python tem aproximadamente 30 palavras reservadas (e esse número pode variar, à medida em que a linguagem evolui):"
   ]
  },
  {
   "cell_type": "markdown",
   "metadata": {},
   "source": [
    "<table style=\"width:100%\">\n",
    "  <tr>\n",
    "    <td>False</td>\n",
    "    <td>None</td> \n",
    "    <td>True</td>\n",
    "    <td>and</td>\n",
    "    <td>as</td>\n",
    "    <td>assert</td>\n",
    "    <td>break</td>\n",
    "  </tr>\n",
    "  <tr>\n",
    "    <td>class</td>\n",
    "    <td>continue</td> \n",
    "    <td>def</td>\n",
    "    <td>del</td>\n",
    "    <td>elif</td>\n",
    "    <td>else</td>\n",
    "    <td>except</td>\n",
    "  </tr>\n",
    "  <tr>\n",
    "    <td>finally</td>\n",
    "    <td>for</td> \n",
    "    <td>from</td>\n",
    "    <td>global</td>\n",
    "    <td>if</td>\n",
    "    <td>import</td>\n",
    "    <td>in</td>\n",
    "  </tr>\n",
    "  <tr>\n",
    "    <td>is</td>\n",
    "    <td>lambda</td> \n",
    "    <td>nonlocal</td>\n",
    "    <td>not</td>\n",
    "    <td>or</td>\n",
    "    <td>pass</td>\n",
    "    <td>raise</td>\n",
    "  </tr>\n",
    "  <tr>\n",
    "    <td>return</td>\n",
    "    <td>try</td> \n",
    "    <td>wihle</td>\n",
    "    <td>with</td>\n",
    "    <td>yield</td>\n",
    "    <td></td>\n",
    "    <td></td>\n",
    "  </tr>\n",
    "</table>"
   ]
  },
  {
   "cell_type": "markdown",
   "metadata": {},
   "source": [
    "<i><b>Exemplo, erro com palavra reservada:</b><i/>"
   ]
  },
  {
   "cell_type": "code",
   "execution_count": 21,
   "metadata": {},
   "outputs": [
    {
     "ename": "SyntaxError",
     "evalue": "invalid syntax (<ipython-input-21-57d8cc0f00aa>, line 1)",
     "output_type": "error",
     "traceback": [
      "\u001b[1;36m  File \u001b[1;32m\"<ipython-input-21-57d8cc0f00aa>\"\u001b[1;36m, line \u001b[1;32m1\u001b[0m\n\u001b[1;33m    class = False\u001b[0m\n\u001b[1;37m          ^\u001b[0m\n\u001b[1;31mSyntaxError\u001b[0m\u001b[1;31m:\u001b[0m invalid syntax\n"
     ]
    }
   ],
   "source": [
    "class = False"
   ]
  },
  {
   "cell_type": "markdown",
   "metadata": {},
   "source": [
    "A grande pergunta que todos se fazem, quando inicial o estudo de python é: \"onde declaro o tipo da minha variavel ?\"<br/>\n",
    "\n",
    "O Python é o que chamamos de linguagem, fortemente tipada ou seja <b>NÃO</b> precisa declarar o seu tipo."
   ]
  },
  {
   "cell_type": "markdown",
   "metadata": {},
   "source": [
    "O JAVA, C, C++ e dotNet necessitam que declare seu tipo, são chamadas de linguagens estaticamente tipada.\n",
    "\n",
    "Exemplo:\n",
    "    \n",
    "    #include <stdio.h>\n",
    "    int main(){\n",
    "        int i = 10, j =20;\n",
    "        printf(\"O resultado é:\" %d\\n\", i+j)\n",
    "    }\n",
    "               \n",
    "Se voce executar esse código em C, terá o resutlado 30."
   ]
  },
  {
   "cell_type": "markdown",
   "metadata": {},
   "source": [
    "Agora que já entendemos, como funciona declaração de variaveis no python. Vamos fazer alguns exercicios:"
   ]
  },
  {
   "cell_type": "markdown",
   "metadata": {},
   "source": [
    "1-) Escreva uma calculadora em python."
   ]
  },
  {
   "cell_type": "code",
   "execution_count": 22,
   "metadata": {},
   "outputs": [
    {
     "name": "stdin",
     "output_type": "stream",
     "text": [
      "escreva um valor 1 -  10\n"
     ]
    }
   ],
   "source": [
    "valor1 = int(input('escreva um valor 1 - '))"
   ]
  },
  {
   "cell_type": "code",
   "execution_count": 28,
   "metadata": {},
   "outputs": [
    {
     "name": "stdout",
     "output_type": "stream",
     "text": [
      "escreva um valor - 2 - 4\n"
     ]
    }
   ],
   "source": [
    "valor2 = int(input('escreva um valor - 2 - '))"
   ]
  },
  {
   "cell_type": "code",
   "execution_count": 26,
   "metadata": {},
   "outputs": [
    {
     "name": "stdout",
     "output_type": "stream",
     "text": [
      "Soma:  12.0\n",
      "Subtração:  8.0\n",
      "Multiplicação:  20.0\n",
      "Divisão:  5.0\n",
      "Módulo:  0.0\n"
     ]
    }
   ],
   "source": [
    "calculadora = valor1 + valor2\n",
    "print(\"Soma: \",calculadora)\n",
    "calculadora = valor1 - valor2\n",
    "print(\"Subtração: \",calculadora)\n",
    "calculadora = valor1 * valor2\n",
    "print(\"Multiplicação: \",calculadora)\n",
    "calculadora = valor1 / valor2\n",
    "print(\"Divisão: \",calculadora)\n",
    "calculadora = valor1 % valor2\n",
    "print(\"Módulo: \",calculadora)"
   ]
  },
  {
   "cell_type": "code",
   "execution_count": 30,
   "metadata": {},
   "outputs": [
    {
     "data": {
      "text/plain": [
       "9"
      ]
     },
     "execution_count": 30,
     "metadata": {},
     "output_type": "execute_result"
    }
   ],
   "source": [
    "calculadora"
   ]
  },
  {
   "cell_type": "code",
   "execution_count": 20,
   "metadata": {},
   "outputs": [
    {
     "data": {
      "text/plain": [
       "2.2900763358778624"
      ]
     },
     "execution_count": 20,
     "metadata": {},
     "output_type": "execute_result"
    }
   ],
   "source": [
    "300/131"
   ]
  },
  {
   "cell_type": "markdown",
   "metadata": {},
   "source": [
    "+ -> soma\n",
    "- -> subtracao\n",
    "/ -> quociente\n",
    "* -> multiplicacao\n",
    "% -> resto"
   ]
  },
  {
   "cell_type": "code",
   "execution_count": 28,
   "metadata": {},
   "outputs": [],
   "source": [
    "variavel1 = 8\n",
    "variavel2 = 9"
   ]
  },
  {
   "cell_type": "code",
   "execution_count": 29,
   "metadata": {},
   "outputs": [],
   "source": [
    "resultado = variavel1 + variavel2"
   ]
  },
  {
   "cell_type": "code",
   "execution_count": 30,
   "metadata": {},
   "outputs": [
    {
     "data": {
      "text/plain": [
       "17"
      ]
     },
     "execution_count": 30,
     "metadata": {},
     "output_type": "execute_result"
    }
   ],
   "source": [
    "resultado"
   ]
  },
  {
   "cell_type": "code",
   "execution_count": 31,
   "metadata": {},
   "outputs": [
    {
     "name": "stdout",
     "output_type": "stream",
     "text": [
      "17\n"
     ]
    }
   ],
   "source": [
    "print (resultado)"
   ]
  },
  {
   "cell_type": "code",
   "execution_count": 32,
   "metadata": {},
   "outputs": [],
   "source": [
    "texto = \"hoje é sexta feira\""
   ]
  },
  {
   "cell_type": "code",
   "execution_count": 33,
   "metadata": {},
   "outputs": [
    {
     "data": {
      "text/plain": [
       "'hoje é sexta feira'"
      ]
     },
     "execution_count": 33,
     "metadata": {},
     "output_type": "execute_result"
    }
   ],
   "source": [
    "texto"
   ]
  },
  {
   "cell_type": "code",
   "execution_count": 34,
   "metadata": {},
   "outputs": [],
   "source": [
    "salario = 13.555"
   ]
  },
  {
   "cell_type": "code",
   "execution_count": 35,
   "metadata": {},
   "outputs": [],
   "source": [
    "sal_bonus = salario * 2"
   ]
  },
  {
   "cell_type": "code",
   "execution_count": 36,
   "metadata": {},
   "outputs": [
    {
     "data": {
      "text/plain": [
       "27.11"
      ]
     },
     "execution_count": 36,
     "metadata": {},
     "output_type": "execute_result"
    }
   ],
   "source": [
    "sal_bonus"
   ]
  }
 ],
 "metadata": {
  "kernelspec": {
   "display_name": "Python 3",
   "language": "python",
   "name": "python3"
  },
  "language_info": {
   "codemirror_mode": {
    "name": "ipython",
    "version": 3
   },
   "file_extension": ".py",
   "mimetype": "text/x-python",
   "name": "python",
   "nbconvert_exporter": "python",
   "pygments_lexer": "ipython3",
   "version": "3.8.3"
  }
 },
 "nbformat": 4,
 "nbformat_minor": 4
}
