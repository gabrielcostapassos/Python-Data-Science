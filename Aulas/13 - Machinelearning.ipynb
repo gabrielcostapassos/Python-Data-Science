{
 "cells": [
  {
   "cell_type": "markdown",
   "metadata": {},
   "source": [
    "<center><h1>Machine learning</center></h1>\n",
    "\n",
    "Por ultimo, mas um dos caras que os senhores mais irão usa. Vamos falar de machine learning.\n",
    "\n",
    "<font color='red'>NÃO FIQUEM APREENCIVOS AGORA, EM APRENDER MACHINE LEARNING!!!!</font>\n",
    "\n",
    "Nossa ideia nesse material é apensar aos senhores e senhoras, algumas das principais bibliotecas em python que irão nos ajudar nessa empreentada.\n",
    "\n",
    "Existem diversas bibliotecas disponiveis para machine learning.\n",
    "<ul>scikit - https://scikit-learn.org/stable/</ul>\n",
    "<ul>tensorflow - https://www.tensorflow.org/</ul>\n",
    "<ul>pytorch - https://pytorch.org//</ul>\n",
    "<ul>keras - https://keras.io/</ul>\n",
    "<ul>nltk - https://www.nltk.org/</ul>\n",
    "\n",
    "Para nossos estudos agora, vamos apenas se concentrar no scikit-learn. O principal por motivo é por ela ser simples e bem completa, não só para a parte de algoritmos de machine  learning mas também para a parte de processamento dos dados e preparo."
   ]
  },
  {
   "cell_type": "code",
   "execution_count": 5,
   "metadata": {},
   "outputs": [
    {
     "name": "stderr",
     "output_type": "stream",
     "text": [
      "/Users/thiagorolemberg/opt/anaconda3/lib/python3.7/site-packages/sklearn/linear_model/_logistic.py:940: ConvergenceWarning: lbfgs failed to converge (status=1):\n",
      "STOP: TOTAL NO. of ITERATIONS REACHED LIMIT.\n",
      "\n",
      "Increase the number of iterations (max_iter) or scale the data as shown in:\n",
      "    https://scikit-learn.org/stable/modules/preprocessing.html\n",
      "Please also refer to the documentation for alternative solver options:\n",
      "    https://scikit-learn.org/stable/modules/linear_model.html#logistic-regression\n",
      "  extra_warning_msg=_LOGISTIC_SOLVER_CONVERGENCE_MSG)\n"
     ]
    },
    {
     "data": {
      "text/plain": [
       "0.97"
      ]
     },
     "execution_count": 5,
     "metadata": {},
     "output_type": "execute_result"
    }
   ],
   "source": [
    "#regressão linear\n",
    "\n",
    "from sklearn.datasets import load_iris\n",
    "from sklearn.linear_model import LogisticRegression\n",
    "X, y = load_iris(return_X_y=True)\n",
    "clf = LogisticRegression(random_state=0)\n",
    "clf.fit(X, y)\n",
    "clf.predict(X[:2, :])\n",
    "clf.predict_proba(X[:2, :])\n",
    "\n",
    "round(clf.score(X, y),2)"
   ]
  },
  {
   "cell_type": "code",
   "execution_count": 9,
   "metadata": {},
   "outputs": [
    {
     "name": "stdout",
     "output_type": "stream",
     "text": [
      "[1 1 1 0 0 0]\n"
     ]
    }
   ],
   "source": [
    "#cluster k-means\n",
    "from sklearn.cluster import KMeans\n",
    "import numpy as np\n",
    "X = np.array([[1, 2], [1, 4], [1, 0], [10, 2], [10, 4], [10, 0]])\n",
    "kmeans = KMeans(n_clusters=2, random_state=0).fit(X)\n",
    "print(kmeans.labels_)\n",
    "\n"
   ]
  },
  {
   "cell_type": "code",
   "execution_count": null,
   "metadata": {},
   "outputs": [],
   "source": []
  }
 ],
 "metadata": {
  "kernelspec": {
   "display_name": "Python 3",
   "language": "python",
   "name": "python3"
  },
  "language_info": {
   "codemirror_mode": {
    "name": "ipython",
    "version": 3
   },
   "file_extension": ".py",
   "mimetype": "text/x-python",
   "name": "python",
   "nbconvert_exporter": "python",
   "pygments_lexer": "ipython3",
   "version": "3.8.3"
  }
 },
 "nbformat": 4,
 "nbformat_minor": 4
}
