{
 "cells": [
  {
   "cell_type": "markdown",
   "metadata": {},
   "source": [
    "<b>Classes (Orientação Objeto)</br>\n",
    "\n",
    "Classes proporcionam uma forma de organizar dados e funcionalidades juntos. Criar uma nova classe cria um novo “tipo” de objeto, permitindo que novas “instâncias” desse tipo sejam produzidas. Cada instância da classe pode ter atributos anexados a ela, para manter seu estado. Instâncias da classe também podem ter métodos (definidos pela classe) para modificar seu estado.\n",
    "\n",
    "Segundo a documentação do Python e o video Python para Zumbis, uma classe associa dados (atributos) e operações (métodos) numa só estrutura. Um objeto é uma instância de uma classe. Ou seja, uma representação da classe. Por exemplo, Regis é uma instância de uma classe chamada Pessoa, mas a Pessoa é a classe que o representa de uma forma genérica. Se você criar um outro objeto chamado Fabio, esse objeto também será uma instancia da classe Pessoa."
   ]
  },
  {
   "cell_type": "markdown",
   "metadata": {},
   "source": [
    "<b>Objetos</b>\n",
    "\n",
    "Objetos têm individualidade, e vários nomes (em diferentes escopos) podem ser vinculados a um mesmo objeto. Isso é chamado de apelidamento em outras linguagens. Geralmente, esta característica não é muito apreciada, e pode ser ignorada com segurança ao lidar com tipos imutáveis (números, strings, tuplas). Entretanto, apelidamento pode ter um efeito surpreendente na semântica do código Python envolvendo objetos mutáveis como listas, dicionários e a maioria dos outros tipos. Isso pode ser usado em benefício do programa, porque os apelidos funcionam de certa forma como ponteiros. Por exemplo, passar um objeto como argumento é barato, pois só um ponteiro é passado na implementação; e se uma função modifica um objeto passado como argumento, o invocador verá a mudança — isso elimina a necessidade de ter dois mecanismos de passagem de parâmetros como em Pascal"
   ]
  },
  {
   "cell_type": "markdown",
   "metadata": {},
   "source": [
    "<b>O que é uma classe ?</b>"
   ]
  },
  {
   "cell_type": "markdown",
   "metadata": {},
   "source": [
    "A classe representa uma abstração de um determinado objeto da vida real.\n",
    "\n",
    "Exemplo:"
   ]
  },
  {
   "cell_type": "code",
   "execution_count": null,
   "metadata": {},
   "outputs": [],
   "source": [
    "class Pessoa:\n",
    "    def __init__(self):\n",
    "        print(\"uma classe\")\n",
    "p = Pessoa()"
   ]
  },
  {
   "cell_type": "markdown",
   "metadata": {},
   "source": [
    "Vamos agora dissecar, tudo para criar uma classe:\n",
    "\n",
    "Quando temos que criar uma classe, ela sempre começa com a palavra reservada <font size= 4, color = 'green'>class</font>\n",
    "\n",
    "<b>Exemplo:</b>\n",
    "\n",
    "<font size= 4, color = 'green'>class</font> Pessoa:\n"
   ]
  },
  {
   "cell_type": "markdown",
   "metadata": {},
   "source": [
    "<b><font size= 4, color = 'red'>Importante!!!</font></b> Lembrar que para funcionar toda classe precisa ter um corpo"
   ]
  },
  {
   "cell_type": "markdown",
   "metadata": {},
   "source": [
    "<b>Construtor:</b> Toda classe tem um contrutor. Um construtor é um metodo, que iniciar as informações dentro de uma classe. No python o construtor inicial é feito da seguinte forma: def __init__(self):\n",
    "\n",
    "Na classe Pessoa, temos um exemplo de construtor."
   ]
  },
  {
   "cell_type": "markdown",
   "metadata": {},
   "source": [
    "<b>Metodo:<b/> Um metodo é uma função que vai agir como uma ação que o objeto irá executar. Exemplo: def set_nome(self, nome)\n",
    "\n",
    "No exemplo, o metodo set esta setando um nome para o objeto pessoa. "
   ]
  },
  {
   "cell_type": "code",
   "execution_count": 136,
   "metadata": {},
   "outputs": [
    {
     "name": "stdout",
     "output_type": "stream",
     "text": [
      "construindo uma classe\n",
      "thiago\n"
     ]
    }
   ],
   "source": [
    "#exemplo de metodo\n",
    "\n",
    "class Pessoa:\n",
    "    \n",
    "    nome = ''\n",
    "    \n",
    "    def __init__(self):\n",
    "        print(\"construindo uma classe\")\n",
    "        \n",
    "    def setNome(self, nome):\n",
    "        self.nome = nome\n",
    "    \n",
    "    def getNome(self):\n",
    "        return self.nome\n",
    "p = Pessoa()\n",
    "p.setNome('thiago')\n",
    "print(p.getNome())"
   ]
  },
  {
   "cell_type": "code",
   "execution_count": 5,
   "metadata": {},
   "outputs": [
    {
     "name": "stdout",
     "output_type": "stream",
     "text": [
      "construindo uma classe\n",
      "thiago\n",
      "35\n"
     ]
    }
   ],
   "source": [
    "class Pessoa:\n",
    "    ano_atual = 0\n",
    "    ano_nasc = 0\n",
    "    nome = ''\n",
    "    \n",
    "    def __init__(self):\n",
    "        print(\"construindo uma classe\")\n",
    "        \n",
    "    def setNome(self, nome):\n",
    "        self.nome = nome\n",
    "    \n",
    "    def getNome(self):\n",
    "        return self.nome\n",
    "    \n",
    "    def setAnoAtual(self, ano_atual):\n",
    "        self.ano_atual = ano_atual\n",
    "    \n",
    "    def setAnoNasc(self, ano_nasc):\n",
    "        self.ano_nasc = ano_nasc\n",
    "    \n",
    "    def getIdade(self):\n",
    "        return self.ano_atual - self.ano_nasc\n",
    "p = Pessoa()\n",
    "p.setNome('thiago')\n",
    "p.setAnoAtual(2020)\n",
    "p.setAnoNasc(1985)\n",
    "print(p.getNome())\n",
    "print(p.getIdade())"
   ]
  },
  {
   "cell_type": "markdown",
   "metadata": {},
   "source": [
    "<b>self:</b> Frequentemente, o primeiro argumento de um método é chamado self. Isso não passa de uma convenção: o identificador self não é uma palavra reservada nem possui qualquer significado especial em Python. Mas note que, ao seguir essa convenção, seu código se torna legível por uma grande comunidade de desenvolvedores Python e é possível que alguma IDE dependa dessa convenção para analisar seu código."
   ]
  },
  {
   "cell_type": "markdown",
   "metadata": {},
   "source": [
    "Exercicio: \n",
    "Crie uma classe chamada Veiculo, com atributos porta, cor, roda.\n",
    "5 porta, cor rosa, 4 rodas"
   ]
  },
  {
   "cell_type": "code",
   "execution_count": 137,
   "metadata": {},
   "outputs": [
    {
     "name": "stdout",
     "output_type": "stream",
     "text": [
      "Meu carro tem 5 portas, na cor rosa , com 4 rodas\n",
      "Meu carro tem 0 portas, na cor marrom , com 3 rodas\n",
      "A nova cor é Azul\n"
     ]
    }
   ],
   "source": [
    "class Veiculo():\n",
    "    porta = 0\n",
    "    cor = ''\n",
    "    roda = 0\n",
    "    \n",
    "    def __init__(self,porta,cor, roda):\n",
    "        self.porta = porta\n",
    "        self.cor = cor\n",
    "        self.roda = roda\n",
    "        print('Meu carro tem',porta,'portas, na cor', cor,', com',roda,'rodas')\n",
    "    \n",
    "    def mudarCor(self, nova_cor):\n",
    "        self.cor = nova_cor\n",
    "        \n",
    "    def imprimeCor(self):\n",
    "        print('A nova cor é', self.cor)\n",
    "    \n",
    "veiculo = Veiculo(5,'rosa',4)\n",
    "flingston = Veiculo(0,'marrom', 3)\n",
    "veiculo.mudarCor('Azul')\n",
    "veiculo.imprimeCor()"
   ]
  },
  {
   "cell_type": "code",
   "execution_count": 138,
   "metadata": {},
   "outputs": [],
   "source": [
    "class Calculadora:\n",
    "    \n",
    "    valor1 = 0\n",
    "    valor2 = 0\n",
    "    \n",
    "    def __init__(self):\n",
    "        print()\n",
    "        \n",
    "    def soma(self,valor1, valor2):\n",
    "        soma = valor1 + valor2\n",
    "        return soma\n",
    "        \n",
    "    def subtracao(self,valor1, valor2):\n",
    "        subtracao = valor1 - valor2\n",
    "        return subtracao\n",
    "        \n",
    "    def multiplicacao(self,valor1, valor2):\n",
    "        multiplicacao = valor1 * valor2\n",
    "        return multiplicacao\n",
    "        \n",
    "    def divisao(self,valor1, valor2):\n",
    "        if valor2 > 0:\n",
    "            divisao = valor1 / valor2\n",
    "            return divisao\n",
    "        else:\n",
    "            print('erro')"
   ]
  },
  {
   "cell_type": "code",
   "execution_count": 139,
   "metadata": {},
   "outputs": [
    {
     "name": "stdout",
     "output_type": "stream",
     "text": [
      "\n"
     ]
    },
    {
     "data": {
      "text/plain": [
       "0.8"
      ]
     },
     "execution_count": 139,
     "metadata": {},
     "output_type": "execute_result"
    }
   ],
   "source": [
    "calc =  Calculadora()\n",
    "v1 = calc.soma(2,2)\n",
    "v2 = calc.soma(2,3)\n",
    "v3 = calc.divisao(v1,v2)\n",
    "round(v3,1)"
   ]
  },
  {
   "cell_type": "code",
   "execution_count": 156,
   "metadata": {},
   "outputs": [],
   "source": [
    "class Homem():\n",
    "    \n",
    "    sobe = 0\n",
    "    desce = 0\n",
    "    profundidade = 0\n",
    "    \n",
    "    def __init__(self, profundidade):\n",
    "        self.profundidade = profundidade\n",
    "        print('Iniciando lógica do poço.\\n')\n",
    "        print('O poço tem', profundidade,'metros de profundidade.\\n')\n",
    "    \n",
    "    def dia(self,sobe):\n",
    "        self.sobe = sobe\n",
    "        print(\"Durante o dia o homem sobe\", sobe,'metros.\\n')\n",
    "        \n",
    "    def noite(self,desce):\n",
    "        self.desce = desce\n",
    "        print(\"Durante a noite ele desce\", desce,'metros.\\n')\n",
    "        \n",
    "    def calcPosicao(self):\n",
    "        posicao = 0\n",
    "        dia = 0\n",
    "\n",
    "        while posicao < self.profundidade:\n",
    "            posicao += self.sobe\n",
    "            dia += 1\n",
    "            if posicao < self.profundidade:\n",
    "                posicao += self.desce\n",
    "            print('No dia',dia, 'o homem alcança', posicao, 'metros.\\n')\n",
    "        print(\"O homem conseguiu subir no dia\", dia)"
   ]
  },
  {
   "cell_type": "code",
   "execution_count": 157,
   "metadata": {},
   "outputs": [
    {
     "name": "stdout",
     "output_type": "stream",
     "text": [
      "Iniciando lógica do poço.\n",
      "\n",
      "O poço tem 10 metros de profundidade.\n",
      "\n",
      "Durante o dia o homem sobe 2 metros.\n",
      "\n",
      "Durante a noite ele desce -1 metros.\n",
      "\n",
      "No dia 1 o homem alcança 1 metros.\n",
      "\n",
      "No dia 2 o homem alcança 2 metros.\n",
      "\n",
      "No dia 3 o homem alcança 3 metros.\n",
      "\n",
      "No dia 4 o homem alcança 4 metros.\n",
      "\n",
      "No dia 5 o homem alcança 5 metros.\n",
      "\n",
      "No dia 6 o homem alcança 6 metros.\n",
      "\n",
      "No dia 7 o homem alcança 7 metros.\n",
      "\n",
      "No dia 8 o homem alcança 8 metros.\n",
      "\n",
      "No dia 9 o homem alcança 10 metros.\n",
      "\n",
      "O homem conseguiu subir no dia 9\n"
     ]
    }
   ],
   "source": [
    "poco = Homem(10)\n",
    "poco.dia(2)\n",
    "poco.noite(-1)\n",
    "poco.calcPosicao()"
   ]
  }
 ],
 "metadata": {
  "kernelspec": {
   "display_name": "Python 3",
   "language": "python",
   "name": "python3"
  },
  "language_info": {
   "codemirror_mode": {
    "name": "ipython",
    "version": 3
   },
   "file_extension": ".py",
   "mimetype": "text/x-python",
   "name": "python",
   "nbconvert_exporter": "python",
   "pygments_lexer": "ipython3",
   "version": "3.8.3"
  }
 },
 "nbformat": 4,
 "nbformat_minor": 4
}
