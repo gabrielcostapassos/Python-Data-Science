{
 "cells": [
  {
   "cell_type": "code",
   "execution_count": 1,
   "metadata": {},
   "outputs": [],
   "source": [
    "import numpy as np"
   ]
  },
  {
   "cell_type": "code",
   "execution_count": 10,
   "metadata": {},
   "outputs": [
    {
     "data": {
      "text/plain": [
       "array([2, 3, 4])"
      ]
     },
     "execution_count": 10,
     "metadata": {},
     "output_type": "execute_result"
    }
   ],
   "source": [
    "#create array of 6 random values in 0-100 range.\n",
    "np.random.randint(1,100,6)\n",
    "\n",
    "#reshape the array according to row and column vectors.\n",
    "np.random.randint(1,100,6).reshape(3,2)\n",
    "\n",
    "#create an array of uniform distribution (0,1)\n",
    "np.random.rand(4)\n",
    "\n",
    "#create a 3*3 identity matrix\n",
    "np.eye(3)\n",
    "\n",
    "#create a 3*3 identity matrix\n",
    "np.zeros(3)\n",
    "\n",
    "#create a 5*5 2-d array of zeros\n",
    "np.zeros((5,5))\n",
    "\n",
    "#return standard normal distribution vcenter around zreo.\n",
    "np.random.randn(2,2)\n",
    "\n",
    "# uninitialized\n",
    "np.empty((2,3))\n",
    "\n",
    "# from 0 to a number less than 2 with 0.3 intervals\n",
    "np.arange(0, 2, 0.3)\n",
    "\n",
    "# all element are 1\n",
    "np.ones((2,3,4), dtype=np.int16)\n",
    "\n",
    "# complex array\n",
    "np.array([[1,2],[3,4]], dtype=complex) \n",
    "\n",
    "# two-dimensional array\n",
    "np.array([(1.5,2,3),(4,5,6)])\n",
    "\n",
    "# one-dimensional array\n",
    "np.array([2,3,4])"
   ]
  },
  {
   "cell_type": "code",
   "execution_count": 11,
   "metadata": {},
   "outputs": [
    {
     "data": {
      "text/plain": [
       "1"
      ]
     },
     "execution_count": 11,
     "metadata": {},
     "output_type": "execute_result"
    }
   ],
   "source": [
    "A = np.array([[1,1],[0,1]])\n",
    "B = np.array([[2,0],[3,4]])\n",
    "A+B              #addition of two array\n",
    "np.add(A,B)      #addition of two array\n",
    "A * B            # elementwise product\n",
    "A @ B            # matrix product\n",
    "A.dot(B)         # another matrix product\n",
    "B.T              #Transpose of B array\n",
    "A.flatten()      #form 1-d array\n",
    "B < 3            #Boolean of Matrix B. True for elements less than 3\n",
    "A.sum()          # sum of all elements of A\n",
    "A.sum(axis=0)    # sum of each column\n",
    "A.sum(axis=1)    # sum of each row\n",
    "A.cumsum(axis=1) # cumulative sum along each row\n",
    "A.min()          # min value of all elements\n",
    "A.max()          # max value of all elements\n",
    "np.exp(B)        # exponential\n",
    "np.sqrt(B)       # squre root\n",
    "A.argmin()       #position of min value of elements \n",
    "A.argmax()       #position of max value of elements\n",
    "A[1,1]           #member of a array in (1,1) position"
   ]
  },
  {
   "cell_type": "markdown",
   "metadata": {},
   "source": [
    "Array Slicing"
   ]
  },
  {
   "cell_type": "code",
   "execution_count": 14,
   "metadata": {},
   "outputs": [
    {
     "data": {
      "text/plain": [
       "array([9, 8, 7, 6, 5, 4, 3, 2, 1, 0])"
      ]
     },
     "execution_count": 14,
     "metadata": {},
     "output_type": "execute_result"
    }
   ],
   "source": [
    "x = np.arange(10)\n",
    "x\n",
    "\n",
    "\n",
    "#from start to 4th position\n",
    "x[:5]\n",
    "\n",
    "\n",
    "#from 4th position to end\n",
    "x[4:]\n",
    "\n",
    "\n",
    "#from 4th to 6th position\n",
    "x[4:7]\n",
    "\n",
    "\n",
    "#return elements at even place\n",
    "x[ : : 2]\n",
    "\n",
    "\n",
    "#return elements from first position step by two\n",
    "x[1::2]\n",
    "\n",
    "\n",
    "#reverse the array\n",
    "x[::-1]"
   ]
  },
  {
   "cell_type": "code",
   "execution_count": 6,
   "metadata": {},
   "outputs": [
    {
     "data": {
      "text/plain": [
       "array([[25, 54, 14, 13, 51, 23, 89],\n",
       "       [13, 71,  7, 24, 16, 93, 97],\n",
       "       [78, 83, 61, 86, 28, 73, 19],\n",
       "       [44, 62, 37, 71, 61, 75, 92],\n",
       "       [20, 67, 16, 62, 70, 20, 35]])"
      ]
     },
     "execution_count": 6,
     "metadata": {},
     "output_type": "execute_result"
    }
   ],
   "source": [
    "a = np.random.randint(1,100,35).reshape(5,7)\n",
    "a"
   ]
  },
  {
   "cell_type": "code",
   "execution_count": 8,
   "metadata": {},
   "outputs": [
    {
     "data": {
      "text/plain": [
       "array([[25, 13, 78, 44, 20],\n",
       "       [54, 71, 83, 62, 67],\n",
       "       [14,  7, 61, 37, 16],\n",
       "       [13, 24, 86, 71, 62],\n",
       "       [51, 16, 28, 61, 70],\n",
       "       [23, 93, 73, 75, 20],\n",
       "       [89, 97, 19, 92, 35]])"
      ]
     },
     "execution_count": 8,
     "metadata": {},
     "output_type": "execute_result"
    }
   ],
   "source": [
    "a.T"
   ]
  },
  {
   "cell_type": "code",
   "execution_count": 9,
   "metadata": {},
   "outputs": [
    {
     "data": {
      "text/plain": [
       "1750"
      ]
     },
     "execution_count": 9,
     "metadata": {},
     "output_type": "execute_result"
    }
   ],
   "source": [
    "a.sum()"
   ]
  },
  {
   "cell_type": "code",
   "execution_count": 10,
   "metadata": {},
   "outputs": [
    {
     "data": {
      "text/plain": [
       "array([180, 337, 135, 256, 226, 284, 332])"
      ]
     },
     "execution_count": 10,
     "metadata": {},
     "output_type": "execute_result"
    }
   ],
   "source": [
    "a.sum(axis=0)"
   ]
  },
  {
   "cell_type": "code",
   "execution_count": 11,
   "metadata": {},
   "outputs": [
    {
     "data": {
      "text/plain": [
       "array([269, 321, 428, 442, 290])"
      ]
     },
     "execution_count": 11,
     "metadata": {},
     "output_type": "execute_result"
    }
   ],
   "source": [
    "a.sum(axis=1)"
   ]
  },
  {
   "cell_type": "code",
   "execution_count": 13,
   "metadata": {},
   "outputs": [
    {
     "data": {
      "text/plain": [
       "array([[91, 72, 68, 81, 69],\n",
       "       [77, 99, 77, 82, 32],\n",
       "       [10, 13, 83, 20, 92],\n",
       "       [94, 97, 63, 62, 74],\n",
       "       [36, 95, 26, 70, 22]])"
      ]
     },
     "execution_count": 13,
     "metadata": {},
     "output_type": "execute_result"
    }
   ],
   "source": [
    "b = np.random.randint(1,100,25).reshape(5,5)\n",
    "b"
   ]
  },
  {
   "cell_type": "code",
   "execution_count": 15,
   "metadata": {},
   "outputs": [
    {
     "ename": "ValueError",
     "evalue": "operands could not be broadcast together with shapes (5,7) (5,5) ",
     "output_type": "error",
     "traceback": [
      "\u001b[1;31m---------------------------------------------------------------------------\u001b[0m",
      "\u001b[1;31mValueError\u001b[0m                                Traceback (most recent call last)",
      "\u001b[1;32m<ipython-input-15-8ce765dcfa30>\u001b[0m in \u001b[0;36m<module>\u001b[1;34m\u001b[0m\n\u001b[1;32m----> 1\u001b[1;33m \u001b[0ma\u001b[0m\u001b[1;33m*\u001b[0m\u001b[0mb\u001b[0m\u001b[1;33m\u001b[0m\u001b[1;33m\u001b[0m\u001b[0m\n\u001b[0m",
      "\u001b[1;31mValueError\u001b[0m: operands could not be broadcast together with shapes (5,7) (5,5) "
     ]
    }
   ],
   "source": [
    "a*b\n",
    "#tamanhos diferentes"
   ]
  }
 ],
 "metadata": {
  "kernelspec": {
   "display_name": "Python 3",
   "language": "python",
   "name": "python3"
  },
  "language_info": {
   "codemirror_mode": {
    "name": "ipython",
    "version": 3
   },
   "file_extension": ".py",
   "mimetype": "text/x-python",
   "name": "python",
   "nbconvert_exporter": "python",
   "pygments_lexer": "ipython3",
   "version": "3.8.3"
  }
 },
 "nbformat": 4,
 "nbformat_minor": 4
}
