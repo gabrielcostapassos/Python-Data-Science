{
 "cells": [
  {
   "cell_type": "markdown",
   "metadata": {},
   "source": [
    "<center><h2>Basico de Python (Estrutura de dados)\n",
    "</center>"
   ]
  },
  {
   "cell_type": "markdown",
   "metadata": {},
   "source": [
    "<b>1. Tuplas ou Lista: </b>\n",
    "Uma Tupla é uma sequencia ordenada de zero ou mais referencias de objeto. Assim como as strings, as tuplas também são imutáveis."
   ]
  },
  {
   "cell_type": "code",
   "execution_count": 1,
   "metadata": {},
   "outputs": [],
   "source": [
    "#Exemplo 1.1\n",
    "planeta = \"marte\", \"venus\", \"terra\""
   ]
  },
  {
   "cell_type": "code",
   "execution_count": 2,
   "metadata": {},
   "outputs": [
    {
     "data": {
      "text/plain": [
       "('marte', 'venus', 'terra')"
      ]
     },
     "execution_count": 2,
     "metadata": {},
     "output_type": "execute_result"
    }
   ],
   "source": [
    "planeta"
   ]
  },
  {
   "cell_type": "markdown",
   "metadata": {},
   "source": [
    "caso queira mudar algo na tupla, converta ela em uma lista"
   ]
  },
  {
   "cell_type": "code",
   "execution_count": 3,
   "metadata": {},
   "outputs": [],
   "source": [
    "#exemplo 1.2\n",
    "planetas = list(planeta)"
   ]
  },
  {
   "cell_type": "code",
   "execution_count": 4,
   "metadata": {},
   "outputs": [
    {
     "data": {
      "text/plain": [
       "list"
      ]
     },
     "execution_count": 4,
     "metadata": {},
     "output_type": "execute_result"
    }
   ],
   "source": [
    "type(planetas)"
   ]
  },
  {
   "cell_type": "markdown",
   "metadata": {},
   "source": [
    "1.1 alguns metodos uteis para se usar com listas."
   ]
  },
  {
   "cell_type": "code",
   "execution_count": 5,
   "metadata": {},
   "outputs": [],
   "source": [
    "# exemplo 1.1.1 append(x) - Anexa o item x no final da lista\n",
    "planetas.append(\"plutao\")"
   ]
  },
  {
   "cell_type": "code",
   "execution_count": 6,
   "metadata": {},
   "outputs": [
    {
     "data": {
      "text/plain": [
       "['marte', 'venus', 'terra', 'plutao']"
      ]
     },
     "execution_count": 6,
     "metadata": {},
     "output_type": "execute_result"
    }
   ],
   "source": [
    "planetas"
   ]
  },
  {
   "cell_type": "code",
   "execution_count": 7,
   "metadata": {},
   "outputs": [
    {
     "data": {
      "text/plain": [
       "2"
      ]
     },
     "execution_count": 7,
     "metadata": {},
     "output_type": "execute_result"
    }
   ],
   "source": [
    "# exemplo 1.1.2 count(x) - retorna o número de vezes que o item x ocorreu na lista\n",
    "planetas.append(\"terra\")\n",
    "planetas.count(\"terra\")"
   ]
  },
  {
   "cell_type": "code",
   "execution_count": 8,
   "metadata": {},
   "outputs": [],
   "source": [
    "# exemplo 1.1.3 insert(i,x) - insere o item x dentro da lista na posição de índice int i\n",
    "planetas.insert(0, \"planeta do goku\")"
   ]
  },
  {
   "cell_type": "code",
   "execution_count": 9,
   "metadata": {},
   "outputs": [
    {
     "data": {
      "text/plain": [
       "['planeta do goku', 'marte', 'venus', 'terra', 'plutao', 'terra']"
      ]
     },
     "execution_count": 9,
     "metadata": {},
     "output_type": "execute_result"
    }
   ],
   "source": [
    "planetas"
   ]
  },
  {
   "cell_type": "code",
   "execution_count": 10,
   "metadata": {},
   "outputs": [],
   "source": [
    "#exemplo 1.1.4 remove(x) remove a primeira ocorrencia a partir da esquerda do item x da lista, \n",
    "#ou lança exceção valueerror se x não for encontrado.\n",
    "planetas.remove(\"plutao\")"
   ]
  },
  {
   "cell_type": "code",
   "execution_count": 11,
   "metadata": {},
   "outputs": [
    {
     "data": {
      "text/plain": [
       "['planeta do goku', 'marte', 'venus', 'terra', 'terra']"
      ]
     },
     "execution_count": 11,
     "metadata": {},
     "output_type": "execute_result"
    }
   ],
   "source": [
    "planetas"
   ]
  },
  {
   "cell_type": "code",
   "execution_count": 12,
   "metadata": {},
   "outputs": [
    {
     "ename": "ValueError",
     "evalue": "list.remove(x): x not in list",
     "output_type": "error",
     "traceback": [
      "\u001b[1;31m---------------------------------------------------------------------------\u001b[0m",
      "\u001b[1;31mValueError\u001b[0m                                Traceback (most recent call last)",
      "\u001b[1;32m<ipython-input-12-2527c6d16edc>\u001b[0m in \u001b[0;36m<module>\u001b[1;34m\u001b[0m\n\u001b[1;32m----> 1\u001b[1;33m \u001b[0mplanetas\u001b[0m\u001b[1;33m.\u001b[0m\u001b[0mremove\u001b[0m\u001b[1;33m(\u001b[0m\u001b[1;34m\"vegeta\"\u001b[0m\u001b[1;33m)\u001b[0m\u001b[1;33m\u001b[0m\u001b[1;33m\u001b[0m\u001b[0m\n\u001b[0m",
      "\u001b[1;31mValueError\u001b[0m: list.remove(x): x not in list"
     ]
    }
   ],
   "source": [
    "planetas.remove(\"vegeta\")"
   ]
  },
  {
   "cell_type": "code",
   "execution_count": 13,
   "metadata": {},
   "outputs": [],
   "source": [
    "#exemplo 1.1.5 sort() classifica lista alterando\n",
    "planetas.sort()"
   ]
  },
  {
   "cell_type": "code",
   "execution_count": 14,
   "metadata": {},
   "outputs": [
    {
     "data": {
      "text/plain": [
       "['marte', 'planeta do goku', 'terra', 'terra', 'venus']"
      ]
     },
     "execution_count": 14,
     "metadata": {},
     "output_type": "execute_result"
    }
   ],
   "source": [
    "planetas"
   ]
  },
  {
   "cell_type": "markdown",
   "metadata": {},
   "source": [
    "Observação: se faz muito interessante entender, em python a metodos e atributos, quando se usa () é metodo, se nao tiver é um atributo."
   ]
  },
  {
   "cell_type": "code",
   "execution_count": 15,
   "metadata": {},
   "outputs": [
    {
     "data": {
      "text/plain": [
       "5"
      ]
     },
     "execution_count": 15,
     "metadata": {},
     "output_type": "execute_result"
    }
   ],
   "source": [
    "#exemplo 1.1.6 len(x) o metodo len será muito usado, serve para sabemos o tamanho da lista que estamos trabalhando.\n",
    "len(planetas)"
   ]
  },
  {
   "cell_type": "markdown",
   "metadata": {},
   "source": [
    "<b>Exercicio 1.</b> Hummm interessante, agora que vimos nossa primeira estrutura de dados, vamos fazer um exercicio bem legal.\n",
    "Voce tem uma tupla chamada feira.\n",
    "A feira contém: banana, pera, batata, uva, cebola, alho e açucar.\n",
    "\n",
    "Teu chefe te mandou a feira, e pediu para voce contrar esses produtos, um deles não da para comprar lá remova ele da lista. No caminho ele te ligou mandou voce também comprar maça e cenoura.\n",
    "\n",
    "Ele é mega chato, e mandou voce separar em duas sacolas, o que é fruta e o que é legume e entregar tudo ordenado.\n",
    "\n",
    "<b>feira = \"banana\", \"pera\", \"batata\", \"uva\", \"cebola\", \"alho\", \"açucar\"\"</b>"
   ]
  },
  {
   "cell_type": "code",
   "execution_count": 16,
   "metadata": {},
   "outputs": [
    {
     "name": "stdout",
     "output_type": "stream",
     "text": [
      "('banana', 'pera', 'batata', 'uva', 'cebola', 'alho', 'açucar')\n",
      "<class 'tuple'>\n",
      "['banana', 'pera', 'batata', 'uva', 'cebola', 'alho', 'açucar']\n",
      "['banana', 'pera', 'batata', 'uva', 'cebola', 'alho']\n",
      "['banana', 'pera', 'batata', 'uva', 'cebola', 'alho', 'maçã', 'cenoura']\n",
      "['banana', 'pera', 'uva', 'maçã']\n",
      "['batata', 'cebola', 'alho', 'cenoura']\n",
      "['alho', 'batata', 'cebola', 'cenoura'] ['banana', 'maçã', 'pera', 'uva']\n"
     ]
    }
   ],
   "source": [
    "feira = \"banana\", \"pera\", \"batata\", \"uva\", \"cebola\", \"alho\", \"açucar\"\n",
    "print(feira)\n",
    "print(type(feira))\n",
    "feira = list(feira)\n",
    "print(feira)\n",
    "type(feira)\n",
    "feira.remove(\"açucar\")\n",
    "print(feira)\n",
    "feira.append(\"maçã\")\n",
    "feira.append(\"cenoura\")\n",
    "print(feira)\n",
    "fruta = ['banana','pera','uva','maçã']\n",
    "print(fruta)\n",
    "legume = ['batata','cebola','alho','cenoura']\n",
    "print(legume)\n",
    "fruta.sort()\n",
    "legume.sort()\n",
    "print(legume, fruta)"
   ]
  },
  {
   "cell_type": "markdown",
   "metadata": {},
   "source": [
    "<b>Exercício 2. </b> Lista (4,5,3,4,56,3,2,31,1,7,8,9,0,234,7,8,9). Ordene a lista e mostre os valores repetidos."
   ]
  },
  {
   "cell_type": "code",
   "execution_count": 243,
   "metadata": {},
   "outputs": [
    {
     "name": "stdout",
     "output_type": "stream",
     "text": [
      "[0, 1, 2, 3, 3, 4, 4]\n"
     ]
    }
   ],
   "source": [
    "lista = [4,5,3,4,56,3,2,31,1,7,8,9,0,234,7,8,9]\n",
    "lista_ordenada = []\n",
    "i= 0\n",
    "for listas in lista:\n",
    "    if listas < lista[i]:\n",
    "        lista_ordenada.insert(i,listas)\n",
    "        \n",
    "    elif listas == lista[i]:\n",
    "        lista_ordenada.append(listas)\n",
    "        \n",
    "    #elif listas > lista[i]:\n",
    "\n",
    "print(lista_ordenada)\n"
   ]
  },
  {
   "cell_type": "markdown",
   "metadata": {},
   "source": [
    "<b>2. Dicionários: </b> Chamado de dict, é uma coleção desordenada de zero ou mais pares de chave-valor, no qual as chaves são referencia de objetos que se referem a objetos hashable e os valores são refrencia de objetos referidos a objetos de qualquer tipo. Dicionários são mutáveis; portanto, podemos facilmente adicionar ou remover itens, mas já que eles são desordenados, não possuem noção da posição de índice e, logo, não podem ser fatiados ou receber passos."
   ]
  },
  {
   "cell_type": "code",
   "execution_count": 7,
   "metadata": {},
   "outputs": [],
   "source": [
    "# exemplo 2.1\n",
    "d1 = dict({\"id\": 1948, \"name\": \"Washer\", \"size\": 3})"
   ]
  },
  {
   "cell_type": "code",
   "execution_count": 8,
   "metadata": {},
   "outputs": [
    {
     "data": {
      "text/plain": [
       "{'id': 1948, 'name': 'Washer', 'size': 3}"
      ]
     },
     "execution_count": 8,
     "metadata": {},
     "output_type": "execute_result"
    }
   ],
   "source": [
    "d1"
   ]
  },
  {
   "cell_type": "code",
   "execution_count": 9,
   "metadata": {},
   "outputs": [],
   "source": [
    "dados = ['Thiago', 'Guaruja']"
   ]
  },
  {
   "cell_type": "code",
   "execution_count": 10,
   "metadata": {},
   "outputs": [],
   "source": [
    "d1 = dict({'342453': dados})"
   ]
  },
  {
   "cell_type": "code",
   "execution_count": 11,
   "metadata": {},
   "outputs": [
    {
     "data": {
      "text/plain": [
       "{'342453': ['Thiago', 'Guaruja']}"
      ]
     },
     "execution_count": 11,
     "metadata": {},
     "output_type": "execute_result"
    }
   ],
   "source": [
    "d1"
   ]
  },
  {
   "cell_type": "code",
   "execution_count": 12,
   "metadata": {},
   "outputs": [],
   "source": [
    "#exemplo 2.2 - copy() - cria uma copia do dict\n",
    "dc = d1.copy()"
   ]
  },
  {
   "cell_type": "code",
   "execution_count": 13,
   "metadata": {},
   "outputs": [
    {
     "data": {
      "text/plain": [
       "{'342453': ['Thiago', 'Guaruja']}"
      ]
     },
     "execution_count": 13,
     "metadata": {},
     "output_type": "execute_result"
    }
   ],
   "source": [
    "dc"
   ]
  },
  {
   "cell_type": "code",
   "execution_count": 14,
   "metadata": {},
   "outputs": [
    {
     "name": "stdout",
     "output_type": "stream",
     "text": [
      "None\n"
     ]
    }
   ],
   "source": [
    "#exemplo 2.3 - get(k) -  retorna uma chave do valor associado de k ou None, se k não estiver em dict\n",
    "print(dc.get('name'))"
   ]
  },
  {
   "cell_type": "code",
   "execution_count": 15,
   "metadata": {},
   "outputs": [
    {
     "data": {
      "text/plain": [
       "dict_items([('342453', ['Thiago', 'Guaruja'])])"
      ]
     },
     "execution_count": 15,
     "metadata": {},
     "output_type": "execute_result"
    }
   ],
   "source": [
    "#exemplo 2.4 - items() retorna uma visualização de todas as chaves em dict\n",
    "d1.items()"
   ]
  },
  {
   "cell_type": "code",
   "execution_count": 16,
   "metadata": {},
   "outputs": [
    {
     "name": "stdout",
     "output_type": "stream",
     "text": [
      "('342453', ['Thiago', 'Guaruja'])\n"
     ]
    }
   ],
   "source": [
    "for x in d1.items():\n",
    "    print(x)"
   ]
  },
  {
   "cell_type": "code",
   "execution_count": 17,
   "metadata": {},
   "outputs": [
    {
     "data": {
      "text/plain": [
       "dict_keys(['342453'])"
      ]
     },
     "execution_count": 17,
     "metadata": {},
     "output_type": "execute_result"
    }
   ],
   "source": [
    "#exemplo 2.5 - keys() retorna uma visualização de todas as chaves em dict\n",
    "d1.keys()"
   ]
  },
  {
   "cell_type": "code",
   "execution_count": 18,
   "metadata": {},
   "outputs": [
    {
     "data": {
      "text/plain": [
       "dict_values([['Thiago', 'Guaruja']])"
      ]
     },
     "execution_count": 18,
     "metadata": {},
     "output_type": "execute_result"
    }
   ],
   "source": [
    "#exemplo 2.6 - values() -  retorna uma visualização de todos os valores em dict\n",
    "d1.values()"
   ]
  },
  {
   "cell_type": "code",
   "execution_count": 19,
   "metadata": {},
   "outputs": [
    {
     "name": "stdout",
     "output_type": "stream",
     "text": [
      "['Thiago', 'Guaruja']\n"
     ]
    }
   ],
   "source": [
    "for a in d1.values():\n",
    "    print(a)"
   ]
  },
  {
   "cell_type": "code",
   "execution_count": 20,
   "metadata": {},
   "outputs": [
    {
     "name": "stdout",
     "output_type": "stream",
     "text": [
      "342453\n",
      "['Thiago', 'Guaruja']\n"
     ]
    }
   ],
   "source": [
    "for chave,valor in d1.items():\n",
    "    print(chave)\n",
    "    print(valor)"
   ]
  },
  {
   "cell_type": "markdown",
   "metadata": {},
   "source": [
    "<b>Exercício 2. </b> vamos voltar a feira, crie um dicionario, com os seguintes itens: banana = 0.98, maçã = 7.00, pera = 5.00, cenoura = 3.5\n",
    "Apos montar o dicionario, quero que fa"
   ]
  },
  {
   "cell_type": "code",
   "execution_count": 25,
   "metadata": {},
   "outputs": [
    {
     "data": {
      "text/plain": [
       "[('banana', 0.98), ('cenoura', 3.5), ('maçã', 7.0), ('pera', 5.0)]"
      ]
     },
     "execution_count": 25,
     "metadata": {},
     "output_type": "execute_result"
    }
   ],
   "source": [
    "from operator import itemgetter\n",
    "\n",
    "d_feira = dict({\"banana\":0.98, \"maçã\":7.00, \"pera\":5.00, \"cenoura\":3.50})\n",
    "sorted(d_feira.items(), key=itemgetter(0))"
   ]
  }
 ],
 "metadata": {
  "kernelspec": {
   "display_name": "Python 3",
   "language": "python",
   "name": "python3"
  },
  "language_info": {
   "codemirror_mode": {
    "name": "ipython",
    "version": 3
   },
   "file_extension": ".py",
   "mimetype": "text/x-python",
   "name": "python",
   "nbconvert_exporter": "python",
   "pygments_lexer": "ipython3",
   "version": "3.8.3"
  }
 },
 "nbformat": 4,
 "nbformat_minor": 4
}
